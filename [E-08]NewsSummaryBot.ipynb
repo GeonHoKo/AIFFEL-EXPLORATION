{
 "cells": [
  {
   "cell_type": "markdown",
   "id": "8f60b1e1",
   "metadata": {},
   "source": [
    "# [E-08]News SummaryBot ( 뉴스 요약봇 )\n",
    "_____\n",
    "\n",
    "## 목차\n",
    "### 1. 개요\n",
    "    1.1 들어가기에 앞서\n",
    "    1.2 루브릭 평가기준\n",
    "### 2. 프로젝트: 뉴스기사 요약해보기\n",
    "    2.1 데이터 준비하기\n",
    "    2.2 데이터 전처리 - 데이터 정리\n",
    "    2.3 데이터 전처리 - 훈련데이터 및 테스트데이터 나누기\n",
    "    2.4 데이터 전처리 - 정수 인코딩\n",
    "    2.5 모델 설계 및 훈련\n",
    "    2.6 모델 테스트\n",
    "    2.7 추출적 요약\n",
    "### 3. 결론\n",
    "    3.1 결론\n",
    "    3.2 참조\n",
    "    3.3 회고\n",
    "\n",
    "-----\n"
   ]
  },
  {
   "cell_type": "markdown",
   "id": "1bec319e",
   "metadata": {},
   "source": [
    "## 1. 개요\n",
    "### 1.1 들어가기에 앞서\n",
    "\n",
    "---\n",
    "\n",
    "#### 학습 목표\n",
    "- Extractive/Abstractive summarization 이해하기\n",
    "- 단어장 크기를 줄이는 다양한 text normalization 적용해보기\n",
    "- seq2seq의 성능을 Up시키는 Attention Mechanism 적용하기\n",
    "\n",
    "---\n",
    "\n",
    "#### 노드 Questions\n",
    "##### Q1. RNN은 학습 데이터의 길이가 길어질수록 먼 과거의 정보를 현재에 전달하기 어렵다는 문제가 있다. 이 문제를 해결하기 위해 LSTM과 GRU가 등장했고, 이 둘도 부족해서 어텐션(Attention) 메커니즘이 등장했다. 이 문제의 이름은 무엇인가?\n",
    "\n",
    "- 장기 의존성 문제\n",
    "\n",
    "#### Q2. 구글에서 텍스트 요약을 위해 시도했던 접근법 중에, 텍스트마이닝 분야의 '역문서빈도(IDF)같은' 지표를 활용해 문서 안에서 중요해 보이는 부분을 추출하고 그걸 요약문에 담는 방식을 썼을 때의 문제점은 무엇이었나?\n",
    "\n",
    "- 어색하거나 문법적으로 이상한 결과물을 만드는 문제가 있음\n",
    "\n",
    "#### Q3. 구글은 짧은 문장. 요약문을 생성하는 모델을 딥 러닝을 통해 end-to-end로 설계하도록 했다. 구글이 메일서비스에 적용한 자동 회신(Smart Reply) 기능을 만든 것과 비슷한 딥러닝 기법이기도 한 인코더와 디코더의 구조로 구성된 이 딥 러닝 아키텍처의 이름은 무엇인가?\n",
    "\n",
    "- seq2seq(sequence-to-sequence)\n",
    "\n",
    "---\n",
    "\n",
    "#### 이론 정리\n",
    "\n",
    "###### 텍스트 요약 \n",
    "- 긴 문장을 짧게 요약하는 것인데, 핵심적인 것은 정보 손실 발생 최소화되어야 한다는 점이다. 요약은 **추출적 요약, 추상적 요약** 두 가지로 나눔\n",
    "\n",
    "###### 추출적 요약(Extractive Summarization)\n",
    "- 단어 그대로 원문에서 문장들을 추출하여 요약하는 방식. 단, 꺼내온 문장들의 연결이 자연스럽지 않을 수 있다. 그렇기에 딥러닝보다는 택스트 랭크(TextRank)와 같은 알고리즘으로 이 방법을 사용\n",
    "\n",
    "###### 추상적 요약(Abstractive Summarization)\n",
    "- 원문으로부터 내용이 요약된 새로운 문장을 생성하는 방식. 문장을 분류하는 추출적 요약과는 다르게 자연어 생성의 영역인 셈이다.\n",
    "\n",
    "###### 텍스트 정규화\n",
    "- 텍스트 처리에서 줄임표현이 된 같은 표현을 학습 전에 미리 같은 표현이라고 통일시켜주는 방법\n",
    "\n",
    "---\n",
    "\n",
    "### 1.2 루브릭 평가기준\n",
    "평가문항|상세기준\n",
    "-|-\n",
    "1. Abstractive 모델 구성을 위한 텍스트 전처리 단계가 체계적으로 진행되었다.|분석단계, 정제단계, 정규화와 불용어 제거, 데이터셋 분리, 인코딩 과정이 빠짐없이 체계적으로 진행되었다.\n",
    "2. 텍스트 요약모델이 성공적으로 학습되었음을 확인하였다.|모델학습이 안정적으로 수렴되었음을 그래프를 통해 확인하였으며, 실제 요약문과 유사한 요약문장을 얻을 수 있었다.\n",
    "3. Extractive 요약을 시도해 보고 Abstractive 요약 결과과 함께 비교해 보았다.|두 요약 결과를 문법완성도 측면과 핵심단어 포함 측면으로 나누어 비교분석 결과를 제시하였다."
   ]
  },
  {
   "cell_type": "markdown",
   "id": "5a5420b6",
   "metadata": {},
   "source": [
    "---\n",
    "## 2. 프로젝트: 뉴스기사 요약해보기\n",
    "### 2.1 데이터 준비하기"
   ]
  },
  {
   "cell_type": "code",
   "execution_count": 13,
   "id": "714dd930",
   "metadata": {},
   "outputs": [
    {
     "name": "stderr",
     "output_type": "stream",
     "text": [
      "[nltk_data] Downloading package stopwords to /aiffel/nltk_data...\n",
      "[nltk_data]   Package stopwords is already up-to-date!\n"
     ]
    }
   ],
   "source": [
    "import nltk\n",
    "nltk.download('stopwords')\n",
    "\n",
    "import numpy as np\n",
    "import pandas as pd\n",
    "import os\n",
    "import re\n",
    "import matplotlib.pyplot as plt\n",
    "from nltk.corpus import stopwords\n",
    "from bs4 import BeautifulSoup \n",
    "from tensorflow.keras.preprocessing.text import Tokenizer \n",
    "from tensorflow.keras.preprocessing.sequence import pad_sequences\n",
    "import urllib.request\n",
    "import warnings\n",
    "warnings.filterwarnings(\"ignore\", category=UserWarning, module='bs4')"
   ]
  },
  {
   "cell_type": "markdown",
   "id": "36e2add6",
   "metadata": {},
   "source": [
    "- NLTK 패키지에서 불용어 사전 다운로드\n",
    "- 데이터 전처리를 위한 패키지 불러오기\n"
   ]
  },
  {
   "cell_type": "code",
   "execution_count": 14,
   "id": "d0a60432",
   "metadata": {},
   "outputs": [],
   "source": [
    "import urllib.request\n",
    "urllib.request.urlretrieve(\"https://raw.githubusercontent.com/sunnysai12345/News_Summary/master/news_summary_more.csv\", filename=\"news_summary_more.csv\")\n",
    "data = pd.read_csv('news_summary_more.csv', encoding='iso-8859-1')"
   ]
  },
  {
   "cell_type": "markdown",
   "id": "77f25460",
   "metadata": {},
   "source": [
    "- 다운로드 받은 데이터는 총 568,454개의 샘플\n",
    "- 시간상의 문제로 10만개의 샘플만 사용"
   ]
  },
  {
   "cell_type": "code",
   "execution_count": 17,
   "id": "18c2cdec",
   "metadata": {},
   "outputs": [
    {
     "data": {
      "text/html": [
       "<div>\n",
       "<style scoped>\n",
       "    .dataframe tbody tr th:only-of-type {\n",
       "        vertical-align: middle;\n",
       "    }\n",
       "\n",
       "    .dataframe tbody tr th {\n",
       "        vertical-align: top;\n",
       "    }\n",
       "\n",
       "    .dataframe thead th {\n",
       "        text-align: right;\n",
       "    }\n",
       "</style>\n",
       "<table border=\"1\" class=\"dataframe\">\n",
       "  <thead>\n",
       "    <tr style=\"text-align: right;\">\n",
       "      <th></th>\n",
       "      <th>headlines</th>\n",
       "      <th>text</th>\n",
       "    </tr>\n",
       "  </thead>\n",
       "  <tbody>\n",
       "    <tr>\n",
       "      <th>62582</th>\n",
       "      <td>Makes no difference: Sonakshi on rumour of fig...</td>\n",
       "      <td>Sonakshi Sinha, while speaking about rumours o...</td>\n",
       "    </tr>\n",
       "    <tr>\n",
       "      <th>20223</th>\n",
       "      <td>Tata Sons increase stake in Tata Motors to 33.4%</td>\n",
       "      <td>Tata Sons bought shares of Tata Motors for the...</td>\n",
       "    </tr>\n",
       "    <tr>\n",
       "      <th>39618</th>\n",
       "      <td>Kundra not part of Bitcoin scam, only a witnes...</td>\n",
       "      <td>The spokesperson of Shilpa Shetty's husband Ra...</td>\n",
       "    </tr>\n",
       "    <tr>\n",
       "      <th>5020</th>\n",
       "      <td>'Mahagathbandhan' an alliance for personal sur...</td>\n",
       "      <td>Terming 'Mahagathbandhan' as a club of rich dy...</td>\n",
       "    </tr>\n",
       "    <tr>\n",
       "      <th>2307</th>\n",
       "      <td>CBFC's scissors very small thing for Thackeray...</td>\n",
       "      <td>Amid reports of CBFC raising an objection to t...</td>\n",
       "    </tr>\n",
       "    <tr>\n",
       "      <th>15494</th>\n",
       "      <td>Never expected Hirani to become a great filmma...</td>\n",
       "      <td>Nawazuddin Siddiqui has said he never expected...</td>\n",
       "    </tr>\n",
       "    <tr>\n",
       "      <th>61768</th>\n",
       "      <td>SC dismisses petition filed against release of...</td>\n",
       "      <td>The Supreme Court has dismissed a petition fil...</td>\n",
       "    </tr>\n",
       "    <tr>\n",
       "      <th>57130</th>\n",
       "      <td>World's 1st traffic light blew up a month afte...</td>\n",
       "      <td>The world's first ever traffic lights were ins...</td>\n",
       "    </tr>\n",
       "    <tr>\n",
       "      <th>35656</th>\n",
       "      <td>Syria used chemical weapons 50 times during ci...</td>\n",
       "      <td>The US estimates that Syrian forces backed by ...</td>\n",
       "    </tr>\n",
       "    <tr>\n",
       "      <th>89051</th>\n",
       "      <td>My kids get upset when I stop to sign autograp...</td>\n",
       "      <td>Actress Juhi Chawla has revealed that her kids...</td>\n",
       "    </tr>\n",
       "  </tbody>\n",
       "</table>\n",
       "</div>"
      ],
      "text/plain": [
       "                                               headlines  \\\n",
       "62582  Makes no difference: Sonakshi on rumour of fig...   \n",
       "20223   Tata Sons increase stake in Tata Motors to 33.4%   \n",
       "39618  Kundra not part of Bitcoin scam, only a witnes...   \n",
       "5020   'Mahagathbandhan' an alliance for personal sur...   \n",
       "2307   CBFC's scissors very small thing for Thackeray...   \n",
       "15494  Never expected Hirani to become a great filmma...   \n",
       "61768  SC dismisses petition filed against release of...   \n",
       "57130  World's 1st traffic light blew up a month afte...   \n",
       "35656  Syria used chemical weapons 50 times during ci...   \n",
       "89051  My kids get upset when I stop to sign autograp...   \n",
       "\n",
       "                                                    text  \n",
       "62582  Sonakshi Sinha, while speaking about rumours o...  \n",
       "20223  Tata Sons bought shares of Tata Motors for the...  \n",
       "39618  The spokesperson of Shilpa Shetty's husband Ra...  \n",
       "5020   Terming 'Mahagathbandhan' as a club of rich dy...  \n",
       "2307   Amid reports of CBFC raising an objection to t...  \n",
       "15494  Nawazuddin Siddiqui has said he never expected...  \n",
       "61768  The Supreme Court has dismissed a petition fil...  \n",
       "57130  The world's first ever traffic lights were ins...  \n",
       "35656  The US estimates that Syrian forces backed by ...  \n",
       "89051  Actress Juhi Chawla has revealed that her kids...  "
      ]
     },
     "execution_count": 17,
     "metadata": {},
     "output_type": "execute_result"
    }
   ],
   "source": [
    "data.sample(10)"
   ]
  },
  {
   "cell_type": "markdown",
   "id": "440404f4",
   "metadata": {},
   "source": [
    "- 10개의 무작위 샘플 추출"
   ]
  },
  {
   "cell_type": "markdown",
   "id": "35d1583d",
   "metadata": {},
   "source": [
    "---\n",
    "\n",
    "### 2.2 데이터 전처리 - 데이터 정리\n",
    "\n",
    "다음과 같은 데이터 정리\n",
    "\n",
    "- 빈칸으로 존재하는 null 데이터\n",
    "\n",
    "- 의미가 같은 중복항목 데이터\n",
    "\n",
    "- 학습할 때 방해가 되는 데이터\n"
   ]
  },
  {
   "cell_type": "code",
   "execution_count": 19,
   "id": "cd7c0655",
   "metadata": {},
   "outputs": [
    {
     "name": "stdout",
     "output_type": "stream",
     "text": [
      "text 열에서 중복을 배제한 유일한 샘플의 수 : 98360\n",
      "headlines 열에서 중복을 배제한 유일한 샘플의 수 : 98280\n"
     ]
    }
   ],
   "source": [
    "print('text 열에서 중복을 배제한 유일한 샘플의 수 :', data['text'].nunique())\n",
    "print('headlines 열에서 중복을 배제한 유일한 샘플의 수 :', data['headlines'].nunique())"
   ]
  },
  {
   "cell_type": "markdown",
   "id": "acd0945d",
   "metadata": {},
   "source": [
    "- 중복을 배제한 샘플 수 확인"
   ]
  },
  {
   "cell_type": "code",
   "execution_count": 21,
   "id": "432dabbf",
   "metadata": {},
   "outputs": [
    {
     "name": "stdout",
     "output_type": "stream",
     "text": [
      "전체 샘플수 : 98360\n"
     ]
    }
   ],
   "source": [
    "# inplace=True 를 설정하면 DataFrame 타입 값을 return 하지 않고 data 내부를 직접적으로 바꿉니다\n",
    "data.drop_duplicates(subset = ['text'], inplace=True)\n",
    "print('전체 샘플수 :', (len(data)))"
   ]
  },
  {
   "cell_type": "markdown",
   "id": "48e65b65",
   "metadata": {},
   "source": [
    "- drop_duplicates()를 사용하여 중복 샘플 제거"
   ]
  },
  {
   "cell_type": "code",
   "execution_count": 22,
   "id": "cdfa98af",
   "metadata": {},
   "outputs": [
    {
     "name": "stdout",
     "output_type": "stream",
     "text": [
      "headlines    0\n",
      "text         0\n",
      "dtype: int64\n"
     ]
    }
   ],
   "source": [
    "print(data.isnull().sum())"
   ]
  },
  {
   "cell_type": "markdown",
   "id": "3cba1a5e",
   "metadata": {},
   "source": [
    "- .isnull().sum()를 사용하여 데이터프레임에 Null 값이 있는지 확인\n",
    "- null 데이터가 없음"
   ]
  },
  {
   "cell_type": "code",
   "execution_count": 23,
   "id": "7147034b",
   "metadata": {},
   "outputs": [
    {
     "name": "stdout",
     "output_type": "stream",
     "text": [
      "전체 샘플수 : 98360\n"
     ]
    }
   ],
   "source": [
    "data.dropna(axis=0, inplace=True)\n",
    "print('전체 샘플수 :', (len(data)))"
   ]
  },
  {
   "cell_type": "markdown",
   "id": "d92eabaa",
   "metadata": {},
   "source": [
    "- null 데이터가 없으므로, 전체 샘플수는 그대로 유지"
   ]
  },
  {
   "cell_type": "code",
   "execution_count": 24,
   "id": "f91251bf",
   "metadata": {},
   "outputs": [
    {
     "name": "stdout",
     "output_type": "stream",
     "text": [
      "정규화 사전의 수:  120\n"
     ]
    }
   ],
   "source": [
    "contractions = {\"ain't\": \"is not\", \"aren't\": \"are not\",\"can't\": \"cannot\", \"'cause\": \"because\", \"could've\": \"could have\", \"couldn't\": \"could not\",\n",
    "                           \"didn't\": \"did not\",  \"doesn't\": \"does not\", \"don't\": \"do not\", \"hadn't\": \"had not\", \"hasn't\": \"has not\", \"haven't\": \"have not\",\n",
    "                           \"he'd\": \"he would\",\"he'll\": \"he will\", \"he's\": \"he is\", \"how'd\": \"how did\", \"how'd'y\": \"how do you\", \"how'll\": \"how will\", \"how's\": \"how is\",\n",
    "                           \"I'd\": \"I would\", \"I'd've\": \"I would have\", \"I'll\": \"I will\", \"I'll've\": \"I will have\",\"I'm\": \"I am\", \"I've\": \"I have\", \"i'd\": \"i would\",\n",
    "                           \"i'd've\": \"i would have\", \"i'll\": \"i will\",  \"i'll've\": \"i will have\",\"i'm\": \"i am\", \"i've\": \"i have\", \"isn't\": \"is not\", \"it'd\": \"it would\",\n",
    "                           \"it'd've\": \"it would have\", \"it'll\": \"it will\", \"it'll've\": \"it will have\",\"it's\": \"it is\", \"let's\": \"let us\", \"ma'am\": \"madam\",\n",
    "                           \"mayn't\": \"may not\", \"might've\": \"might have\",\"mightn't\": \"might not\",\"mightn't've\": \"might not have\", \"must've\": \"must have\",\n",
    "                           \"mustn't\": \"must not\", \"mustn't've\": \"must not have\", \"needn't\": \"need not\", \"needn't've\": \"need not have\",\"o'clock\": \"of the clock\",\n",
    "                           \"oughtn't\": \"ought not\", \"oughtn't've\": \"ought not have\", \"shan't\": \"shall not\", \"sha'n't\": \"shall not\", \"shan't've\": \"shall not have\",\n",
    "                           \"she'd\": \"she would\", \"she'd've\": \"she would have\", \"she'll\": \"she will\", \"she'll've\": \"she will have\", \"she's\": \"she is\",\n",
    "                           \"should've\": \"should have\", \"shouldn't\": \"should not\", \"shouldn't've\": \"should not have\", \"so've\": \"so have\",\"so's\": \"so as\",\n",
    "                           \"this's\": \"this is\",\"that'd\": \"that would\", \"that'd've\": \"that would have\", \"that's\": \"that is\", \"there'd\": \"there would\",\n",
    "                           \"there'd've\": \"there would have\", \"there's\": \"there is\", \"here's\": \"here is\",\"they'd\": \"they would\", \"they'd've\": \"they would have\",\n",
    "                           \"they'll\": \"they will\", \"they'll've\": \"they will have\", \"they're\": \"they are\", \"they've\": \"they have\", \"to've\": \"to have\",\n",
    "                           \"wasn't\": \"was not\", \"we'd\": \"we would\", \"we'd've\": \"we would have\", \"we'll\": \"we will\", \"we'll've\": \"we will have\", \"we're\": \"we are\",\n",
    "                           \"we've\": \"we have\", \"weren't\": \"were not\", \"what'll\": \"what will\", \"what'll've\": \"what will have\", \"what're\": \"what are\",\n",
    "                           \"what's\": \"what is\", \"what've\": \"what have\", \"when's\": \"when is\", \"when've\": \"when have\", \"where'd\": \"where did\", \"where's\": \"where is\",\n",
    "                           \"where've\": \"where have\", \"who'll\": \"who will\", \"who'll've\": \"who will have\", \"who's\": \"who is\", \"who've\": \"who have\",\n",
    "                           \"why's\": \"why is\", \"why've\": \"why have\", \"will've\": \"will have\", \"won't\": \"will not\", \"won't've\": \"will not have\",\n",
    "                           \"would've\": \"would have\", \"wouldn't\": \"would not\", \"wouldn't've\": \"would not have\", \"y'all\": \"you all\",\n",
    "                           \"y'all'd\": \"you all would\",\"y'all'd've\": \"you all would have\",\"y'all're\": \"you all are\",\"y'all've\": \"you all have\",\n",
    "                           \"you'd\": \"you would\", \"you'd've\": \"you would have\", \"you'll\": \"you will\", \"you'll've\": \"you will have\",\n",
    "                           \"you're\": \"you are\", \"you've\": \"you have\"}\n",
    "\n",
    "print(\"정규화 사전의 수: \", len(contractions))"
   ]
  },
  {
   "cell_type": "markdown",
   "id": "679a257d",
   "metadata": {},
   "source": [
    "- 학습 전에 미리 같은 표현들을 통일시켜주는 정규화 작업\n",
    "- 정규화된 사전의 수는 120개"
   ]
  },
  {
   "cell_type": "code",
   "execution_count": 25,
   "id": "a6f34ff2",
   "metadata": {},
   "outputs": [
    {
     "name": "stdout",
     "output_type": "stream",
     "text": [
      "불용어 개수 : 179\n",
      "['i', 'me', 'my', 'myself', 'we', 'our', 'ours', 'ourselves', 'you', \"you're\", \"you've\", \"you'll\", \"you'd\", 'your', 'yours', 'yourself', 'yourselves', 'he', 'him', 'his', 'himself', 'she', \"she's\", 'her', 'hers', 'herself', 'it', \"it's\", 'its', 'itself', 'they', 'them', 'their', 'theirs', 'themselves', 'what', 'which', 'who', 'whom', 'this', 'that', \"that'll\", 'these', 'those', 'am', 'is', 'are', 'was', 'were', 'be', 'been', 'being', 'have', 'has', 'had', 'having', 'do', 'does', 'did', 'doing', 'a', 'an', 'the', 'and', 'but', 'if', 'or', 'because', 'as', 'until', 'while', 'of', 'at', 'by', 'for', 'with', 'about', 'against', 'between', 'into', 'through', 'during', 'before', 'after', 'above', 'below', 'to', 'from', 'up', 'down', 'in', 'out', 'on', 'off', 'over', 'under', 'again', 'further', 'then', 'once', 'here', 'there', 'when', 'where', 'why', 'how', 'all', 'any', 'both', 'each', 'few', 'more', 'most', 'other', 'some', 'such', 'no', 'nor', 'not', 'only', 'own', 'same', 'so', 'than', 'too', 'very', 's', 't', 'can', 'will', 'just', 'don', \"don't\", 'should', \"should've\", 'now', 'd', 'll', 'm', 'o', 're', 've', 'y', 'ain', 'aren', \"aren't\", 'couldn', \"couldn't\", 'didn', \"didn't\", 'doesn', \"doesn't\", 'hadn', \"hadn't\", 'hasn', \"hasn't\", 'haven', \"haven't\", 'isn', \"isn't\", 'ma', 'mightn', \"mightn't\", 'mustn', \"mustn't\", 'needn', \"needn't\", 'shan', \"shan't\", 'shouldn', \"shouldn't\", 'wasn', \"wasn't\", 'weren', \"weren't\", 'won', \"won't\", 'wouldn', \"wouldn't\"]\n"
     ]
    }
   ],
   "source": [
    "print('불용어 개수 :', len(stopwords.words('english') ))\n",
    "print(stopwords.words('english'))"
   ]
  },
  {
   "cell_type": "markdown",
   "id": "5ffcdc7e",
   "metadata": {},
   "source": [
    "- NLTK에서 제공된 불용어는 179개"
   ]
  },
  {
   "cell_type": "code",
   "execution_count": 27,
   "id": "50c8aa9c",
   "metadata": {},
   "outputs": [],
   "source": [
    "# 데이터 전처리 함수\n",
    "def preprocess_sentence(sentence, remove_stopwords=True):\n",
    "    sentence = sentence.lower() # 텍스트 소문자화\n",
    "    sentence = BeautifulSoup(sentence, \"lxml\").text # <br />, <a href = ...> 등의 html 태그 제거\n",
    "    sentence = re.sub(r'\\([^)]*\\)', '', sentence) # 괄호로 닫힌 문자열 (...) 제거 Ex) my husband (and myself!) for => my husband for\n",
    "    sentence = re.sub('\"','', sentence) # 쌍따옴표 \" 제거\n",
    "    sentence = ' '.join([contractions[t] if t in contractions else t for t in sentence.split(\" \")]) # 약어 정규화\n",
    "    sentence = re.sub(r\"'s\\b\",\"\", sentence) # 소유격 제거. Ex) roland's -> roland\n",
    "    sentence = re.sub(\"[^a-zA-Z]\", \" \", sentence) # 영어 외 문자(숫자, 특수문자 등) 공백으로 변환\n",
    "    sentence = re.sub('[m]{2,}', 'mm', sentence) # m이 3개 이상이면 2개로 변경. Ex) ummmmmmm yeah -> umm yeah\n",
    "    \n",
    "    # 불용어 제거 (text)\n",
    "    if remove_stopwords:\n",
    "        tokens = ' '.join(word for word in sentence.split() if not word in stopwords.words('english') if len(word) > 1)\n",
    "    # 불용어 미제거 (headlines)\n",
    "    else:\n",
    "        tokens = ' '.join(word for word in sentence.split() if len(word) > 1)\n",
    "    return tokens"
   ]
  },
  {
   "cell_type": "markdown",
   "id": "37381531",
   "metadata": {},
   "source": [
    "- preprocess_sentence 함수로 데이터를 전처리\n",
    "- sentence.lower()로 텍스트 소문자화\n",
    "- BeautifulSoup()로 html 태그 제거\n",
    "- re.sub로 괄호로 닫힌 문자열 제거, 쌍따옴표 제거, 소유격 제거, 영어 외 공백으로 변환, m이 3개 이상이면 2개로 변환\n",
    "- 약어 정규화 \n",
    "- text (불용어 제거), headlines (불용어 미제거)"
   ]
  },
  {
   "cell_type": "code",
   "execution_count": 29,
   "id": "197df7b2",
   "metadata": {},
   "outputs": [
    {
     "name": "stdout",
     "output_type": "stream",
     "text": [
      "text 전처리 후 결과:  ['saurav kant alumnus upgrad iiit pg program machine learning artificial intelligence sr systems engineer infosys almost years work experience program upgrad degree career support helped transition data scientist tech mahindra salary hike upgrad online power learning powered lakh careers', 'kunal shah credit card bill payment platform cred gave users chance win free food swiggy one year pranav kaushik delhi techie bagged reward spending cred coins users get one cred coin per rupee bill paid used avail rewards brands like ixigo bookmyshow ubereats cult fit', 'new zealand defeated india wickets fourth odi hamilton thursday win first match five match odi series india lost international match rohit sharma captaincy consecutive victories dating back march match witnessed india getting seventh lowest total odi cricket history', 'aegon life iterm insurance plan customers enjoy tax benefits premiums paid save taxes plan provides life cover age years also customers options insure critical illnesses disability accidental death benefit rider life cover age years', 'speaking sexual harassment allegations rajkumar hirani sonam kapoor said known hirani many years true metoo movement get derailed metoo movement always believe woman case need reserve judgment added hirani accused assistant worked sanju']\n"
     ]
    }
   ],
   "source": [
    "clean_text = []\n",
    "# 전체 text 데이터에 대한 전처리 : 10분 이상 시간이 걸릴 수 있습니다. \n",
    "for s in data['text']:\n",
    "    clean_text.append(preprocess_sentence(s))\n",
    "\n",
    "# 전처리 후 출력\n",
    "print(\"text 전처리 후 결과: \", clean_text[:5])"
   ]
  },
  {
   "cell_type": "markdown",
   "id": "c29b9474",
   "metadata": {},
   "source": [
    "- text는 불용어를 제거하고, headlines는 불용어를 제거하지 않으므로 따로 호출하여 전처리"
   ]
  },
  {
   "cell_type": "code",
   "execution_count": 32,
   "id": "2e6f5647",
   "metadata": {},
   "outputs": [
    {
     "name": "stdout",
     "output_type": "stream",
     "text": [
      "headlines 전처리 후 결과:  ['upgrad learner switches to career in ml al with salary hike', 'delhi techie wins free food from swiggy for one year on cred', 'new zealand end rohit sharma led india match winning streak', 'aegon life iterm insurance plan helps customers save tax', 'have known hirani for yrs what if metoo claims are not true sonam']\n"
     ]
    }
   ],
   "source": [
    "clean_headlines = []\n",
    "# 전체 headlines 데이터에 대한 전처리 : 5분 이상 시간이 걸릴 수 있습니다. \n",
    "for s in data['headlines']:\n",
    "    clean_headlines.append(preprocess_sentence(s, False))\n",
    "\n",
    "print(\"headlines 전처리 후 결과: \", clean_headlines[:5])"
   ]
  },
  {
   "cell_type": "markdown",
   "id": "19c42e23",
   "metadata": {},
   "source": [
    "- 불용어를 제거하지 않는다는 의미로 두 번째 인자로 False를 추가"
   ]
  },
  {
   "cell_type": "code",
   "execution_count": 34,
   "id": "09094ed6",
   "metadata": {},
   "outputs": [
    {
     "data": {
      "text/plain": [
       "headlines    0\n",
       "text         0\n",
       "dtype: int64"
      ]
     },
     "execution_count": 34,
     "metadata": {},
     "output_type": "execute_result"
    }
   ],
   "source": [
    "data['text'] = clean_text\n",
    "data['headlines'] = clean_headlines\n",
    "\n",
    "data.replace('', np.nan, inplace=True)\n",
    "\n",
    "data.isnull().sum()"
   ]
  },
  {
   "cell_type": "markdown",
   "id": "0482ade1",
   "metadata": {},
   "source": [
    "- 텍스트 정제 과정 거친 후, 빈 샘플이 생겼는 지 확인\n",
    "- null 값은 생기지 않음"
   ]
  },
  {
   "cell_type": "markdown",
   "id": "3f3673c9",
   "metadata": {},
   "source": [
    "---\n",
    "\n",
    "### 2.3 데이터 전처리 - 훈련데이터 및 테스트데이터 나누기"
   ]
  },
  {
   "cell_type": "code",
   "execution_count": 38,
   "id": "9c7935e0",
   "metadata": {},
   "outputs": [
    {
     "name": "stdout",
     "output_type": "stream",
     "text": [
      "텍스트의 최소 길이 : 1\n",
      "텍스트의 최대 길이 : 60\n",
      "텍스트의 평균 길이 : 35.09968483123221\n",
      "헤드라인의 최소 길이 : 1\n",
      "헤드라인의 최대 길이 : 16\n",
      "헤드라인의 평균 길이 : 9.299532330215534\n"
     ]
    },
    {
     "data": {
      "image/png": "[encoded data removed]",
      "text/plain": [
       "<Figure size 432x288 with 2 Axes>"
      ]
     },
     "metadata": {
      "needs_background": "light"
     },
     "output_type": "display_data"
    },
    {
     "data": {
      "image/png": "[encoded data removed]",
      "text/plain": [
       "<Figure size 432x288 with 1 Axes>"
      ]
     },
     "metadata": {
      "needs_background": "light"
     },
     "output_type": "display_data"
    },
    {
     "data": {
      "image/png": "[encoded data removed]",
      "text/plain": [
       "<Figure size 432x288 with 1 Axes>"
      ]
     },
     "metadata": {
      "needs_background": "light"
     },
     "output_type": "display_data"
    }
   ],
   "source": [
    "# 길이 분포 출력\n",
    "import matplotlib.pyplot as plt\n",
    "\n",
    "text_len = [len(s.split()) for s in data['text']]\n",
    "headlines_len = [len(s.split()) for s in data['headlines']]\n",
    "\n",
    "print('텍스트의 최소 길이 : {}'.format(np.min(text_len)))\n",
    "print('텍스트의 최대 길이 : {}'.format(np.max(text_len)))\n",
    "print('텍스트의 평균 길이 : {}'.format(np.mean(text_len)))\n",
    "print('헤드라인의 최소 길이 : {}'.format(np.min(headlines_len)))\n",
    "print('헤드라인의 최대 길이 : {}'.format(np.max(headlines_len)))\n",
    "print('헤드라인의 평균 길이 : {}'.format(np.mean(headlines_len)))\n",
    "\n",
    "plt.subplot(1,2,1)\n",
    "plt.boxplot(text_len)\n",
    "plt.title('text')\n",
    "plt.subplot(1,2,2)\n",
    "plt.boxplot(summary_len)\n",
    "plt.title('headlines')\n",
    "plt.tight_layout()\n",
    "plt.show()\n",
    "\n",
    "plt.title('text')\n",
    "plt.hist(text_len, bins = 40)\n",
    "plt.xlabel('length of samples')\n",
    "plt.ylabel('number of samples')\n",
    "plt.show()\n",
    "\n",
    "plt.title('headlines')\n",
    "plt.hist(summary_len, bins = 40)\n",
    "plt.xlabel('length of samples')\n",
    "plt.ylabel('number of samples')\n",
    "plt.show()"
   ]
  },
  {
   "cell_type": "markdown",
   "id": "425b9392",
   "metadata": {},
   "source": [
    "- text와 headlines의 최소, 최대, 평균 길이 측정\n",
    "- 길이 분포 그래프로 시각화\n",
    "- 길이에 따른 샘플의 차이를 보임\n"
   ]
  },
  {
   "cell_type": "code",
   "execution_count": 50,
   "id": "d7a6bf9a",
   "metadata": {},
   "outputs": [],
   "source": [
    "text_max_len = 46\n",
    "headlines_max_len = 13"
   ]
  },
  {
   "cell_type": "markdown",
   "id": "8409cf9d",
   "metadata": {},
   "source": [
    "- 그래프를 보고 길이를 각각 46과 14로 정하여, 샘플들을 자르지 않고 최대한 포함할 수 있도록 함"
   ]
  },
  {
   "cell_type": "code",
   "execution_count": 51,
   "id": "f98d96f8",
   "metadata": {},
   "outputs": [],
   "source": [
    "def below_threshold_len(max_len, nested_list):\n",
    "  cnt = 0\n",
    "  for s in nested_list:\n",
    "    if(len(s.split()) <= max_len):\n",
    "        cnt = cnt + 1\n",
    "  print('전체 샘플 중 길이가 %s 이하인 샘플의 비율: %s'%(max_len, (cnt / len(nested_list))))"
   ]
  },
  {
   "cell_type": "code",
   "execution_count": 52,
   "id": "7bd57dfd",
   "metadata": {},
   "outputs": [
    {
     "name": "stdout",
     "output_type": "stream",
     "text": [
      "전체 샘플 중 길이가 46 이하인 샘플의 비율: 0.9990537818204017\n",
      "전체 샘플 중 길이가 13 이하인 샘플의 비율: 0.998168609974971\n"
     ]
    }
   ],
   "source": [
    "below_threshold_len(text_max_len, data['text'])\n",
    "below_threshold_len(headlines_max_len,  data['headlines'])"
   ]
  },
  {
   "cell_type": "markdown",
   "id": "3c434820",
   "metadata": {},
   "source": [
    "- 46과 13으로 패딩하여 나머지 샘플들을 자르면, 99% 이상의 데이터를 포함"
   ]
  },
  {
   "cell_type": "code",
   "execution_count": 53,
   "id": "2a241c2c",
   "metadata": {},
   "outputs": [
    {
     "name": "stdout",
     "output_type": "stream",
     "text": [
      "전체 샘플수 : 98013\n"
     ]
    }
   ],
   "source": [
    "data = data[data['text'].apply(lambda x: len(x.split()) <= text_max_len)]\n",
    "data = data[data['headlines'].apply(lambda x: len(x.split()) <= headlines_max_len)]\n",
    "print('전체 샘플수 :', (len(data)))"
   ]
  },
  {
   "cell_type": "markdown",
   "id": "3b5f6c1b",
   "metadata": {},
   "source": [
    "-기존의 전체 샘플 수 98306개에서 정해진 길이보다 긴 데이터를 제외하고 98013개만 남음"
   ]
  },
  {
   "cell_type": "code",
   "execution_count": 55,
   "id": "40e97e84",
   "metadata": {},
   "outputs": [
    {
     "data": {
      "text/html": [
       "<div>\n",
       "<style scoped>\n",
       "    .dataframe tbody tr th:only-of-type {\n",
       "        vertical-align: middle;\n",
       "    }\n",
       "\n",
       "    .dataframe tbody tr th {\n",
       "        vertical-align: top;\n",
       "    }\n",
       "\n",
       "    .dataframe thead th {\n",
       "        text-align: right;\n",
       "    }\n",
       "</style>\n",
       "<table border=\"1\" class=\"dataframe\">\n",
       "  <thead>\n",
       "    <tr style=\"text-align: right;\">\n",
       "      <th></th>\n",
       "      <th>headlines</th>\n",
       "      <th>text</th>\n",
       "      <th>decoder_input</th>\n",
       "      <th>decoder_target</th>\n",
       "    </tr>\n",
       "  </thead>\n",
       "  <tbody>\n",
       "    <tr>\n",
       "      <th>0</th>\n",
       "      <td>upgrad learner switches to career in ml al wit...</td>\n",
       "      <td>saurav kant alumnus upgrad iiit pg program mac...</td>\n",
       "      <td>sostoken upgrad learner switches to career in ...</td>\n",
       "      <td>upgrad learner switches to career in ml al wit...</td>\n",
       "    </tr>\n",
       "    <tr>\n",
       "      <th>1</th>\n",
       "      <td>delhi techie wins free food from swiggy for on...</td>\n",
       "      <td>kunal shah credit card bill payment platform c...</td>\n",
       "      <td>sostoken delhi techie wins free food from swig...</td>\n",
       "      <td>delhi techie wins free food from swiggy for on...</td>\n",
       "    </tr>\n",
       "    <tr>\n",
       "      <th>2</th>\n",
       "      <td>new zealand end rohit sharma led india match w...</td>\n",
       "      <td>new zealand defeated india wickets fourth odi ...</td>\n",
       "      <td>sostoken new zealand end rohit sharma led indi...</td>\n",
       "      <td>new zealand end rohit sharma led india match w...</td>\n",
       "    </tr>\n",
       "    <tr>\n",
       "      <th>3</th>\n",
       "      <td>aegon life iterm insurance plan helps customer...</td>\n",
       "      <td>aegon life iterm insurance plan customers enjo...</td>\n",
       "      <td>sostoken aegon life iterm insurance plan helps...</td>\n",
       "      <td>aegon life iterm insurance plan helps customer...</td>\n",
       "    </tr>\n",
       "    <tr>\n",
       "      <th>4</th>\n",
       "      <td>have known hirani for yrs what if metoo claims...</td>\n",
       "      <td>speaking sexual harassment allegations rajkuma...</td>\n",
       "      <td>sostoken have known hirani for yrs what if met...</td>\n",
       "      <td>have known hirani for yrs what if metoo claims...</td>\n",
       "    </tr>\n",
       "  </tbody>\n",
       "</table>\n",
       "</div>"
      ],
      "text/plain": [
       "                                           headlines  \\\n",
       "0  upgrad learner switches to career in ml al wit...   \n",
       "1  delhi techie wins free food from swiggy for on...   \n",
       "2  new zealand end rohit sharma led india match w...   \n",
       "3  aegon life iterm insurance plan helps customer...   \n",
       "4  have known hirani for yrs what if metoo claims...   \n",
       "\n",
       "                                                text  \\\n",
       "0  saurav kant alumnus upgrad iiit pg program mac...   \n",
       "1  kunal shah credit card bill payment platform c...   \n",
       "2  new zealand defeated india wickets fourth odi ...   \n",
       "3  aegon life iterm insurance plan customers enjo...   \n",
       "4  speaking sexual harassment allegations rajkuma...   \n",
       "\n",
       "                                       decoder_input  \\\n",
       "0  sostoken upgrad learner switches to career in ...   \n",
       "1  sostoken delhi techie wins free food from swig...   \n",
       "2  sostoken new zealand end rohit sharma led indi...   \n",
       "3  sostoken aegon life iterm insurance plan helps...   \n",
       "4  sostoken have known hirani for yrs what if met...   \n",
       "\n",
       "                                      decoder_target  \n",
       "0  upgrad learner switches to career in ml al wit...  \n",
       "1  delhi techie wins free food from swiggy for on...  \n",
       "2  new zealand end rohit sharma led india match w...  \n",
       "3  aegon life iterm insurance plan helps customer...  \n",
       "4  have known hirani for yrs what if metoo claims...  "
      ]
     },
     "execution_count": 55,
     "metadata": {},
     "output_type": "execute_result"
    }
   ],
   "source": [
    "# 요약 데이터에는 시작 토큰과 종료 토큰을 추가한다.\n",
    "data['decoder_input'] = data['headlines'].apply(lambda x : 'sostoken '+ x)\n",
    "data['decoder_target'] = data['headlines'].apply(lambda x : x + ' eostoken')\n",
    "data.head()"
   ]
  },
  {
   "cell_type": "markdown",
   "id": "3b555d91",
   "metadata": {},
   "source": [
    "- 시작 토큰 sos와 종료 토큰 eos를 시퀀스의 앞,뒤로 추가\n",
    "- 두 개의 문장 모두 headlines 열로 만들기"
   ]
  },
  {
   "cell_type": "code",
   "execution_count": 56,
   "id": "643765ca",
   "metadata": {},
   "outputs": [],
   "source": [
    "encoder_input = np.array(data['text'])\n",
    "decoder_input = np.array(data['decoder_input'])\n",
    "decoder_target = np.array(data['decoder_target'])"
   ]
  },
  {
   "cell_type": "markdown",
   "id": "ab547c7c",
   "metadata": {},
   "source": [
    "- 인코더의 입력, 디코더의 입력과 레이블을 각각 넘파이 타입으로 저장"
   ]
  },
  {
   "cell_type": "code",
   "execution_count": 58,
   "id": "90b3fb0b",
   "metadata": {},
   "outputs": [
    {
     "name": "stdout",
     "output_type": "stream",
     "text": [
      "[30662  4052 24390 ... 15593 57567 54565]\n"
     ]
    }
   ],
   "source": [
    "indices = np.arange(encoder_input.shape[0])\n",
    "np.random.shuffle(indices)\n",
    "print(indices)"
   ]
  },
  {
   "cell_type": "markdown",
   "id": "288f8ff3",
   "metadata": {},
   "source": [
    "- 인코더 입력과 크기,형태가 같은 순서가 섞인 정수 시퀀스 만들기"
   ]
  },
  {
   "cell_type": "code",
   "execution_count": 59,
   "id": "af86069c",
   "metadata": {},
   "outputs": [],
   "source": [
    "encoder_input = encoder_input[indices]\n",
    "decoder_input = decoder_input[indices]\n",
    "decoder_target = decoder_target[indices]"
   ]
  },
  {
   "cell_type": "markdown",
   "id": "e8caabe7",
   "metadata": {},
   "source": [
    "- 위 정수 시퀀스를 이용해 재차 데이터의 샘플 순서를 정하여 샘플을 잘 섞어줌"
   ]
  },
  {
   "cell_type": "code",
   "execution_count": 61,
   "id": "bd69afe0",
   "metadata": {},
   "outputs": [
    {
     "name": "stdout",
     "output_type": "stream",
     "text": [
      "테스트 데이터의 수 : 19602\n"
     ]
    }
   ],
   "source": [
    "n_of_val = int(len(encoder_input)*0.2)\n",
    "print('테스트 데이터의 수 :', n_of_val)"
   ]
  },
  {
   "cell_type": "markdown",
   "id": "526562e9",
   "metadata": {},
   "source": [
    "- 섞인 데이터의 비율을 8대2로 훈련 데이터 및 테스트 데이터 분리"
   ]
  },
  {
   "cell_type": "code",
   "execution_count": 62,
   "id": "2f725a1e",
   "metadata": {},
   "outputs": [
    {
     "name": "stdout",
     "output_type": "stream",
     "text": [
      "훈련 데이터의 개수 : 78411\n",
      "훈련 레이블의 개수 : 78411\n",
      "테스트 데이터의 개수 : 19602\n",
      "테스트 레이블의 개수 : 19602\n"
     ]
    }
   ],
   "source": [
    "encoder_input_train = encoder_input[:-n_of_val]\n",
    "decoder_input_train = decoder_input[:-n_of_val]\n",
    "decoder_target_train = decoder_target[:-n_of_val]\n",
    "\n",
    "encoder_input_test = encoder_input[-n_of_val:]\n",
    "decoder_input_test = decoder_input[-n_of_val:]\n",
    "decoder_target_test = decoder_target[-n_of_val:]\n",
    "\n",
    "print('훈련 데이터의 개수 :',len(encoder_input_train))\n",
    "print('훈련 레이블의 개수 :',len(decoder_input_train))\n",
    "print('테스트 데이터의 개수 :',len(encoder_input_test))\n",
    "print('테스트 레이블의 개수 :',len(decoder_input_test))"
   ]
  },
  {
   "cell_type": "markdown",
   "id": "47df7d28",
   "metadata": {},
   "source": [
    "- 훈련 데이터와 테스트 데이터가 8대2 비율로 잘 분리됨"
   ]
  },
  {
   "cell_type": "markdown",
   "id": "b8ca1e6f",
   "metadata": {},
   "source": [
    "---\n",
    "\n",
    "### 2.4 데이터 전처리 - 정수 인코딩"
   ]
  },
  {
   "cell_type": "code",
   "execution_count": 63,
   "id": "acc76260",
   "metadata": {},
   "outputs": [],
   "source": [
    "src_tokenizer = Tokenizer() # 토크나이저 정의\n",
    "src_tokenizer.fit_on_texts(encoder_input_train) # 입력된 데이터로부터 단어 집합 생성"
   ]
  },
  {
   "cell_type": "markdown",
   "id": "59607ffb",
   "metadata": {},
   "source": [
    "- Keras의 토크나이저를 사용하여, 입력된 훈련 데이터로부터 단어집합 생성\n",
    "- 원문에 해당하는 'encoder_input_train'에 대해 단어 집합 생성"
   ]
  },
  {
   "cell_type": "code",
   "execution_count": 64,
   "id": "d241f1f5",
   "metadata": {},
   "outputs": [
    {
     "name": "stdout",
     "output_type": "stream",
     "text": [
      "단어 집합(vocabulary)의 크기 : 69511\n",
      "등장 빈도가 6번 이하인 희귀 단어의 수: 47386\n",
      "단어 집합에서 희귀 단어를 제외시킬 경우의 단어 집합의 크기 22125\n",
      "단어 집합에서 희귀 단어의 비율: 68.1705053876365\n",
      "전체 등장 빈도에서 희귀 단어 등장 빈도 비율: 3.497668899365673\n"
     ]
    }
   ],
   "source": [
    "threshold = 7\n",
    "total_cnt = len(src_tokenizer.word_index) # 단어의 수\n",
    "rare_cnt = 0 # 등장 빈도수가 threshold보다 작은 단어의 개수를 카운트\n",
    "total_freq = 0 # 훈련 데이터의 전체 단어 빈도수 총 합\n",
    "rare_freq = 0 # 등장 빈도수가 threshold보다 작은 단어의 등장 빈도수의 총 합\n",
    "\n",
    "# 단어와 빈도수의 쌍(pair)을 key와 value로 받는다.\n",
    "for key, value in src_tokenizer.word_counts.items():\n",
    "    total_freq = total_freq + value\n",
    "\n",
    "    # 단어의 등장 빈도수가 threshold보다 작으면\n",
    "    if(value < threshold):\n",
    "        rare_cnt = rare_cnt + 1\n",
    "        rare_freq = rare_freq + value\n",
    "\n",
    "print('단어 집합(vocabulary)의 크기 :', total_cnt)\n",
    "print('등장 빈도가 %s번 이하인 희귀 단어의 수: %s'%(threshold - 1, rare_cnt))\n",
    "print('단어 집합에서 희귀 단어를 제외시킬 경우의 단어 집합의 크기 %s'%(total_cnt - rare_cnt))\n",
    "print(\"단어 집합에서 희귀 단어의 비율:\", (rare_cnt / total_cnt)*100)\n",
    "print(\"전체 등장 빈도에서 희귀 단어 등장 빈도 비율:\", (rare_freq / total_freq)*100)"
   ]
  },
  {
   "cell_type": "markdown",
   "id": "01e2edc0",
   "metadata": {},
   "source": [
    "- 단어 집합에서 등장 빈도가 7회 미만(6회 이하)인 단어의 수 확인\n",
    "- 빈도 수가 낮은 단어들은 훈련데이터에서 제외하기 위해, 단어 집합에서 희귀 단어의 비율과 전체 등장 빈도에서 희귀 단어 등장 빈도 비율 확인"
   ]
  },
  {
   "cell_type": "code",
   "execution_count": 65,
   "id": "34a28ff7",
   "metadata": {},
   "outputs": [],
   "source": [
    "src_vocab = 22000\n",
    "src_tokenizer = Tokenizer(num_words=src_vocab) # 단어 집합의 크기를 22,000으로 제한\n",
    "src_tokenizer.fit_on_texts(encoder_input_train) # 단어 집합 재생성"
   ]
  },
  {
   "cell_type": "markdown",
   "id": "b0317c73",
   "metadata": {},
   "source": [
    "- 위에서 희귀 단어를 제외시킨 단어집합 크기를 22,125로 계산했기에, 단어 집합의 크기를 22,000으로 제한"
   ]
  },
  {
   "cell_type": "code",
   "execution_count": 66,
   "id": "47102a9d",
   "metadata": {},
   "outputs": [
    {
     "name": "stdout",
     "output_type": "stream",
     "text": [
      "[[3656, 5476, 1435, 11229, 3480, 530, 519, 1067, 1732, 57, 988, 1367, 3656, 7432, 55, 6302, 2253, 688, 6694, 574, 2119, 519, 1091, 16001, 6302, 2253, 3656, 119, 165, 13, 3250, 1, 609], [1865, 50, 10941, 73, 206, 8017, 1, 228, 676, 182, 1133, 4138, 108, 30, 2934, 4632, 11230, 228, 182, 419, 317, 3, 11, 50, 24, 597, 6098, 665, 459, 9823], [764, 2716, 1929, 3171, 3303, 267, 1316, 56, 53, 4877, 267, 7550, 764, 8658, 429, 41, 404, 1247, 9483, 101, 267, 7550, 7023, 1733, 451, 764, 24, 55, 1232, 6695]]\n"
     ]
    }
   ],
   "source": [
    "# 텍스트 시퀀스를 정수 시퀀스로 변환\n",
    "encoder_input_train = src_tokenizer.texts_to_sequences(encoder_input_train) \n",
    "encoder_input_test = src_tokenizer.texts_to_sequences(encoder_input_test)\n",
    "\n",
    "# 잘 진행되었는지 샘플 출력\n",
    "print(encoder_input_train[:3])"
   ]
  },
  {
   "cell_type": "markdown",
   "id": "89c3cba1",
   "metadata": {},
   "source": [
    "- 테긋트 시퀀스를 정수 시퀀스로 변환"
   ]
  },
  {
   "cell_type": "code",
   "execution_count": 67,
   "id": "61003dc8",
   "metadata": {},
   "outputs": [],
   "source": [
    "tar_tokenizer = Tokenizer()\n",
    "tar_tokenizer.fit_on_texts(decoder_input_train)"
   ]
  },
  {
   "cell_type": "markdown",
   "id": "1d418b3e",
   "metadata": {},
   "source": [
    "디코더 입력도 인코더 입력과 마찬 가지로 케라스 토크나이저를 사용하여 훈련 데이터로부터 단어집합 생성"
   ]
  },
  {
   "cell_type": "code",
   "execution_count": 68,
   "id": "d242017a",
   "metadata": {},
   "outputs": [
    {
     "name": "stdout",
     "output_type": "stream",
     "text": [
      "단어 집합(vocabulary)의 크기 : 30029\n",
      "등장 빈도가 5번 이하인 희귀 단어의 수: 19589\n",
      "단어 집합에서 희귀 단어를 제외시킬 경우의 단어 집합의 크기 10440\n",
      "단어 집합에서 희귀 단어의 비율: 65.23360751273769\n",
      "전체 등장 빈도에서 희귀 단어 등장 빈도 비율: 4.6344905517303765\n"
     ]
    }
   ],
   "source": [
    "threshold = 6\n",
    "total_cnt = len(tar_tokenizer.word_index) # 단어의 수\n",
    "rare_cnt = 0 # 등장 빈도수가 threshold보다 작은 단어의 개수를 카운트\n",
    "total_freq = 0 # 훈련 데이터의 전체 단어 빈도수 총 합\n",
    "rare_freq = 0 # 등장 빈도수가 threshold보다 작은 단어의 등장 빈도수의 총 합\n",
    "\n",
    "# 단어와 빈도수의 쌍(pair)을 key와 value로 받는다.\n",
    "for key, value in tar_tokenizer.word_counts.items():\n",
    "    total_freq = total_freq + value\n",
    "\n",
    "    # 단어의 등장 빈도수가 threshold보다 작으면\n",
    "    if(value < threshold):\n",
    "        rare_cnt = rare_cnt + 1\n",
    "        rare_freq = rare_freq + value\n",
    "\n",
    "print('단어 집합(vocabulary)의 크기 :', total_cnt)\n",
    "print('등장 빈도가 %s번 이하인 희귀 단어의 수: %s'%(threshold - 1, rare_cnt))\n",
    "print('단어 집합에서 희귀 단어를 제외시킬 경우의 단어 집합의 크기 %s'%(total_cnt - rare_cnt))\n",
    "print(\"단어 집합에서 희귀 단어의 비율:\", (rare_cnt / total_cnt)*100)\n",
    "print(\"전체 등장 빈도에서 희귀 단어 등장 빈도 비율:\", (rare_freq / total_freq)*100)"
   ]
  },
  {
   "cell_type": "markdown",
   "id": "14b01019",
   "metadata": {},
   "source": [
    "- 단어 집합에서 등장 빈도가 6회 미만(5회 이하)인 단어의 수 확인\n",
    "- 빈도 수가 낮은 단어들은 훈련데이터에서 제외하기 위해, 단어 집합에서 희귀 단어의 비율과 전체 등장 빈도에서 희귀 단어 등장 빈도 비율 확인"
   ]
  },
  {
   "cell_type": "code",
   "execution_count": 69,
   "id": "6b827594",
   "metadata": {},
   "outputs": [
    {
     "name": "stdout",
     "output_type": "stream",
     "text": [
      "input\n",
      "input  [[1, 2130, 8806, 1886, 498, 12, 924, 18, 4994, 3, 18, 669], [1, 47, 19, 104, 3407, 5645, 164, 130, 326, 64, 6, 194, 99], [1, 20, 4819, 3589, 633, 111, 1047, 212, 1150], [1, 7667, 550, 301, 6469, 3, 1711, 546, 301, 2016, 4022], [1, 405, 1887, 11, 1542, 182, 1067, 5, 34, 54]]\n",
      "target\n",
      "decoder  [[2130, 8806, 1886, 498, 12, 924, 18, 4994, 3, 18, 669, 2], [47, 19, 104, 3407, 5645, 164, 130, 326, 64, 6, 194, 99, 2], [20, 4819, 3589, 633, 111, 1047, 212, 1150, 2], [7667, 550, 301, 6469, 3, 1711, 546, 301, 2016, 4022, 2], [405, 1887, 11, 1542, 182, 1067, 5, 34, 54, 2]]\n"
     ]
    }
   ],
   "source": [
    "tar_vocab = 10000\n",
    "tar_tokenizer = Tokenizer(num_words=tar_vocab) \n",
    "tar_tokenizer.fit_on_texts(decoder_input_train)\n",
    "tar_tokenizer.fit_on_texts(decoder_target_train)\n",
    "\n",
    "# 텍스트 시퀀스를 정수 시퀀스로 변환\n",
    "decoder_input_train = tar_tokenizer.texts_to_sequences(decoder_input_train) \n",
    "decoder_target_train = tar_tokenizer.texts_to_sequences(decoder_target_train)\n",
    "decoder_input_test = tar_tokenizer.texts_to_sequences(decoder_input_test)\n",
    "decoder_target_test = tar_tokenizer.texts_to_sequences(decoder_target_test)\n",
    "\n",
    "# 잘 변환되었는지 확인\n",
    "print('input')\n",
    "print('input ',decoder_input_train[:5])\n",
    "print('target')\n",
    "print('decoder ',decoder_target_train[:5])"
   ]
  },
  {
   "cell_type": "markdown",
   "id": "d9ca49b9",
   "metadata": {},
   "source": [
    "- 아까와 마찬가지로 10,000 단어를 집합의 크기로 제한"
   ]
  },
  {
   "cell_type": "code",
   "execution_count": 70,
   "id": "cd407f09",
   "metadata": {},
   "outputs": [
    {
     "name": "stdout",
     "output_type": "stream",
     "text": [
      "삭제할 훈련 데이터의 개수 : 0\n",
      "삭제할 테스트 데이터의 개수 : 0\n",
      "훈련 데이터의 개수 : 78411\n",
      "훈련 레이블의 개수 : 78411\n",
      "테스트 데이터의 개수 : 19602\n",
      "테스트 레이블의 개수 : 19602\n"
     ]
    }
   ],
   "source": [
    "drop_train = [index for index, sentence in enumerate(decoder_input_train) if len(sentence) == 1]\n",
    "drop_test = [index for index, sentence in enumerate(decoder_input_test) if len(sentence) == 1]\n",
    "\n",
    "print('삭제할 훈련 데이터의 개수 :', len(drop_train))\n",
    "print('삭제할 테스트 데이터의 개수 :', len(drop_test))\n",
    "\n",
    "encoder_input_train = [sentence for index, sentence in enumerate(encoder_input_train) if index not in drop_train]\n",
    "decoder_input_train = [sentence for index, sentence in enumerate(decoder_input_train) if index not in drop_train]\n",
    "decoder_target_train = [sentence for index, sentence in enumerate(decoder_target_train) if index not in drop_train]\n",
    "\n",
    "encoder_input_test = [sentence for index, sentence in enumerate(encoder_input_test) if index not in drop_test]\n",
    "decoder_input_test = [sentence for index, sentence in enumerate(decoder_input_test) if index not in drop_test]\n",
    "decoder_target_test = [sentence for index, sentence in enumerate(decoder_target_test) if index not in drop_test]\n",
    "\n",
    "print('훈련 데이터의 개수 :', len(encoder_input_train))\n",
    "print('훈련 레이블의 개수 :', len(decoder_input_train))\n",
    "print('테스트 데이터의 개수 :', len(encoder_input_test))\n",
    "print('테스트 레이블의 개수 :', len(decoder_input_test))"
   ]
  },
  {
   "cell_type": "markdown",
   "id": "915e6b17",
   "metadata": {},
   "source": [
    "- 삭제할 데이터의 개수가 없음"
   ]
  },
  {
   "cell_type": "code",
   "execution_count": 71,
   "id": "7f046973",
   "metadata": {},
   "outputs": [],
   "source": [
    "encoder_input_train = pad_sequences(encoder_input_train, maxlen=text_max_len, padding='post')\n",
    "encoder_input_test = pad_sequences(encoder_input_test, maxlen=text_max_len, padding='post')\n",
    "decoder_input_train = pad_sequences(decoder_input_train, maxlen=summary_max_len, padding='post')\n",
    "decoder_target_train = pad_sequences(decoder_target_train, maxlen=summary_max_len, padding='post')\n",
    "decoder_input_test = pad_sequences(decoder_input_test, maxlen=summary_max_len, padding='post')\n",
    "decoder_target_test = pad_sequences(decoder_target_test, maxlen=summary_max_len, padding='post')"
   ]
  },
  {
   "cell_type": "markdown",
   "id": "c32109d1",
   "metadata": {},
   "source": [
    "- 시퀀스 변환이 완료된 상황에서, 서로 다른 길이의 샘플들을 병렬 처리하기 위해 패딩으로 길이를 맞춰줌\n",
    "\n",
    "- 패딩은 최대 길이로 작업"
   ]
  },
  {
   "cell_type": "markdown",
   "id": "f857ccf3",
   "metadata": {},
   "source": [
    "---\n",
    "\n",
    "### 2.5 모델 설계 및 훈련"
   ]
  },
  {
   "cell_type": "code",
   "execution_count": 72,
   "id": "255dc686",
   "metadata": {},
   "outputs": [
    {
     "name": "stdout",
     "output_type": "stream",
     "text": [
      "WARNING:tensorflow:Layer lstm will not use cuDNN kernels since it doesn't meet the criteria. It will use a generic GPU kernel as fallback when running on GPU.\n",
      "WARNING:tensorflow:Layer lstm_1 will not use cuDNN kernels since it doesn't meet the criteria. It will use a generic GPU kernel as fallback when running on GPU.\n",
      "WARNING:tensorflow:Layer lstm_2 will not use cuDNN kernels since it doesn't meet the criteria. It will use a generic GPU kernel as fallback when running on GPU.\n"
     ]
    }
   ],
   "source": [
    "from tensorflow.keras.layers import Input, LSTM, Embedding, Dense, Concatenate, TimeDistributed\n",
    "from tensorflow.keras.models import Model\n",
    "from tensorflow.keras.callbacks import EarlyStopping, ModelCheckpoint\n",
    "\n",
    "\n",
    "# 인코더 설계 시작\n",
    "embedding_dim = 128\n",
    "hidden_size = 256\n",
    "\n",
    "# 인코더\n",
    "encoder_inputs = Input(shape=(text_max_len,))\n",
    "\n",
    "# 인코더의 임베딩 층\n",
    "enc_emb = Embedding(src_vocab, embedding_dim)(encoder_inputs)\n",
    "\n",
    "# 인코더의 LSTM 1\n",
    "encoder_lstm1 = LSTM(hidden_size, return_sequences=True, return_state=True ,dropout = 0.4, recurrent_dropout = 0.4)\n",
    "encoder_output1, state_h1, state_c1 = encoder_lstm1(enc_emb)\n",
    "\n",
    "# 인코더의 LSTM 2\n",
    "encoder_lstm2 = LSTM(hidden_size, return_sequences=True, return_state=True, dropout=0.4, recurrent_dropout=0.4)\n",
    "encoder_output2, state_h2, state_c2 = encoder_lstm2(encoder_output1)\n",
    "\n",
    "# 인코더의 LSTM 3\n",
    "encoder_lstm3 = LSTM(hidden_size, return_state=True, return_sequences=True, dropout=0.4, recurrent_dropout=0.4)\n",
    "encoder_outputs, state_h, state_c= encoder_lstm3(encoder_output2)"
   ]
  },
  {
   "cell_type": "markdown",
   "id": "a9ecfc5c",
   "metadata": {},
   "source": [
    "- 임베딩 벡터의 차원: 128\n",
    "- hidden state의 크기 : 256\n",
    "- hidden state는 LSTM에서 얼만큼의 수용력을 가질지 결정하는 파라미터\n",
    "- 인코더의 LSTM은 총 3개의 층으로 구성하여 모델의 복잡도를 향상\n",
    "- 3갸의 층을 지나 인코더의 출력 벡터가 디코더로 입력\n",
    "- 출력에서 오류가 잡힌 것은, recurrent dropout을 사용했기 때문"
   ]
  },
  {
   "cell_type": "code",
   "execution_count": 73,
   "id": "55423e42",
   "metadata": {},
   "outputs": [
    {
     "name": "stdout",
     "output_type": "stream",
     "text": [
      "WARNING:tensorflow:Layer lstm_3 will not use cuDNN kernels since it doesn't meet the criteria. It will use a generic GPU kernel as fallback when running on GPU.\n"
     ]
    }
   ],
   "source": [
    "# 디코더 설계\n",
    "decoder_inputs = Input(shape=(None,))\n",
    "\n",
    "# 디코더의 임베딩 층\n",
    "dec_emb_layer = Embedding(tar_vocab, embedding_dim)\n",
    "dec_emb = dec_emb_layer(decoder_inputs)\n",
    "\n",
    "# 디코더의 LSTM\n",
    "decoder_lstm = LSTM(hidden_size, return_sequences=True, return_state=True, dropout=0.4, recurrent_dropout=0.2)\n",
    "decoder_outputs, _, _ = decoder_lstm(dec_emb, initial_state=[state_h, state_c])"
   ]
  },
  {
   "cell_type": "markdown",
   "id": "c5379173",
   "metadata": {},
   "source": [
    "- 디코더를 설계하고, 임베딩 층과 LSTM 설계\n",
    "- LSTM의 입력을 정의할 때, initial_state의 인자값으로 인코더의 hidden state와 cell state의 값을 넣어주어야 함"
   ]
  },
  {
   "cell_type": "code",
   "execution_count": 74,
   "id": "8b140848",
   "metadata": {},
   "outputs": [
    {
     "name": "stdout",
     "output_type": "stream",
     "text": [
      "Model: \"model\"\n",
      "__________________________________________________________________________________________________\n",
      "Layer (type)                    Output Shape         Param #     Connected to                     \n",
      "==================================================================================================\n",
      "input_1 (InputLayer)            [(None, 46)]         0                                            \n",
      "__________________________________________________________________________________________________\n",
      "embedding (Embedding)           (None, 46, 128)      2816000     input_1[0][0]                    \n",
      "__________________________________________________________________________________________________\n",
      "lstm (LSTM)                     [(None, 46, 256), (N 394240      embedding[0][0]                  \n",
      "__________________________________________________________________________________________________\n",
      "input_2 (InputLayer)            [(None, None)]       0                                            \n",
      "__________________________________________________________________________________________________\n",
      "lstm_1 (LSTM)                   [(None, 46, 256), (N 525312      lstm[0][0]                       \n",
      "__________________________________________________________________________________________________\n",
      "embedding_1 (Embedding)         (None, None, 128)    1280000     input_2[0][0]                    \n",
      "__________________________________________________________________________________________________\n",
      "lstm_2 (LSTM)                   [(None, 46, 256), (N 525312      lstm_1[0][0]                     \n",
      "__________________________________________________________________________________________________\n",
      "lstm_3 (LSTM)                   [(None, None, 256),  394240      embedding_1[0][0]                \n",
      "                                                                 lstm_2[0][1]                     \n",
      "                                                                 lstm_2[0][2]                     \n",
      "__________________________________________________________________________________________________\n",
      "dense (Dense)                   (None, None, 10000)  2570000     lstm_3[0][0]                     \n",
      "==================================================================================================\n",
      "Total params: 8,505,104\n",
      "Trainable params: 8,505,104\n",
      "Non-trainable params: 0\n",
      "__________________________________________________________________________________________________\n"
     ]
    }
   ],
   "source": [
    "# 디코더의 출력층\n",
    "decoder_softmax_layer = Dense(tar_vocab, activation='softmax')\n",
    "decoder_softmax_outputs = decoder_softmax_layer(decoder_outputs) \n",
    "\n",
    "# 모델 정의\n",
    "model = Model([encoder_inputs, decoder_inputs], decoder_softmax_outputs)\n",
    "model.summary()"
   ]
  },
  {
   "cell_type": "markdown",
   "id": "7d26c628",
   "metadata": {},
   "source": [
    "- 디코더의 출력층 설계"
   ]
  },
  {
   "cell_type": "code",
   "execution_count": 75,
   "id": "4886b5e4",
   "metadata": {
    "scrolled": false
   },
   "outputs": [
    {
     "name": "stdout",
     "output_type": "stream",
     "text": [
      "Model: \"model_1\"\n",
      "__________________________________________________________________________________________________\n",
      "Layer (type)                    Output Shape         Param #     Connected to                     \n",
      "==================================================================================================\n",
      "input_1 (InputLayer)            [(None, 46)]         0                                            \n",
      "__________________________________________________________________________________________________\n",
      "embedding (Embedding)           (None, 46, 128)      2816000     input_1[0][0]                    \n",
      "__________________________________________________________________________________________________\n",
      "lstm (LSTM)                     [(None, 46, 256), (N 394240      embedding[0][0]                  \n",
      "__________________________________________________________________________________________________\n",
      "input_2 (InputLayer)            [(None, None)]       0                                            \n",
      "__________________________________________________________________________________________________\n",
      "lstm_1 (LSTM)                   [(None, 46, 256), (N 525312      lstm[0][0]                       \n",
      "__________________________________________________________________________________________________\n",
      "embedding_1 (Embedding)         (None, None, 128)    1280000     input_2[0][0]                    \n",
      "__________________________________________________________________________________________________\n",
      "lstm_2 (LSTM)                   [(None, 46, 256), (N 525312      lstm_1[0][0]                     \n",
      "__________________________________________________________________________________________________\n",
      "lstm_3 (LSTM)                   [(None, None, 256),  394240      embedding_1[0][0]                \n",
      "                                                                 lstm_2[0][1]                     \n",
      "                                                                 lstm_2[0][2]                     \n",
      "__________________________________________________________________________________________________\n",
      "attention_layer (AdditiveAttent (None, None, 256)    256         lstm_3[0][0]                     \n",
      "                                                                 lstm_2[0][0]                     \n",
      "__________________________________________________________________________________________________\n",
      "concat_layer (Concatenate)      (None, None, 512)    0           lstm_3[0][0]                     \n",
      "                                                                 attention_layer[0][0]            \n",
      "__________________________________________________________________________________________________\n",
      "dense_1 (Dense)                 (None, None, 10000)  5130000     concat_layer[0][0]               \n",
      "==================================================================================================\n",
      "Total params: 11,065,360\n",
      "Trainable params: 11,065,360\n",
      "Non-trainable params: 0\n",
      "__________________________________________________________________________________________________\n"
     ]
    }
   ],
   "source": [
    "from tensorflow.keras.layers import AdditiveAttention\n",
    "\n",
    "# 어텐션 층(어텐션 함수)\n",
    "attn_layer = AdditiveAttention(name='attention_layer')\n",
    "\n",
    "# 인코더와 디코더의 모든 time step의 hidden state를 어텐션 층에 전달하고 결과를 리턴\n",
    "attn_out = attn_layer([decoder_outputs, encoder_outputs])\n",
    "\n",
    "\n",
    "# 어텐션의 결과와 디코더의 hidden state들을 연결\n",
    "decoder_concat_input = Concatenate(axis=-1, name='concat_layer')([decoder_outputs, attn_out])\n",
    "\n",
    "# 디코더의 출력층\n",
    "decoder_softmax_layer = Dense(tar_vocab, activation='softmax')\n",
    "decoder_softmax_outputs = decoder_softmax_layer(decoder_concat_input)\n",
    "\n",
    "# 모델 정의\n",
    "model = Model([encoder_inputs, decoder_inputs], decoder_softmax_outputs)\n",
    "model.summary()"
   ]
  },
  {
   "cell_type": "markdown",
   "id": "a2183154",
   "metadata": {},
   "source": [
    "- seq2seq 기본 모델과 달리, 어텐션 메커니즘을 이용\n",
    "- 인코더의 hidden state, 디코더의 hidden state 들은 어텐션 함수의 입력으로 사용\n",
    "- 어텐션 함수가 리턴한 값을 예측 시에 디코더의 hidden state와 함께 활용하는 형태로 작동"
   ]
  },
  {
   "cell_type": "code",
   "execution_count": 76,
   "id": "2ca50961",
   "metadata": {},
   "outputs": [
    {
     "name": "stdout",
     "output_type": "stream",
     "text": [
      "Epoch 1/50\n",
      "307/307 [==============================] - 214s 645ms/step - loss: 4.8802 - val_loss: 4.4812\n",
      "Epoch 2/50\n",
      "307/307 [==============================] - 196s 637ms/step - loss: 4.3378 - val_loss: 4.1390\n",
      "Epoch 3/50\n",
      "307/307 [==============================] - 196s 638ms/step - loss: 4.0489 - val_loss: 3.9333\n",
      "Epoch 4/50\n",
      "307/307 [==============================] - 195s 636ms/step - loss: 3.8268 - val_loss: 3.7576\n",
      "Epoch 5/50\n",
      "307/307 [==============================] - 195s 637ms/step - loss: 3.6546 - val_loss: 3.6312\n",
      "Epoch 6/50\n",
      "307/307 [==============================] - 196s 639ms/step - loss: 3.5112 - val_loss: 3.5431\n",
      "Epoch 7/50\n",
      "307/307 [==============================] - 195s 637ms/step - loss: 3.3895 - val_loss: 3.4692\n",
      "Epoch 8/50\n",
      "307/307 [==============================] - 195s 636ms/step - loss: 3.2820 - val_loss: 3.4061\n",
      "Epoch 9/50\n",
      "307/307 [==============================] - 195s 636ms/step - loss: 3.1878 - val_loss: 3.3498\n",
      "Epoch 10/50\n",
      "307/307 [==============================] - 195s 635ms/step - loss: 3.1045 - val_loss: 3.3079\n",
      "Epoch 11/50\n",
      "307/307 [==============================] - 195s 636ms/step - loss: 3.0295 - val_loss: 3.2711\n",
      "Epoch 12/50\n",
      "307/307 [==============================] - 195s 636ms/step - loss: 2.9612 - val_loss: 3.2456\n",
      "Epoch 13/50\n",
      "307/307 [==============================] - 199s 647ms/step - loss: 2.9006 - val_loss: 3.2196\n",
      "Epoch 14/50\n",
      "307/307 [==============================] - 198s 646ms/step - loss: 2.8456 - val_loss: 3.1967\n",
      "Epoch 15/50\n",
      "307/307 [==============================] - 198s 645ms/step - loss: 2.7961 - val_loss: 3.1771\n",
      "Epoch 16/50\n",
      "307/307 [==============================] - 197s 641ms/step - loss: 2.7485 - val_loss: 3.1666\n",
      "Epoch 17/50\n",
      "307/307 [==============================] - 196s 640ms/step - loss: 2.7031 - val_loss: 3.1526\n",
      "Epoch 18/50\n",
      "307/307 [==============================] - 196s 638ms/step - loss: 2.6610 - val_loss: 3.1378\n",
      "Epoch 19/50\n",
      "307/307 [==============================] - 196s 639ms/step - loss: 2.6222 - val_loss: 3.1267\n",
      "Epoch 20/50\n",
      "307/307 [==============================] - 197s 640ms/step - loss: 2.5878 - val_loss: 3.1242\n",
      "Epoch 21/50\n",
      "307/307 [==============================] - 197s 641ms/step - loss: 2.5545 - val_loss: 3.1130\n",
      "Epoch 22/50\n",
      "307/307 [==============================] - 197s 643ms/step - loss: 2.5202 - val_loss: 3.1037\n",
      "Epoch 23/50\n",
      "307/307 [==============================] - 198s 645ms/step - loss: 2.4857 - val_loss: 3.0980\n",
      "Epoch 24/50\n",
      "307/307 [==============================] - 200s 651ms/step - loss: 2.4560 - val_loss: 3.0984\n",
      "Epoch 25/50\n",
      "307/307 [==============================] - 199s 647ms/step - loss: 2.4299 - val_loss: 3.0917\n",
      "Epoch 26/50\n",
      "307/307 [==============================] - 199s 650ms/step - loss: 2.4059 - val_loss: 3.0952\n",
      "Epoch 27/50\n",
      "307/307 [==============================] - 197s 640ms/step - loss: 2.3779 - val_loss: 3.0869\n",
      "Epoch 28/50\n",
      "307/307 [==============================] - 197s 641ms/step - loss: 2.3541 - val_loss: 3.0955\n",
      "Epoch 29/50\n",
      "307/307 [==============================] - 196s 639ms/step - loss: 2.3321 - val_loss: 3.0874\n",
      "Epoch 00029: early stopping\n"
     ]
    }
   ],
   "source": [
    "model.compile(optimizer='rmsprop', loss='sparse_categorical_crossentropy')\n",
    "es = EarlyStopping(monitor='val_loss', patience=2, verbose=1)\n",
    "history = model.fit(x=[encoder_input_train, decoder_input_train], y=decoder_target_train, \\\n",
    "          validation_data=([encoder_input_test, decoder_input_test], decoder_target_test), \\\n",
    "          batch_size=256, callbacks=[es], epochs=50)"
   ]
  },
  {
   "cell_type": "markdown",
   "id": "85f8dfea",
   "metadata": {},
   "source": [
    "- 설계 모델 훈련\n",
    "- callbacks 함수로 최적점에 EarlyStopping이 작동\n",
    "- 검증 데이터의 손실이 줄어들지 않고 증가하는 현상이 2회(patience=2) 관측되면 조기종료"
   ]
  },
  {
   "cell_type": "code",
   "execution_count": 77,
   "id": "fce2bdb1",
   "metadata": {},
   "outputs": [
    {
     "data": {
      "image/png": "[encoded data removed]",
      "text/plain": [
       "<Figure size 432x288 with 1 Axes>"
      ]
     },
     "metadata": {
      "needs_background": "light"
     },
     "output_type": "display_data"
    }
   ],
   "source": [
    "plt.plot(history.history['loss'], label='train')\n",
    "plt.plot(history.history['val_loss'], label='test')\n",
    "plt.legend()\n",
    "plt.show()"
   ]
  },
  {
   "cell_type": "markdown",
   "id": "a1dd7986",
   "metadata": {},
   "source": [
    "- 훈련 데이터의 손실 및 검증 데이터의 손실 과정 그래프로 시각화"
   ]
  },
  {
   "cell_type": "markdown",
   "id": "389195c6",
   "metadata": {},
   "source": [
    "---\n",
    "\n",
    "### 2.6 모델 테스트"
   ]
  },
  {
   "cell_type": "code",
   "execution_count": 78,
   "id": "889b5e1b",
   "metadata": {},
   "outputs": [],
   "source": [
    "src_index_to_word = src_tokenizer.index_word # 원문 단어 집합에서 정수 -> 단어를 얻음\n",
    "tar_word_to_index = tar_tokenizer.word_index # 요약 단어 집합에서 단어 -> 정수를 얻음\n",
    "tar_index_to_word = tar_tokenizer.index_word # 요약 단어 집합에서 정수 -> 단어를 얻음"
   ]
  },
  {
   "cell_type": "markdown",
   "id": "efd5371d",
   "metadata": {},
   "source": [
    "- 정수 인덱스 행렬로 존재하던텍스트 데이터를 실제 데이터로 복원하기 위해 3개의 사전 준비"
   ]
  },
  {
   "cell_type": "code",
   "execution_count": 80,
   "id": "8cecbda9",
   "metadata": {},
   "outputs": [],
   "source": [
    "# 인코더 설계\n",
    "encoder_model = Model(inputs=encoder_inputs, outputs=[encoder_outputs, state_h, state_c])\n",
    "\n",
    "# 이전 시점의 상태들을 저장하는 텐서\n",
    "decoder_state_input_h = Input(shape=(hidden_size,))\n",
    "decoder_state_input_c = Input(shape=(hidden_size,))\n",
    "\n",
    "dec_emb2 = dec_emb_layer(decoder_inputs)\n",
    "\n",
    "# 문장의 다음 단어를 예측하기 위해서 초기 상태(initial_state)를 이전 시점의 상태로 사용. 이는 뒤의 함수 decode_sequence()에 구현\n",
    "# 훈련 과정에서와 달리 LSTM의 리턴하는 은닉 상태와 셀 상태인 state_h와 state_c를 버리지 않음.\n",
    "decoder_outputs2, state_h2, state_c2 = decoder_lstm(dec_emb2, initial_state=[decoder_state_input_h, decoder_state_input_c])"
   ]
  },
  {
   "cell_type": "markdown",
   "id": "d2ff914e",
   "metadata": {},
   "source": [
    "- 인코더 모델과 디코더 모델을 분리하여 설계"
   ]
  },
  {
   "cell_type": "code",
   "execution_count": 81,
   "id": "7a06046e",
   "metadata": {},
   "outputs": [],
   "source": [
    "# 어텐션 함수\n",
    "decoder_hidden_state_input = Input(shape=(text_max_len, hidden_size))\n",
    "attn_out_inf = attn_layer([decoder_outputs2, decoder_hidden_state_input])\n",
    "decoder_inf_concat = Concatenate(axis=-1, name='concat')([decoder_outputs2, attn_out_inf])\n",
    "\n",
    "# 디코더의 출력층\n",
    "decoder_outputs2 = decoder_softmax_layer(decoder_inf_concat) \n",
    "\n",
    "# 최종 디코더 모델\n",
    "decoder_model = Model(\n",
    "    [decoder_inputs] + [decoder_hidden_state_input,decoder_state_input_h, decoder_state_input_c],\n",
    "    [decoder_outputs2] + [state_h2, state_c2])"
   ]
  },
  {
   "cell_type": "markdown",
   "id": "5ecf0960",
   "metadata": {},
   "source": [
    "- 어텐션 메커니즘을 사용하는 출력층 설계"
   ]
  },
  {
   "cell_type": "code",
   "execution_count": 82,
   "id": "658b1ad7",
   "metadata": {},
   "outputs": [],
   "source": [
    "def decode_sequence(input_seq):\n",
    "    # 입력으로부터 인코더의 상태를 얻음\n",
    "    e_out, e_h, e_c = encoder_model.predict(input_seq)\n",
    "\n",
    "     # <SOS>에 해당하는 토큰 생성\n",
    "    target_seq = np.zeros((1,1))\n",
    "    target_seq[0, 0] = tar_word_to_index['sostoken']\n",
    "\n",
    "    stop_condition = False\n",
    "    decoded_sentence = ''\n",
    "    while not stop_condition: # stop_condition이 True가 될 때까지 루프 반복\n",
    "\n",
    "        output_tokens, h, c = decoder_model.predict([target_seq] + [e_out, e_h, e_c])\n",
    "        sampled_token_index = np.argmax(output_tokens[0, -1, :])\n",
    "        sampled_token = tar_index_to_word[sampled_token_index]\n",
    "\n",
    "        if (sampled_token!='eostoken'):\n",
    "            decoded_sentence += ' '+sampled_token\n",
    "\n",
    "        #  <eos>에 도달하거나 최대 길이를 넘으면 중단.\n",
    "        if (sampled_token == 'eostoken'  or len(decoded_sentence.split()) >= (headlines_max_len-1)):\n",
    "            stop_condition = True\n",
    "\n",
    "        # 길이가 1인 타겟 시퀀스를 업데이트\n",
    "        target_seq = np.zeros((1,1))\n",
    "        target_seq[0, 0] = sampled_token_index\n",
    "\n",
    "        # 상태를 업데이트 합니다.\n",
    "        e_h, e_c = h, c\n",
    "\n",
    "    return decoded_sentence"
   ]
  },
  {
   "cell_type": "markdown",
   "id": "2f18cff1",
   "metadata": {},
   "source": [
    "- 인퍼런스 단계에서 단어 시퀀스를 완성하는 함수 만들기"
   ]
  },
  {
   "cell_type": "code",
   "execution_count": 83,
   "id": "b2cbf449",
   "metadata": {},
   "outputs": [],
   "source": [
    "def seq2text(input_seq):\n",
    "    temp=''\n",
    "    for i in input_seq:\n",
    "        if (i!=0):\n",
    "            temp = temp + src_index_to_word[i]+' '\n",
    "    return temp\n",
    "\n",
    "# 요약문의 정수 시퀀스를 텍스트 시퀀스로 변환\n",
    "def seq2summary(input_seq):\n",
    "    temp=''\n",
    "    for i in input_seq:\n",
    "        if ((i!=0 and i!=tar_word_to_index['sostoken']) and i!=tar_word_to_index['eostoken']):\n",
    "            temp = temp + tar_index_to_word[i] + ' '\n",
    "    return temp"
   ]
  },
  {
   "cell_type": "markdown",
   "id": "d34c92fb",
   "metadata": {},
   "source": [
    "- 정수 시퀀스를 텍스트 시퀀스로 변환하는 함수 만들기"
   ]
  },
  {
   "cell_type": "code",
   "execution_count": 84,
   "id": "b165477d",
   "metadata": {},
   "outputs": [
    {
     "name": "stdout",
     "output_type": "stream",
     "text": [
      "원문 : sunny deol tweeted picture son karan mark first day shoot debut film pal pal dil ke paas father launched launching son said sunny directing co producing film title reportedly inspired song dharmendra film black mail \n",
      "실제 요약 : sunny shares pic from son st day of shoot for debut film \n",
      "예측 요약 :  sunny leone shares pic of her st birthday\n",
      "\n",
      "\n",
      "원문 : officials three uttar pradesh medical colleges among meeting criteria functioning caught camera selling mbbs seats admissions offered illegal ban lifted institutions demanding lakh book seat lakh total mbbs package \n",
      "실제 요약 : up medical colleges officials caught on camera selling seats \n",
      "예측 요약 :  up to get married to buy meat in up\n",
      "\n",
      "\n",
      "원문 : australian windies women cricket team captains got argument toss world cup match monday windies captain taylor told australian counterpart meg referee would bat first changed decision referee intervened declared taylor would stick original decision \n",
      "실제 요약 : captains get into argument during toss at women world cup \n",
      "예측 요약 :  england captain gets out of women after women match\n",
      "\n",
      "\n",
      "원문 : northern railways decided introduce weather glass roof ac train seats kashmir order enhance tourism valley train coaches seats gps based information system led lights automatic sliding compartment doors frequency operating train yet determined official said \n",
      "실제 요약 : railways to start all weather glass roof train in kashmir \n",
      "예측 요약 :  railways to get foot trains to help rail tracks\n",
      "\n",
      "\n",
      "원문 : tamil nadu cm aiadmk chief ek palaniswami said alliance support bjp comes opposition criticised taking soft stance centre setting cauvery management board directed supreme court aiadmk mps repeatedly disrupted parliament issue \n",
      "실제 요약 : no alliance or support to bjp tn cm \n",
      "예측 요약 :  bjp has no alliance with cm kejriwal\n",
      "\n",
      "\n",
      "원문 : india ended third day melbourne test australia today leading australia runs earlier day india pacer jasprit bumrah registered career best bowling figures help india bowl australia cheteshwar pujara virat kohli got ducks pat cummins took four five indian wickets \n",
      "실제 요약 : wickets fall on day as india lead australia by runs \n",
      "예측 요약 :  india australia australia win series for th straight test\n",
      "\n",
      "\n",
      "원문 : kareena kapoor khan talking issues like equal pay said appreciate actors like kangana ranaut bring problems forefront talking interviews said interactive session sister karisma also present male dominated industry generations changing slowly said karisma \n",
      "실제 요약 : kangana for equal pay issue kareena \n",
      "예측 요약 :  kareena kapoor is like to be kareena kapoor\n",
      "\n",
      "\n",
      "원문 : dinesh karthik slammed help india win recently concluded tri series final said owes everything mumbai rounder abhishek nayar karthik added nayar represented india odis sole man responsible improvement batting guru last years karthik said \n",
      "실제 요약 : owe everything to abhishek dinesh karthik \n",
      "예측 요약 :  did not call my india wi games to win me harbhajan\n",
      "\n",
      "\n",
      "원문 : islamic state member samata pleaded guilty several terrorism charges hid data including extremist blog usb operating system loaded onto conceal extremist data used extremist blog could closed deleted authorities \n",
      "실제 요약 : islamic state terrorist hid extremist data in \n",
      "예측 요약 :  isis claims responsibility for attacks\n",
      "\n",
      "\n",
      "원문 : gorakhpur surgeon murdered ex wife pushing cliff nepal june kept updating social media account mobile phone seven months fool police surgeon accomplices arrested sent jail saturday police said surgeon ex wife blackmailing get money property \n",
      "실제 요약 : doctor kills ex wife keeps her social media to fool police \n",
      "예측 요약 :  indian origin man jailed for selling wife in india\n",
      "\n",
      "\n"
     ]
    }
   ],
   "source": [
    "for i in range(10):\n",
    "    print(\"원문 :\", seq2text(encoder_input_test[i]))\n",
    "    print(\"실제 요약 :\", seq2summary(decoder_input_test[i]))\n",
    "    print(\"예측 요약 :\", decode_sequence(encoder_input_test[i].reshape(1, text_max_len)))\n",
    "    print(\"\\n\")"
   ]
  },
  {
   "cell_type": "markdown",
   "id": "eca845ea",
   "metadata": {},
   "source": [
    "- 데스트 데이터 10개의 샘플에 대해 실제 요약과 예측 요약을 비교"
   ]
  },
  {
   "cell_type": "markdown",
   "id": "cbf6a2ef",
   "metadata": {},
   "source": [
    "---\n",
    "\n",
    "### 2.7 추출적 요약"
   ]
  },
  {
   "cell_type": "code",
   "execution_count": 105,
   "id": "76222825",
   "metadata": {},
   "outputs": [],
   "source": [
    "import requests\n",
    "from summa.summarizer import summarize"
   ]
  },
  {
   "cell_type": "markdown",
   "id": "cea1ed5a",
   "metadata": {},
   "source": [
    "- Summa의 summarizer 모듈 불러오기"
   ]
  },
  {
   "cell_type": "code",
   "execution_count": 106,
   "id": "d3b9fecc",
   "metadata": {},
   "outputs": [],
   "source": [
    "urllib.request.urlretrieve(\"https://raw.githubusercontent.com/sunnysai12345/News_Summary/master/news_summary_more.csv\", filename=\"news_summary_more.csv\")\n",
    "data = pd.read_csv('news_summary_more.csv', encoding='iso-8859-1')"
   ]
  },
  {
   "cell_type": "markdown",
   "id": "70c00ba0",
   "metadata": {},
   "source": [
    "- 매트릭스 시놉시스 다운로드"
   ]
  },
  {
   "cell_type": "code",
   "execution_count": 112,
   "id": "2a933026",
   "metadata": {},
   "outputs": [],
   "source": [
    "data['summary'] = data['text'].apply(lambda x: summarize(x, ratio=0.7))"
   ]
  },
  {
   "cell_type": "code",
   "execution_count": 113,
   "id": "e65bd121",
   "metadata": {
    "scrolled": false
   },
   "outputs": [
    {
     "name": "stdout",
     "output_type": "stream",
     "text": [
      "원문 : Saurav Kant, an alumnus of upGrad and IIIT-B's PG Program in Machine learning and Artificial Intelligence, was a Sr Systems Engineer at Infosys with almost 5 years of work experience. The program and upGrad's 360-degree career support helped him transition to a Data Scientist at Tech Mahindra with 90% salary hike. upGrad's Online Power Learning has powered 3 lakh+ careers.\n",
      "실제 요약 : upGrad learner switches to career in ML & Al with 90% salary hike\n",
      "추출 요약 : The program and upGrad's 360-degree career support helped him transition to a Data Scientist at Tech Mahindra with 90% salary hike.\n",
      "upGrad's Online Power Learning has powered 3 lakh+ careers.\n",
      "\n",
      "\n",
      "원문 : Kunal Shah's credit card bill payment platform, CRED, gave users a chance to win free food from Swiggy for one year. Pranav Kaushik, a Delhi techie, bagged this reward after spending 2000 CRED coins. Users get one CRED coin per rupee of bill paid, which can be used to avail rewards from brands like Ixigo, BookMyShow, UberEats, Cult.Fit and more.\n",
      "실제 요약 : Delhi techie wins free food from Swiggy for one year on CRED\n",
      "추출 요약 : Pranav Kaushik, a Delhi techie, bagged this reward after spending 2000 CRED coins.\n",
      "Users get one CRED coin per rupee of bill paid, which can be used to avail rewards from brands like Ixigo, BookMyShow, UberEats, Cult.Fit and more.\n",
      "\n",
      "\n",
      "원문 : New Zealand defeated India by 8 wickets in the fourth ODI at Hamilton on Thursday to win their first match of the five-match ODI series. India lost an international match under Rohit Sharma's captaincy after 12 consecutive victories dating back to March 2018. The match witnessed India getting all out for 92, their seventh lowest total in ODI cricket history.\n",
      "실제 요약 : New Zealand end Rohit Sharma-led India's 12-match winning streak\n",
      "추출 요약 : New Zealand defeated India by 8 wickets in the fourth ODI at Hamilton on Thursday to win their first match of the five-match ODI series.\n",
      "The match witnessed India getting all out for 92, their seventh lowest total in ODI cricket history.\n",
      "\n",
      "\n",
      "원문 : With Aegon Life iTerm Insurance plan, customers can enjoy tax benefits on your premiums paid and save up to Ã¢ÂÂ¹46,800^ on taxes. The plan provides life cover up to the age of 100 years. Also, customers have options to insure against Critical Illnesses, Disability and Accidental Death Benefit Rider with a life cover up to the age of 80 years.\n",
      "실제 요약 : Aegon life iTerm insurance plan helps customers save tax\n",
      "추출 요약 : The plan provides life cover up to the age of 100 years.\n",
      "Also, customers have options to insure against Critical Illnesses, Disability and Accidental Death Benefit Rider with a life cover up to the age of 80 years.\n",
      "\n",
      "\n",
      "원문 : Speaking about the sexual harassment allegations against Rajkumar Hirani, Sonam Kapoor said, \"I've known Hirani for many years...What if it's not true, the [#MeToo] movement will get derailed.\" \"In the #MeToo movement, I always believe a woman. But in this case, we need to reserve our judgment,\" she added. Hirani has been accused by an assistant who worked in 'Sanju'.\n",
      "실제 요약 : Have known Hirani for yrs, what if MeToo claims are not true: Sonam\n",
      "추출 요약 : Speaking about the sexual harassment allegations against Rajkumar Hirani, Sonam Kapoor said, \"I've known Hirani for many years...What if it's not true, the [#MeToo] movement will get derailed.\" \"In the #MeToo movement, I always believe a woman.\n",
      "Hirani has been accused by an assistant who worked in 'Sanju'.\n",
      "\n",
      "\n",
      "원문 : Pakistani singer Rahat Fateh Ali Khan has denied receiving any notice from the Enforcement Directorate over allegedly smuggling foreign currency out of India. \"It would have been better if the authorities would have served the notice first if any and then publicised this,\" reads a press release issued on behalf of Rahat. The statement further called the allegation \"bizarre\".\n",
      "실제 요약 : Rahat Fateh Ali Khan denies getting notice for smuggling currency\n",
      "추출 요약 : Pakistani singer Rahat Fateh Ali Khan has denied receiving any notice from the Enforcement Directorate over allegedly smuggling foreign currency out of India.\n",
      "\"It would have been better if the authorities would have served the notice first if any and then publicised this,\" reads a press release issued on behalf of Rahat.\n",
      "\n",
      "\n",
      "원문 : India recorded their lowest ODI total in New Zealand after getting all out for 92 runs in 30.5 overs in the fourth ODI at Hamilton on Thursday. Seven of India's batsmen were dismissed for single-digit scores, while their number ten batsman Yuzvendra Chahal top-scored with 18*(37). India's previous lowest ODI total in New Zealand was 108.\n",
      "실제 요약 : India get all out for 92, their lowest ODI total in New Zealand\n",
      "추출 요약 : India recorded their lowest ODI total in New Zealand after getting all out for 92 runs in 30.5 overs in the fourth ODI at Hamilton on Thursday.\n",
      "India's previous lowest ODI total in New Zealand was 108.\n",
      "\n",
      "\n",
      "원문 : Weeks after ex-CBI Director Alok Verma told the Department of Personnel and Training to consider him retired, the Home Ministry asked him to join work on the last day of his fixed tenure as Director on Thursday. The ministry directed him to immediately join as DG, Fire Services, the post he was transferred to after his removal as CBI chief.\n",
      "실제 요약 : Govt directs Alok Verma to join work 1 day before his retirement\n",
      "추출 요약 : Weeks after ex-CBI Director Alok Verma told the Department of Personnel and Training to consider him retired, the Home Ministry asked him to join work on the last day of his fixed tenure as Director on Thursday.\n",
      "\n",
      "\n",
      "원문 : Andhra Pradesh CM N Chandrababu Naidu has said, \"When I met then US President Bill Clinton, I addressed him as Mr Clinton, not as 'sir'. (PM Narendra) Modi is my junior in politics...I addressed him as sir 10 times.\" \"I did this...to satisfy his ego in the hope that he will do justice to the state,\" he added.\n",
      "실제 요약 : Called PM Modi 'sir' 10 times to satisfy his ego: Andhra CM\n",
      "추출 요약 : Andhra Pradesh CM N Chandrababu Naidu has said, \"When I met then US President Bill Clinton, I addressed him as Mr Clinton, not as 'sir'.\n",
      "\n",
      "\n",
      "원문 : Congress candidate Shafia Zubair won the Ramgarh Assembly seat in Rajasthan, by defeating BJP's Sukhwant Singh with a margin of 12,228 votes in the bypoll. With this victory, Congress has taken its total to 100 seats in the 200-member assembly. The election to the Ramgarh seat was delayed due to the death of sitting MLA and BSP candidate Laxman Singh.\n",
      "실제 요약 : Cong wins Ramgarh bypoll in Rajasthan, takes total to 100 seats\n",
      "추출 요약 : Congress candidate Shafia Zubair won the Ramgarh Assembly seat in Rajasthan, by defeating BJP's Sukhwant Singh with a margin of 12,228 votes in the bypoll.\n",
      "The election to the Ramgarh seat was delayed due to the death of sitting MLA and BSP candidate Laxman Singh.\n",
      "\n",
      "\n"
     ]
    }
   ],
   "source": [
    "for i in range(10):\n",
    "    print(\"원문 :\", data['text'][i])\n",
    "    print(\"실제 요약 :\", data['headlines'][i])\n",
    "    print(\"추출 요약 :\", data['summary'][i])\n",
    "    print(\"\\n\")"
   ]
  },
  {
   "cell_type": "markdown",
   "id": "82d0d73f",
   "metadata": {},
   "source": [
    "- ratio를 낮게 하면 추출 요약을 뽑아내지 못하는 원문도 있어, ratio = 0.7 로 두었다\n",
    "- 데스트 데이터 10개의 샘플에 대해 실제 요약과 추출 요약을 비교"
   ]
  },
  {
   "cell_type": "markdown",
   "id": "1cb98023",
   "metadata": {},
   "source": [
    "---\n",
    "## 3. 결론\n",
    "### 3.1 결론\n",
    "\n",
    "### 예측 요약과 추출 요약\n",
    "\n",
    "![1](data:image/png;base64,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)\n",
    "\n",
    "위 사진은  Abstractive 요약과 Extractive 요약 샘플에 대해 한 가지씩 임의로 예시를 가져온 것이다.\n",
    "\n",
    "예측 요약은 원문과는 다르게 비교적 새로운 문장을 뽑아내어 결과를 도출했고, 추출 요약은 대부분 원문에서 뽑아 온 문장들로 구성하여 결과를 도출해냈다.\n",
    "\n",
    "---\n",
    "### 3.2 참조\n",
    "추출 요약: https://wikidocs.net/91051\n",
    "\n",
    "---\n",
    "### 3.3 회고\n",
    "\n",
    "- 이번 회고는 앞으로 나의 노력이 많이 요구될 것 같아, 자기 반성적 위주로 작성했다..!\n",
    "\n",
    "모델 학습\n",
    "\n",
    "> 평소 퍼실님들 께서 점점 가면 갈 수록 모델을 학습시키는 시간이 길어질 노드가 많아질 것이라고 했었다. 이번 노드를 하기 전까지는 모델 학습 시간에 크게 투자해본적이 없었기에 위압감을 느끼지 못했었다. 이번 노드 같은 경우 다른 사람들에 비해 한 에포크당 소요시간이 다소 더 걸렸다. 물론 callbacks 함수를 사용하여 조기종료가 되었으나, 중간에 '정말 50 에포크까지 돌리면 어떡하지?' 라는 생각이 들었다. 만약 프로젝트 제출 당일 날 모델 학습을 한다고 했을 때 차질이 생긴다면 처참할 것이다. 그렇기에 얼른 미숙한 부분들을 채우고, 시간 관리를 철저히하여 노드가 밀리는 일이 생기지 않게 해야겠다.\n",
    "\n",
    "영포자는 그만..\n",
    "\n",
    "> 이번 프로젝트 노드에서 원문과 요약이 영어로 되어있기에 영포자인 나로서는 문장을 잘 생성했는지 혹은 문장을 잘 분류했는지 확인하기 버거웠다. 물론 해석하는 방법에는 문제가 없겠지만, 문법이든 단어든 영어 공부를 너무 오랜 기간 안 했다는 생각이 크게 들었다. 객관적으로 보았을 때 '겨우 이 정도를..?'이라는 생각이 들어 영어 학습에 대한 요구가 더 느껴졌다. 앞서 말한 것뿐 아니라 추후에는 더 난해한 영어 문장을 만나거나, 실무에서는 더한 영어능력을 요구하기 때문에 영어학습의 필요를 계속 되새기도록 해야겠다.\n",
    "\n",
    "NLP와 CV 무엇을..?\n",
    "\n",
    "> 슬슬 어느 분야를 선택해야할지 결정내려야 하는 순간이 다가오고 있다. 인공지능에 대해 배운지 이제 한 달이 지났는데, 노드의 난이도로만 판단했을 때는 컴퓨터 비전 관련 노드가 자연어 처리 노드에 비해 비교적 수월했다. 결과를 시각적으로 확인할 수 있기 때문에 수월했던 것 같다. 반면 자연어 처리의 경우 노드를 수행하고 나면, 의도대로 결과를 도출해냈는지 혹은 과정을 이해했는지 판단을 내리기가 어렵다. 그래도 아직 선택을 고민하는 것은 분야의 극히 일부분만 다루어보았기 때문이다. 분명 자연어 처리에 대해서도 흥미를 끌어올릴 수 있는 배움 과정이 있다면 NLP에 관심을 더 가져보고 싶다. 얼마남지 않은 기간동안 내가 희망하는 분야를 찾기 위해 더 깊게 관찰하고 고민할 필요를 크게 느낀다."
   ]
  },
  {
   "cell_type": "code",
   "execution_count": null,
   "id": "2b09f80c",
   "metadata": {},
   "outputs": [],
   "source": []
  }
 ],
 "metadata": {
  "kernelspec": {
   "display_name": "Python 3 (ipykernel)",
   "language": "python",
   "name": "python3"
  },
  "language_info": {
   "codemirror_mode": {
    "name": "ipython",
    "version": 3
   },
   "file_extension": ".py",
   "mimetype": "text/x-python",
   "name": "python",
   "nbconvert_exporter": "python",
   "pygments_lexer": "ipython3",
   "version": "3.9.7"
  }
 },
 "nbformat": 4,
 "nbformat_minor": 5
}
