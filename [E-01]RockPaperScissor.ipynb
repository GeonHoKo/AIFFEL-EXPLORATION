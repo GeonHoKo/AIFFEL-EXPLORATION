{
 "cells": [
  {
   "cell_type": "markdown",
   "id": "08d6fe74",
   "metadata": {},
   "source": [
    "# [E-01]RockPaperScissor (가위바위보 분류기 만들기)\n",
    "## 목차\n",
    "##### 01. 데이터 준비\n",
    "##### 02. 딥러닝 네트워크 설계\n",
    "##### 03. 딥러닝 네트워크 학습\n",
    "##### 04. 테스트(평가)\n",
    "##### 05. 정확도\n",
    "##### 06. 참조\n",
    "##### 07. 회고\n",
    "##### "
   ]
  },
  {
   "cell_type": "markdown",
   "id": "1738bae8",
   "metadata": {},
   "source": [
    "## 01. 데이터 준비\n",
    "- Google의 'teachable machine' 사이트를 통해 이미지 데이터 생성\n",
    "- 디렉토리 'rock_scissor_paper' 및 하위 디렉토리 생성, 가위 바위 보 데이터셋 준비"
   ]
  },
  {
   "cell_type": "code",
   "execution_count": 599,
   "id": "cee2144c",
   "metadata": {},
   "outputs": [],
   "source": [
    "import tensorflow as tf\n",
    "from tensorflow import keras\n",
    "import numpy as np\n",
    "\n",
    "import matplotlib.pyplot as plt"
   ]
  },
  {
   "cell_type": "code",
   "execution_count": 600,
   "id": "823fca91",
   "metadata": {},
   "outputs": [
    {
     "name": "stdout",
     "output_type": "stream",
     "text": [
      "PIL 라이브러리 import 완료!\n"
     ]
    }
   ],
   "source": [
    "from PIL import Image\n",
    "import os, glob\n",
    "\n",
    "print(\"PIL 라이브러리 import 완료!\")"
   ]
  },
  {
   "cell_type": "markdown",
   "id": "a90c84d8",
   "metadata": {},
   "source": [
    "- PIL 라이브러리를 설치하는 이유는 '가위,바위,보'이미지의 사이즈를 224x224에서 28x28로 변경하기 위해"
   ]
  },
  {
   "cell_type": "code",
   "execution_count": 601,
   "id": "bc8d8a35",
   "metadata": {},
   "outputs": [],
   "source": [
    "def resize_images(img_path):\n",
    "    images=glob.glob(img_path + \"/*.jpg\")  \n",
    "    \n",
    "    print(len(images), \" images to be resized.\")\n",
    "\n",
    "    target_size=(28,28)\n",
    "    for img in images:\n",
    "        old_img=Image.open(img)\n",
    "        new_img=old_img.resize(target_size,Image.ANTIALIAS)\n",
    "        new_img.save(img, \"JPEG\")\n",
    "    \n",
    "    print(len(images), \" images resized.\")"
   ]
  },
  {
   "cell_type": "markdown",
   "id": "31452041",
   "metadata": {},
   "source": [
    "- 파일마다 모두 28x28 사이즈로 바꾸어 target_size에 저장"
   ]
  },
  {
   "cell_type": "code",
   "execution_count": 602,
   "id": "c80d8bc2",
   "metadata": {},
   "outputs": [
    {
     "name": "stdout",
     "output_type": "stream",
     "text": [
      "400  images to be resized.\n",
      "400  images resized.\n",
      "가위 이미지 resize 완료!\n"
     ]
    }
   ],
   "source": [
    "image_dir_path = os.getenv(\"HOME\") + \"/aiffel/rock_scissor_paper/scissor\"\n",
    "resize_images(image_dir_path)\n",
    "\n",
    "print(\"가위 이미지 resize 완료!\")"
   ]
  },
  {
   "cell_type": "code",
   "execution_count": 603,
   "id": "6441bca0",
   "metadata": {},
   "outputs": [
    {
     "name": "stdout",
     "output_type": "stream",
     "text": [
      "400  images to be resized.\n",
      "400  images resized.\n",
      "바위 이미지 resize 완료!\n"
     ]
    }
   ],
   "source": [
    "image_dir_path = os.getenv(\"HOME\") + \"/aiffel/rock_scissor_paper/rock\"\n",
    "resize_images(image_dir_path)\n",
    "    \n",
    "print(\"바위 이미지 resize 완료!\")"
   ]
  },
  {
   "cell_type": "code",
   "execution_count": 604,
   "id": "e5c5deed",
   "metadata": {},
   "outputs": [
    {
     "name": "stdout",
     "output_type": "stream",
     "text": [
      "400  images to be resized.\n",
      "400  images resized.\n",
      "보 이미지 resize 완료!\n"
     ]
    }
   ],
   "source": [
    "image_dir_path = os.getenv(\"HOME\") + \"/aiffel/rock_scissor_paper/paper\"\n",
    "resize_images(image_dir_path)\n",
    "\n",
    "print(\"보 이미지 resize 완료!\")"
   ]
  },
  {
   "cell_type": "markdown",
   "id": "b049bd14",
   "metadata": {},
   "source": [
    "- resize 메서드를 활용하여 가위, 바위, 보 모두 28x28 사이즈로 resize 완료"
   ]
  },
  {
   "cell_type": "code",
   "execution_count": 605,
   "id": "6c6b708c",
   "metadata": {},
   "outputs": [
    {
     "name": "stdout",
     "output_type": "stream",
     "text": [
      "학습데이터(x_train)의 이미지 개수는 1200 입니다.\n",
      "x_train shape: (1200, 28, 28, 3)\n",
      "y_train shape: (1200,)\n"
     ]
    }
   ],
   "source": [
    "def load_data(img_path, number_of_data=1200):  \n",
    "  \n",
    "    img_size=28\n",
    "    color=3\n",
    "\n",
    "    imgs=np.zeros(number_of_data*img_size*img_size*color,dtype=np.int32).reshape(number_of_data,img_size,img_size,color)\n",
    "    labels=np.zeros(number_of_data,dtype=np.int32)\n",
    "\n",
    "    idx=0\n",
    "    for file in glob.iglob(img_path+'/scissor/*.jpg'):\n",
    "        img = np.array(Image.open(file),dtype=np.int32)\n",
    "        imgs[idx,:,:,:]=img    \n",
    "        labels[idx]=0   \n",
    "        idx=idx+1\n",
    "\n",
    "    for file in glob.iglob(img_path+'/rock/*.jpg'):\n",
    "        img = np.array(Image.open(file),dtype=np.int32)\n",
    "        imgs[idx,:,:,:]=img    \n",
    "        labels[idx]=1  \n",
    "        idx=idx+1  \n",
    "    \n",
    "    for file in glob.iglob(img_path+'/paper/*.jpg'):\n",
    "        img = np.array(Image.open(file),dtype=np.int32)\n",
    "        imgs[idx,:,:,:]=img   \n",
    "        labels[idx]=2  \n",
    "        idx=idx+1\n",
    "        \n",
    "    print(\"학습데이터(x_train)의 이미지 개수는\", idx,\"입니다.\")\n",
    "    return imgs, labels\n",
    "\n",
    "image_dir_path = os.getenv(\"HOME\") + \"/aiffel/rock_scissor_paper\"\n",
    "(x_train, y_train)=load_data(image_dir_path)\n",
    "x_train_norm = x_train/255.0   \n",
    "\n",
    "print(\"x_train shape: {}\".format(x_train.shape))\n",
    "print(\"y_train shape: {}\".format(y_train.shape))"
   ]
  },
  {
   "cell_type": "markdown",
   "id": "1b25f252",
   "metadata": {},
   "source": [
    "- load_data() 함수를 통해 이미지가 있는 폴더의 데이터를 부름\n",
    "- 학습데이터의 이미지 개수는 총 1200개\n",
    "- 이미지 데이터와 라벨데이터를 담은 행렬 영역을 생성하여 라벨링 (가위:0, 바위:1, 보:2)\n",
    "- 데이터는 각 픽셀 값의 0~255 범위에 있으므로, 데이터들을 255.0으로 나누어 입력은 0 ~ 1 사이의 값으로 정규화시킴"
   ]
  },
  {
   "cell_type": "code",
   "execution_count": 606,
   "id": "9805c79f",
   "metadata": {},
   "outputs": [
    {
     "name": "stdout",
     "output_type": "stream",
     "text": [
      "라벨:  0\n"
     ]
    },
    {
     "data": {
      "image/png": "[encoded data removed]",
      "text/plain": [
       "<Figure size 432x288 with 1 Axes>"
      ]
     },
     "metadata": {
      "needs_background": "light"
     },
     "output_type": "display_data"
    }
   ],
   "source": [
    "plt.imshow(x_train[0])\n",
    "print('라벨: ', y_train[0])"
   ]
  },
  {
   "cell_type": "markdown",
   "id": "eca8aa05",
   "metadata": {},
   "source": [
    "- 데이터셋의 X항목(x_train)은 이미지를 담은 행렬\n",
    "- 데이터셋의 Y항목(y_train)은 실제 숫자를 담은 행렬"
   ]
  },
  {
   "cell_type": "markdown",
   "id": "8d92b9a0",
   "metadata": {},
   "source": [
    "## 02. 딥러닝 네트워크 설계"
   ]
  },
  {
   "cell_type": "code",
   "execution_count": 607,
   "id": "fbef5923",
   "metadata": {},
   "outputs": [
    {
     "name": "stdout",
     "output_type": "stream",
     "text": [
      "Model에 추가된 Layer 개수:  7\n"
     ]
    }
   ],
   "source": [
    "model=keras.models.Sequential()\n",
    "model.add(keras.layers.Conv2D(32, (3,3), activation='relu', input_shape=(28,28,3)))\n",
    "model.add(keras.layers.MaxPool2D(2,2))\n",
    "model.add(keras.layers.Conv2D(64, (3,3), activation='relu'))\n",
    "model.add(keras.layers.MaxPooling2D((2,2)))\n",
    "model.add(keras.layers.Flatten())\n",
    "model.add(keras.layers.Dense(32, activation='relu'))     \n",
    "model.add(keras.layers.Dense(3, activation='softmax'))   \n",
    "\n",
    "print('Model에 추가된 Layer 개수: ', len(model.layers))"
   ]
  },
  {
   "cell_type": "markdown",
   "id": "e8f9c7a2",
   "metadata": {},
   "source": [
    "- tf.keras의 Sequential API를 이용\n",
    "- Conv2D의 사이즈가 3x3인 필터를 32개, 64개 사용하여 이미지의 특징을 다양화 \n",
    "- 이미지의 색상이 컬러이므로, input_shape=(28,28,3)으로 지정\n",
    "- 복잡한 영상임으로 인지하고 dense의 뉴런 숫자 32를 지정\n",
    "- 최종 분류기의 Class가 가위,바위,보 3종류이므로 3을 기입 "
   ]
  },
  {
   "cell_type": "markdown",
   "id": "55d42d17",
   "metadata": {},
   "source": [
    "- Conv2D는 필터로 특징을 뽑아 주는 Convolution 레이어\n",
    "- MaxPool2D 와 MaxPooling2D 는 이름만 크게 다를 뿐, 컨볼루션 레이어의 출력 이미지에서 주요값만 뽑아 크기가 작은 출력 영상을 만듬\n",
    "- Flatten는 전결합층에 전달하기 위해 1차원 자료로 바꾸어 주는 레이어\n",
    "- Dense 레이어의 첫 번째 인자는 분류기에 사용되는 뉴런 숫자, 마지막 Dense 레이어의 뉴런 숫자는 결과적으로 분류해내야하는 수\n"
   ]
  },
  {
   "cell_type": "code",
   "execution_count": 608,
   "id": "b7360528",
   "metadata": {},
   "outputs": [
    {
     "name": "stdout",
     "output_type": "stream",
     "text": [
      "Model: \"sequential_44\"\n",
      "_________________________________________________________________\n",
      "Layer (type)                 Output Shape              Param #   \n",
      "=================================================================\n",
      "conv2d_90 (Conv2D)           (None, 26, 26, 32)        896       \n",
      "_________________________________________________________________\n",
      "max_pooling2d_90 (MaxPooling (None, 13, 13, 32)        0         \n",
      "_________________________________________________________________\n",
      "conv2d_91 (Conv2D)           (None, 11, 11, 64)        18496     \n",
      "_________________________________________________________________\n",
      "max_pooling2d_91 (MaxPooling (None, 5, 5, 64)          0         \n",
      "_________________________________________________________________\n",
      "flatten_44 (Flatten)         (None, 1600)              0         \n",
      "_________________________________________________________________\n",
      "dense_88 (Dense)             (None, 32)                51232     \n",
      "_________________________________________________________________\n",
      "dense_89 (Dense)             (None, 3)                 99        \n",
      "=================================================================\n",
      "Total params: 70,723\n",
      "Trainable params: 70,723\n",
      "Non-trainable params: 0\n",
      "_________________________________________________________________\n"
     ]
    }
   ],
   "source": [
    "model.summary()"
   ]
  },
  {
   "cell_type": "markdown",
   "id": "f8f7a2c6",
   "metadata": {},
   "source": [
    "## 03. 딥러닝 네트워크 학습"
   ]
  },
  {
   "cell_type": "code",
   "execution_count": 609,
   "id": "718a7456",
   "metadata": {},
   "outputs": [
    {
     "name": "stdout",
     "output_type": "stream",
     "text": [
      "Epoch 1/20\n",
      "38/38 [==============================] - 0s 3ms/step - loss: 1.0062 - accuracy: 0.5083\n",
      "Epoch 2/20\n",
      "38/38 [==============================] - 0s 3ms/step - loss: 0.6483 - accuracy: 0.7717\n",
      "Epoch 3/20\n",
      "38/38 [==============================] - 0s 3ms/step - loss: 0.2773 - accuracy: 0.9508\n",
      "Epoch 4/20\n",
      "38/38 [==============================] - 0s 3ms/step - loss: 0.1044 - accuracy: 0.9817\n",
      "Epoch 5/20\n",
      "38/38 [==============================] - 0s 3ms/step - loss: 0.0541 - accuracy: 0.9967\n",
      "Epoch 6/20\n",
      "38/38 [==============================] - 0s 3ms/step - loss: 0.0241 - accuracy: 0.9967\n",
      "Epoch 7/20\n",
      "38/38 [==============================] - 0s 3ms/step - loss: 0.0113 - accuracy: 1.0000\n",
      "Epoch 8/20\n",
      "38/38 [==============================] - 0s 3ms/step - loss: 0.0076 - accuracy: 1.0000\n",
      "Epoch 9/20\n",
      "38/38 [==============================] - 0s 3ms/step - loss: 0.0058 - accuracy: 1.0000\n",
      "Epoch 10/20\n",
      "38/38 [==============================] - 0s 3ms/step - loss: 0.0038 - accuracy: 1.0000\n",
      "Epoch 11/20\n",
      "38/38 [==============================] - 0s 4ms/step - loss: 0.0033 - accuracy: 1.0000\n",
      "Epoch 12/20\n",
      "38/38 [==============================] - 0s 3ms/step - loss: 0.0024 - accuracy: 1.0000\n",
      "Epoch 13/20\n",
      "38/38 [==============================] - 0s 3ms/step - loss: 0.0020 - accuracy: 1.0000\n",
      "Epoch 14/20\n",
      "38/38 [==============================] - 0s 3ms/step - loss: 0.0017 - accuracy: 1.0000\n",
      "Epoch 15/20\n",
      "38/38 [==============================] - 0s 3ms/step - loss: 0.0014 - accuracy: 1.0000\n",
      "Epoch 16/20\n",
      "38/38 [==============================] - 0s 3ms/step - loss: 0.0012 - accuracy: 1.0000\n",
      "Epoch 17/20\n",
      "38/38 [==============================] - 0s 3ms/step - loss: 0.0011 - accuracy: 1.0000\n",
      "Epoch 18/20\n",
      "38/38 [==============================] - 0s 3ms/step - loss: 9.3191e-04 - accuracy: 1.0000\n",
      "Epoch 19/20\n",
      "38/38 [==============================] - 0s 3ms/step - loss: 8.2364e-04 - accuracy: 1.0000\n",
      "Epoch 20/20\n",
      "38/38 [==============================] - 0s 3ms/step - loss: 7.4566e-04 - accuracy: 1.0000\n"
     ]
    },
    {
     "data": {
      "text/plain": [
       "<keras.callbacks.History at 0x7f96207c0580>"
      ]
     },
     "execution_count": 609,
     "metadata": {},
     "output_type": "execute_result"
    }
   ],
   "source": [
    "model.compile(optimizer='adam',\n",
    "             loss='sparse_categorical_crossentropy',\n",
    "             metrics=['accuracy'])\n",
    "\n",
    "model.fit(x_train_norm, y_train, epochs=20)"
   ]
  },
  {
   "cell_type": "markdown",
   "id": "54c6263d",
   "metadata": {},
   "source": [
    "- 'epochs = 20' : 전체 데이터를 20번 반복 사용하여 학습"
   ]
  },
  {
   "cell_type": "markdown",
   "id": "1fbc67b5",
   "metadata": {},
   "source": [
    "## 04. 테스트(평가)    "
   ]
  },
  {
   "cell_type": "code",
   "execution_count": 610,
   "id": "89c7f17f",
   "metadata": {},
   "outputs": [
    {
     "name": "stdout",
     "output_type": "stream",
     "text": [
      "100  images to be resized.\n",
      "100  images resized.\n",
      "가위_test 이미지 resize 완료!\n",
      "100  images to be resized.\n",
      "100  images resized.\n",
      "바위_test 이미지 resize 완료!\n",
      "100  images to be resized.\n",
      "100  images resized.\n",
      "보_test 이미지 resize 완료!\n"
     ]
    }
   ],
   "source": [
    "def resize_images(img_path):\n",
    "    images=glob.glob(img_path + \"/*.jpg\")  \n",
    "    \n",
    "    print(len(images), \" images to be resized.\")\n",
    "\n",
    "    target_size=(28,28)\n",
    "    for img in images:\n",
    "        old_img=Image.open(img)\n",
    "        new_img=old_img.resize(target_size,Image.ANTIALIAS)\n",
    "        new_img.save(img, \"JPEG\")\n",
    "    \n",
    "    print(len(images), \" images resized.\")\n",
    "\n",
    "image_dir_path = os.getenv(\"HOME\") + \"/aiffel/rock_scissor_paper/test/scissor_test\"\n",
    "resize_images(image_dir_path)\n",
    "\n",
    "print(\"가위_test 이미지 resize 완료!\")\n",
    "\n",
    "image_dir_path = os.getenv(\"HOME\") + \"/aiffel/rock_scissor_paper/test/rock_test\"\n",
    "resize_images(image_dir_path)\n",
    "\n",
    "print(\"바위_test 이미지 resize 완료!\")\n",
    "\n",
    "image_dir_path = os.getenv(\"HOME\") + \"/aiffel/rock_scissor_paper/test/paper_test\"\n",
    "resize_images(image_dir_path)\n",
    "\n",
    "print(\"보_test 이미지 resize 완료!\")"
   ]
  },
  {
   "cell_type": "markdown",
   "id": "9ad63ed6",
   "metadata": {},
   "source": [
    "- 위와 동일하게 resize 메서드를 활용하여 가위_test, 바위_test, 보_test 모두 28x28 사이즈로 resize 완료"
   ]
  },
  {
   "cell_type": "code",
   "execution_count": 611,
   "id": "bf966549",
   "metadata": {},
   "outputs": [
    {
     "name": "stdout",
     "output_type": "stream",
     "text": [
      "테스트데이터(x_test)의 이미지 개수는 300 입니다.\n",
      "x_test shape: (300, 28, 28, 3)\n",
      "y_test shape: (300,)\n"
     ]
    }
   ],
   "source": [
    "def load_data_test(img_path, number_of_data=300):  \n",
    "  \n",
    "    img_size=28\n",
    "    color=3\n",
    "\n",
    "    imgs=np.zeros(number_of_data*img_size*img_size*color,dtype=np.int32).reshape(number_of_data,img_size,img_size,color)\n",
    "    labels=np.zeros(number_of_data,dtype=np.int32)\n",
    "\n",
    "    idx=0\n",
    "    for file in glob.iglob(img_path+'/scissor_test/*.jpg'):\n",
    "        img = np.array(Image.open(file),dtype=np.int32)\n",
    "        imgs[idx,:,:,:]=img    \n",
    "        labels[idx]=0   \n",
    "        idx=idx+1\n",
    "\n",
    "    for file in glob.iglob(img_path+'/rock_test/*.jpg'):\n",
    "        img = np.array(Image.open(file),dtype=np.int32)\n",
    "        imgs[idx,:,:,:]=img    \n",
    "        labels[idx]=1  \n",
    "        idx=idx+1  \n",
    "    \n",
    "    for file in glob.iglob(img_path+'/paper_test/*.jpg'):\n",
    "        img = np.array(Image.open(file),dtype=np.int32)\n",
    "        imgs[idx,:,:,:]=img   \n",
    "        labels[idx]=2  \n",
    "        idx=idx+1\n",
    "        \n",
    "    print(\"테스트데이터(x_test)의 이미지 개수는\", idx,\"입니다.\")\n",
    "    return imgs, labels\n",
    "\n",
    "image_dir_path = os.getenv(\"HOME\") + \"/aiffel/rock_scissor_paper/test\"\n",
    "(x_test, y_test)=load_data_test(image_dir_path)\n",
    "x_test_norm = x_test/255.0   \n",
    "\n",
    "print(\"x_test shape: {}\".format(x_test.shape))\n",
    "print(\"y_test shape: {}\".format(y_test.shape))"
   ]
  },
  {
   "cell_type": "code",
   "execution_count": 612,
   "id": "0d8af60f",
   "metadata": {},
   "outputs": [
    {
     "name": "stdout",
     "output_type": "stream",
     "text": [
      "10/10 - 0s - loss: 1.6679 - accuracy: 0.7233\n",
      "test_loss: 1.6679376363754272 \n",
      "test_accuracy: 0.7233333587646484\n"
     ]
    }
   ],
   "source": [
    "test_loss, test_accuracy = model.evaluate(x_test_norm, y_test, verbose=2)\n",
    "print(\"test_loss: {} \".format(test_loss))\n",
    "print(\"test_accuracy: {}\".format(test_accuracy))"
   ]
  },
  {
   "cell_type": "markdown",
   "id": "fe423cfe",
   "metadata": {},
   "source": [
    "## 5. 정확도\n",
    "- 학습 데이터 300장, 테스트 데이터 300장, Epoch==10, accuracy: 0.1200\n",
    "- 학습 데이터 600장, 테스트 데이터 300장, Epoch==10, accuracy: 0.3333\n",
    "- 학습 데이터 600장, 테스트 데이터 300장, Epoch==30, accuracy: 0.4067\n",
    "- 학습 데이터 1200장, 테스트 데이터 300장, Epoch==10, accuracy: 0.3067\n",
    "- 학습 데이터 1200장, 테스트 데이터 300장, Epoch==30, accuracy: 0.3100\n",
    "- 학습 데이터 2400장, 테스트 데이터 300장, Epoch==10, accuracy: 0.3899\n",
    "- 학습 데이터 2400장, 테스트 데이터 300장, Epoch==30, accuracy: 0.4133 \n",
    "- 학습 데이터 2400장, 테스트 데이터 300장, Epoch==30, accuracy: 0.4800 (Conv2D 필터의 개수 조정 각각 32,64 -> 64,128)\n",
    "- 학습 데이터 2400장, 테스트 데이터 300장, Epoch==30, accuracy: 0.5867 (dense: 32 -> 64)\n",
    "> 목표한 정확도(60%)에 가까워졌기에 테스트 데이터의 이미지를 수정할 필요를 느낌.  테스트 데이터의 사진을 다른 데이터로 변경해보고, 개수도 조정해봄\n",
    "\n",
    "- 학습 데이터 2400장, 테스트 데이터 240장, Epoch==30, accuracy: 0.3833 \n",
    "- 학습 데이터 2400장, 테스트 데이터 240장, Epoch==30, accuracy: 0.3958 (Conv2D 필터의 개수 다시 조정 각각 64,128 ->128,256)\n",
    "> 기존의 학습 데이터에서 질이 좋지 않은 이미지를 300장 제거해봄\n",
    " \n",
    "- 학습 데이터 2100장, 테스트 데이터 240장, Epoch==30, accuracy: 0.4000\n",
    "> 여기서 학습 데이터량만 높이면 된다고 판단함\n",
    "\n",
    "- 학습 데이터 3300장, 테스트 데이터 300장, Epoch==30, accuracy: 0.2000\n",
    "> 무작정 학습 데이터량만 늘렸을 뿐인데 정확도는 오히려 낮아졌기에 학습데이터의 질을 높여 좋은 데이터만으로 학습을 다시 시작했음\n",
    "\n",
    "Conv 24D 필터 각각: 32,64 / dense:32로 model 값은 건들지 않고 학습량만 생각을 해보겠다는 판단을 함\n",
    "- 학습 데이터 600장, 테스트 데이터 300장, Epoch==20, accuracy: 0.5067\n",
    "- 학습 데이터 1200장, 테스트 데이터 300장, Epoch==20, accuracy: 0.7233\n",
    "> 목표하던 정확도 이상의 결과를 보였음.\n",
    "\n",
    "## 정확도 = 72%"
   ]
  },
  {
   "cell_type": "markdown",
   "id": "e7c6c79b",
   "metadata": {},
   "source": [
    "## 6. 참조\n",
    "#### 각 레이어의 명칭과 쓰임을 참조하였음 : https://tykimos.github.io/2017/01/27/CNN_Layer_Talk/"
   ]
  },
  {
   "cell_type": "markdown",
   "id": "3ea4864c",
   "metadata": {},
   "source": [
    "## 7. 회고\n",
    "#### - 처음 진행하던 프로젝트 이기도 했고, 아직까지 파이썬과 각종 용어에 대한 지식이 미숙한 편이었기에 코드 작성에 조금 까다로움을 느꼈던 것 같다. 코드에 대한 내용의 큰 틀은 파악했으나, 아직 명칭과 쓰임에 대해서 미숙하여 전반적인 내용 학습이 더 필요하다 느꼈다.\n",
    "\n",
    "#### - 일단 결과물에 대해서는 스스로 만족하는 것 같다. 처음에 학습 데이터 300개와 테스트 데이터 300개의(비율 1:1) 이미지를 가지고 정확도 판단을 시작했다. 그러면서 학습데이터만 점차 2배씩 늘려갔고 중간에 하이퍼파라미터를 과도하게 조절하기도 했다. 원하는 정확도에 거의 도달했을 쯤에 테스트데이터의 이미지 질이 좋지 않다고 판단하여 새롭게 변경하고 개수도 조정했다. 그러고나서 학습 데이터를 늘리니 오히려 오버피팅의 결과를 일으켰다. 원인을 찾지 못해 하이퍼파라미터를 계속 조절해도 정확도는 쉽게 오르지 않았다. 그래서 내린 생각은 적절한 하이퍼파라미터 값을 정해놓고, 질이 좋은 학습데이터만을 구성하여 다시 학습량을 점차 늘려가자는 것이 결론이었다. 그랬더니 결국 목표하던 정확도 이상의 결과값을 얻어낼 수 있었다.\n",
    "\n"
   ]
  },
  {
   "cell_type": "code",
   "execution_count": null,
   "id": "fd13b0eb",
   "metadata": {},
   "outputs": [],
   "source": []
  }
 ],
 "metadata": {
  "kernelspec": {
   "display_name": "Python 3 (ipykernel)",
   "language": "python",
   "name": "python3"
  },
  "language_info": {
   "codemirror_mode": {
    "name": "ipython",
    "version": 3
   },
   "file_extension": ".py",
   "mimetype": "text/x-python",
   "name": "python",
   "nbconvert_exporter": "python",
   "pygments_lexer": "ipython3",
   "version": "3.9.7"
  }
 },
 "nbformat": 4,
 "nbformat_minor": 5
}
