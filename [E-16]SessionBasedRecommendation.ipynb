{
 "cells": [
  {
   "cell_type": "markdown",
   "id": "5b3561f9",
   "metadata": {},
   "source": [
    "# [E-16]SessionBasedRecommendation \n",
    "_____\n",
    "\n",
    "## 목차\n",
    "### 1. 개요\n",
    "    1.1 들어가기에 앞서\n",
    "    1.2 루브릭 평가기준\n",
    " \n",
    "### 2. 프로젝트 : Movielens 영화 SBR\n",
    "    2.1 데이터 준비 및 전처리\n",
    "    2.2 미니 배치의 구성\n",
    "    2.3 모델 구성\n",
    "    2.4 모델 학습\n",
    "    2.5 모델 테스트\n",
    "    \n",
    "### 3. 결론\n",
    "    3.1 결론\n",
    "    3.2 참조\n",
    "    3.3 회고\n",
    "    \n",
    "-----\n",
    "\n",
    "## 1. 개요\n",
    "\n",
    "### 1.1 들어가기에 앞서\n",
    "\n",
    "#### Session-Parallel Mini-Batches \n",
    "\n",
    "![1](https://d3s0tskafalll9.cloudfront.net/media/images/input1.max-800x600.png)\n",
    "\n",
    "- Session 1, 2, 3을 하나의 mini-batch로 만든다면, 이 미니 배치의 연산은 Session 3의 연산이 끝나야 끝나는 식\n",
    "\n",
    "- 위 사진은 데이터 샘플 하나로 보고 mini-batch를 구성하여 input으로 넣는다면 길이가 제일 긴 세션의 연산이 끝날 때까지 짧은 세션들이 기다려야 한다는 문제점이 있음\n",
    "\n",
    "\n",
    "![2](https://d3s0tskafalll9.cloudfront.net/media/images/input2.max-800x600.png)\n",
    "\n",
    "- 위 문제점을 보완하도록, 위 사진처럼 **Session-Parallel Mini-Batches** 사용\n",
    "\n",
    "- 이 방법은 Session이 끝날 때까지 기다리지 않고 병렬적으로 계산하는 방법.session2가 끝나면 session4가 시작하는 방식.\n",
    "\n",
    "\n",
    "\n",
    "---\n",
    "\n",
    "### 1.2 루브릭 평가기준\n",
    "\n",
    "평가문항|상세기준\n",
    "-|-\n",
    "1. Movielens 데이터셋을 session based recommendation 관점으로 전처리하는 과정이 체계적으로 진행되었다.|데이터셋의 면밀한 분석을 토대로 세션단위 정의 과정(길이분석, 시간분석)을 합리적으로 수행한 과정이 기술되었다.\n",
    "2. RNN 기반의 예측 모델이 정상적으로 구성되어 안정적으로 훈련이 진행되었다.|적절한 epoch만큼의 학습이 진행되는 과정에서 train loss가 안정적으로 감소하고, validation 단계에서의 Recall, MRR이 개선되는 것이 확인된다.\n",
    "3. 세션정의, 모델구조, 하이퍼파라미터 등을 변경해서 실험하여 Recall, MRR 등의 변화추이를 관찰하였다.|3가지 이상의 변화를 시도하고 그 실험결과를 체계적으로 분석하였다."
   ]
  },
  {
   "cell_type": "markdown",
   "id": "2d4390af",
   "metadata": {},
   "source": [
    "---\n",
    "## 2. 프로젝트 : Movielens 영화 SBR\n",
    "\n",
    "### 2.1 데이터 준비 및 전처리\n",
    "\n",
    "- 데이터셋 항목별 기본 분석, session length, session time, cleaning 등의 작업을 진행\n",
    "- 데이터셋에서는 Session이 아닌 UserID 단위로 데이터가 생성되어 있으므로, 이를 Session 단위로 어떻게 해석할지 주의"
   ]
  },
  {
   "cell_type": "markdown",
   "id": "bd31d90c",
   "metadata": {},
   "source": [
    "##### (1) 데이터 준비"
   ]
  },
  {
   "cell_type": "code",
   "execution_count": 1,
   "id": "1476da21",
   "metadata": {},
   "outputs": [],
   "source": [
    "import datetime as dt\n",
    "from pathlib import Path\n",
    "import os\n",
    "\n",
    "import numpy as np\n",
    "import pandas as pd\n",
    "import warnings\n",
    "warnings.filterwarnings('ignore')\n",
    "import datetime, time"
   ]
  },
  {
   "cell_type": "markdown",
   "id": "2645be06",
   "metadata": {},
   "source": [
    "- 필요한 모듈 불러오기"
   ]
  },
  {
   "cell_type": "code",
   "execution_count": 2,
   "id": "92a0eed3",
   "metadata": {
    "scrolled": false
   },
   "outputs": [
    {
     "data": {
      "text/html": [
       "<div>\n",
       "<style scoped>\n",
       "    .dataframe tbody tr th:only-of-type {\n",
       "        vertical-align: middle;\n",
       "    }\n",
       "\n",
       "    .dataframe tbody tr th {\n",
       "        vertical-align: top;\n",
       "    }\n",
       "\n",
       "    .dataframe thead th {\n",
       "        text-align: right;\n",
       "    }\n",
       "</style>\n",
       "<table border=\"1\" class=\"dataframe\">\n",
       "  <thead>\n",
       "    <tr style=\"text-align: right;\">\n",
       "      <th></th>\n",
       "      <th>UserId</th>\n",
       "      <th>ItemId</th>\n",
       "      <th>Rating</th>\n",
       "      <th>Time</th>\n",
       "    </tr>\n",
       "  </thead>\n",
       "  <tbody>\n",
       "    <tr>\n",
       "      <th>31</th>\n",
       "      <td>1</td>\n",
       "      <td>3186</td>\n",
       "      <td>4</td>\n",
       "      <td>978300019</td>\n",
       "    </tr>\n",
       "    <tr>\n",
       "      <th>22</th>\n",
       "      <td>1</td>\n",
       "      <td>1270</td>\n",
       "      <td>5</td>\n",
       "      <td>978300055</td>\n",
       "    </tr>\n",
       "    <tr>\n",
       "      <th>27</th>\n",
       "      <td>1</td>\n",
       "      <td>1721</td>\n",
       "      <td>4</td>\n",
       "      <td>978300055</td>\n",
       "    </tr>\n",
       "    <tr>\n",
       "      <th>37</th>\n",
       "      <td>1</td>\n",
       "      <td>1022</td>\n",
       "      <td>5</td>\n",
       "      <td>978300055</td>\n",
       "    </tr>\n",
       "    <tr>\n",
       "      <th>24</th>\n",
       "      <td>1</td>\n",
       "      <td>2340</td>\n",
       "      <td>3</td>\n",
       "      <td>978300103</td>\n",
       "    </tr>\n",
       "    <tr>\n",
       "      <th>...</th>\n",
       "      <td>...</td>\n",
       "      <td>...</td>\n",
       "      <td>...</td>\n",
       "      <td>...</td>\n",
       "    </tr>\n",
       "    <tr>\n",
       "      <th>1000019</th>\n",
       "      <td>6040</td>\n",
       "      <td>2917</td>\n",
       "      <td>4</td>\n",
       "      <td>997454429</td>\n",
       "    </tr>\n",
       "    <tr>\n",
       "      <th>999988</th>\n",
       "      <td>6040</td>\n",
       "      <td>1921</td>\n",
       "      <td>4</td>\n",
       "      <td>997454464</td>\n",
       "    </tr>\n",
       "    <tr>\n",
       "      <th>1000172</th>\n",
       "      <td>6040</td>\n",
       "      <td>1784</td>\n",
       "      <td>3</td>\n",
       "      <td>997454464</td>\n",
       "    </tr>\n",
       "    <tr>\n",
       "      <th>1000167</th>\n",
       "      <td>6040</td>\n",
       "      <td>161</td>\n",
       "      <td>3</td>\n",
       "      <td>997454486</td>\n",
       "    </tr>\n",
       "    <tr>\n",
       "      <th>1000042</th>\n",
       "      <td>6040</td>\n",
       "      <td>1221</td>\n",
       "      <td>4</td>\n",
       "      <td>998315055</td>\n",
       "    </tr>\n",
       "  </tbody>\n",
       "</table>\n",
       "<p>1000209 rows × 4 columns</p>\n",
       "</div>"
      ],
      "text/plain": [
       "         UserId  ItemId  Rating       Time\n",
       "31            1    3186       4  978300019\n",
       "22            1    1270       5  978300055\n",
       "27            1    1721       4  978300055\n",
       "37            1    1022       5  978300055\n",
       "24            1    2340       3  978300103\n",
       "...         ...     ...     ...        ...\n",
       "1000019    6040    2917       4  997454429\n",
       "999988     6040    1921       4  997454464\n",
       "1000172    6040    1784       3  997454464\n",
       "1000167    6040     161       3  997454486\n",
       "1000042    6040    1221       4  998315055\n",
       "\n",
       "[1000209 rows x 4 columns]"
      ]
     },
     "execution_count": 2,
     "metadata": {},
     "output_type": "execute_result"
    }
   ],
   "source": [
    "data_path = Path(os.getenv('HOME')+'/aiffel/yoochoose/data/') \n",
    "train_path = data_path / 'ratings.dat'\n",
    "\n",
    "def load_data(data_path: Path, nrows=None):\n",
    "    data = pd.read_csv(data_path, sep='::', header=None, usecols=[0, 1, 2, 3], dtype={0: np.int32, 1: np.int32, 2: np.int32}, nrows=nrows)\n",
    "    data.columns = ['UserId', 'ItemId', 'Rating', 'Time']\n",
    "    return data\n",
    "\n",
    "data = load_data(train_path, None)\n",
    "data.sort_values(['UserId', 'Time'], inplace=True)  # data를 id와 시간 순서로 정렬해줍니다.\n",
    "data"
   ]
  },
  {
   "cell_type": "markdown",
   "id": "403f859b",
   "metadata": {},
   "source": [
    "- 주요 칼럼들이 포함된 데이터를 불러오기\n",
    "- 데이터 개수: 1000209 개"
   ]
  },
  {
   "cell_type": "markdown",
   "id": "80ea1a05",
   "metadata": {},
   "source": [
    "---\n",
    "\n",
    "##### (2) 평점 2점 이하의 데이터 제외"
   ]
  },
  {
   "cell_type": "code",
   "execution_count": 3,
   "id": "073bf262",
   "metadata": {},
   "outputs": [],
   "source": [
    "data = data[data['Rating'] > 2]"
   ]
  },
  {
   "cell_type": "markdown",
   "id": "02196875",
   "metadata": {},
   "source": [
    "- 영화 추천 시스템이기 때문에 평점 2점 이하의 데이터를 제외"
   ]
  },
  {
   "cell_type": "code",
   "execution_count": 4,
   "id": "6b9aa8ef",
   "metadata": {},
   "outputs": [
    {
     "data": {
      "text/html": [
       "<div>\n",
       "<style scoped>\n",
       "    .dataframe tbody tr th:only-of-type {\n",
       "        vertical-align: middle;\n",
       "    }\n",
       "\n",
       "    .dataframe tbody tr th {\n",
       "        vertical-align: top;\n",
       "    }\n",
       "\n",
       "    .dataframe thead th {\n",
       "        text-align: right;\n",
       "    }\n",
       "</style>\n",
       "<table border=\"1\" class=\"dataframe\">\n",
       "  <thead>\n",
       "    <tr style=\"text-align: right;\">\n",
       "      <th></th>\n",
       "      <th>UserId</th>\n",
       "      <th>ItemId</th>\n",
       "      <th>Rating</th>\n",
       "      <th>Time</th>\n",
       "    </tr>\n",
       "  </thead>\n",
       "  <tbody>\n",
       "    <tr>\n",
       "      <th>31</th>\n",
       "      <td>1</td>\n",
       "      <td>3186</td>\n",
       "      <td>4</td>\n",
       "      <td>978300019</td>\n",
       "    </tr>\n",
       "    <tr>\n",
       "      <th>22</th>\n",
       "      <td>1</td>\n",
       "      <td>1270</td>\n",
       "      <td>5</td>\n",
       "      <td>978300055</td>\n",
       "    </tr>\n",
       "    <tr>\n",
       "      <th>27</th>\n",
       "      <td>1</td>\n",
       "      <td>1721</td>\n",
       "      <td>4</td>\n",
       "      <td>978300055</td>\n",
       "    </tr>\n",
       "    <tr>\n",
       "      <th>37</th>\n",
       "      <td>1</td>\n",
       "      <td>1022</td>\n",
       "      <td>5</td>\n",
       "      <td>978300055</td>\n",
       "    </tr>\n",
       "    <tr>\n",
       "      <th>24</th>\n",
       "      <td>1</td>\n",
       "      <td>2340</td>\n",
       "      <td>3</td>\n",
       "      <td>978300103</td>\n",
       "    </tr>\n",
       "    <tr>\n",
       "      <th>...</th>\n",
       "      <td>...</td>\n",
       "      <td>...</td>\n",
       "      <td>...</td>\n",
       "      <td>...</td>\n",
       "    </tr>\n",
       "    <tr>\n",
       "      <th>1000019</th>\n",
       "      <td>6040</td>\n",
       "      <td>2917</td>\n",
       "      <td>4</td>\n",
       "      <td>997454429</td>\n",
       "    </tr>\n",
       "    <tr>\n",
       "      <th>999988</th>\n",
       "      <td>6040</td>\n",
       "      <td>1921</td>\n",
       "      <td>4</td>\n",
       "      <td>997454464</td>\n",
       "    </tr>\n",
       "    <tr>\n",
       "      <th>1000172</th>\n",
       "      <td>6040</td>\n",
       "      <td>1784</td>\n",
       "      <td>3</td>\n",
       "      <td>997454464</td>\n",
       "    </tr>\n",
       "    <tr>\n",
       "      <th>1000167</th>\n",
       "      <td>6040</td>\n",
       "      <td>161</td>\n",
       "      <td>3</td>\n",
       "      <td>997454486</td>\n",
       "    </tr>\n",
       "    <tr>\n",
       "      <th>1000042</th>\n",
       "      <td>6040</td>\n",
       "      <td>1221</td>\n",
       "      <td>4</td>\n",
       "      <td>998315055</td>\n",
       "    </tr>\n",
       "  </tbody>\n",
       "</table>\n",
       "<p>836478 rows × 4 columns</p>\n",
       "</div>"
      ],
      "text/plain": [
       "         UserId  ItemId  Rating       Time\n",
       "31            1    3186       4  978300019\n",
       "22            1    1270       5  978300055\n",
       "27            1    1721       4  978300055\n",
       "37            1    1022       5  978300055\n",
       "24            1    2340       3  978300103\n",
       "...         ...     ...     ...        ...\n",
       "1000019    6040    2917       4  997454429\n",
       "999988     6040    1921       4  997454464\n",
       "1000172    6040    1784       3  997454464\n",
       "1000167    6040     161       3  997454486\n",
       "1000042    6040    1221       4  998315055\n",
       "\n",
       "[836478 rows x 4 columns]"
      ]
     },
     "execution_count": 4,
     "metadata": {},
     "output_type": "execute_result"
    }
   ],
   "source": [
    "data"
   ]
  },
  {
   "cell_type": "markdown",
   "id": "da0a878f",
   "metadata": {},
   "source": [
    "- 평점 2점 이하의 데이터를 제외한 데이터의 개수는 836478개"
   ]
  },
  {
   "cell_type": "markdown",
   "id": "8b4066ef",
   "metadata": {},
   "source": [
    "---\n",
    "\n",
    "##### (3) Time 형식 변환"
   ]
  },
  {
   "cell_type": "code",
   "execution_count": 5,
   "id": "85e35f3e",
   "metadata": {},
   "outputs": [
    {
     "data": {
      "text/html": [
       "<div>\n",
       "<style scoped>\n",
       "    .dataframe tbody tr th:only-of-type {\n",
       "        vertical-align: middle;\n",
       "    }\n",
       "\n",
       "    .dataframe tbody tr th {\n",
       "        vertical-align: top;\n",
       "    }\n",
       "\n",
       "    .dataframe thead th {\n",
       "        text-align: right;\n",
       "    }\n",
       "</style>\n",
       "<table border=\"1\" class=\"dataframe\">\n",
       "  <thead>\n",
       "    <tr style=\"text-align: right;\">\n",
       "      <th></th>\n",
       "      <th>UserId</th>\n",
       "      <th>ItemId</th>\n",
       "      <th>Rating</th>\n",
       "      <th>Time</th>\n",
       "    </tr>\n",
       "  </thead>\n",
       "  <tbody>\n",
       "    <tr>\n",
       "      <th>31</th>\n",
       "      <td>1</td>\n",
       "      <td>3186</td>\n",
       "      <td>4</td>\n",
       "      <td>2000-12-31 22:00:19</td>\n",
       "    </tr>\n",
       "    <tr>\n",
       "      <th>22</th>\n",
       "      <td>1</td>\n",
       "      <td>1270</td>\n",
       "      <td>5</td>\n",
       "      <td>2000-12-31 22:00:55</td>\n",
       "    </tr>\n",
       "    <tr>\n",
       "      <th>27</th>\n",
       "      <td>1</td>\n",
       "      <td>1721</td>\n",
       "      <td>4</td>\n",
       "      <td>2000-12-31 22:00:55</td>\n",
       "    </tr>\n",
       "    <tr>\n",
       "      <th>37</th>\n",
       "      <td>1</td>\n",
       "      <td>1022</td>\n",
       "      <td>5</td>\n",
       "      <td>2000-12-31 22:00:55</td>\n",
       "    </tr>\n",
       "    <tr>\n",
       "      <th>24</th>\n",
       "      <td>1</td>\n",
       "      <td>2340</td>\n",
       "      <td>3</td>\n",
       "      <td>2000-12-31 22:01:43</td>\n",
       "    </tr>\n",
       "    <tr>\n",
       "      <th>...</th>\n",
       "      <td>...</td>\n",
       "      <td>...</td>\n",
       "      <td>...</td>\n",
       "      <td>...</td>\n",
       "    </tr>\n",
       "    <tr>\n",
       "      <th>1000019</th>\n",
       "      <td>6040</td>\n",
       "      <td>2917</td>\n",
       "      <td>4</td>\n",
       "      <td>2001-08-10 14:40:29</td>\n",
       "    </tr>\n",
       "    <tr>\n",
       "      <th>999988</th>\n",
       "      <td>6040</td>\n",
       "      <td>1921</td>\n",
       "      <td>4</td>\n",
       "      <td>2001-08-10 14:41:04</td>\n",
       "    </tr>\n",
       "    <tr>\n",
       "      <th>1000172</th>\n",
       "      <td>6040</td>\n",
       "      <td>1784</td>\n",
       "      <td>3</td>\n",
       "      <td>2001-08-10 14:41:04</td>\n",
       "    </tr>\n",
       "    <tr>\n",
       "      <th>1000167</th>\n",
       "      <td>6040</td>\n",
       "      <td>161</td>\n",
       "      <td>3</td>\n",
       "      <td>2001-08-10 14:41:26</td>\n",
       "    </tr>\n",
       "    <tr>\n",
       "      <th>1000042</th>\n",
       "      <td>6040</td>\n",
       "      <td>1221</td>\n",
       "      <td>4</td>\n",
       "      <td>2001-08-20 13:44:15</td>\n",
       "    </tr>\n",
       "  </tbody>\n",
       "</table>\n",
       "<p>836478 rows × 4 columns</p>\n",
       "</div>"
      ],
      "text/plain": [
       "         UserId  ItemId  Rating                Time\n",
       "31            1    3186       4 2000-12-31 22:00:19\n",
       "22            1    1270       5 2000-12-31 22:00:55\n",
       "27            1    1721       4 2000-12-31 22:00:55\n",
       "37            1    1022       5 2000-12-31 22:00:55\n",
       "24            1    2340       3 2000-12-31 22:01:43\n",
       "...         ...     ...     ...                 ...\n",
       "1000019    6040    2917       4 2001-08-10 14:40:29\n",
       "999988     6040    1921       4 2001-08-10 14:41:04\n",
       "1000172    6040    1784       3 2001-08-10 14:41:04\n",
       "1000167    6040     161       3 2001-08-10 14:41:26\n",
       "1000042    6040    1221       4 2001-08-20 13:44:15\n",
       "\n",
       "[836478 rows x 4 columns]"
      ]
     },
     "execution_count": 5,
     "metadata": {},
     "output_type": "execute_result"
    }
   ],
   "source": [
    "times = data[\"Time\"] \n",
    "tmp_list = [] \n",
    "for time in times: \n",
    "    tmp_date = dt.datetime.fromtimestamp(time)\n",
    "    tmp_list.append(tmp_date)\n",
    "data[\"Time\"] = tmp_list \n",
    "data"
   ]
  },
  {
   "cell_type": "markdown",
   "id": "b48ebe2a",
   "metadata": {},
   "source": [
    "- Time 칼럼의 시간을 TImestamp에서 Datetime 형식으로 변환"
   ]
  },
  {
   "cell_type": "markdown",
   "id": "64d81ead",
   "metadata": {},
   "source": [
    "---\n",
    "\n",
    "##### (4) 데이터 개수 확인"
   ]
  },
  {
   "cell_type": "code",
   "execution_count": 6,
   "id": "668d37bb",
   "metadata": {},
   "outputs": [
    {
     "data": {
      "text/plain": [
       "(6039, 3628)"
      ]
     },
     "execution_count": 6,
     "metadata": {},
     "output_type": "execute_result"
    }
   ],
   "source": [
    "data['UserId'].nunique(), data['ItemId'].nunique()"
   ]
  },
  {
   "cell_type": "markdown",
   "id": "0d9b793b",
   "metadata": {},
   "source": [
    "- SessionId 대신 UserId 단위로 데이터가 생성되어 있으므로 변경\n",
    "- UserId의 고유값: 6040\n",
    "- ItemId의 고유값: 3706"
   ]
  },
  {
   "cell_type": "code",
   "execution_count": 7,
   "id": "41bc4110",
   "metadata": {},
   "outputs": [
    {
     "data": {
      "text/plain": [
       "UserId\n",
       "1        53\n",
       "2       116\n",
       "3        46\n",
       "4        19\n",
       "5       143\n",
       "       ... \n",
       "6036    708\n",
       "6037    189\n",
       "6038     18\n",
       "6039    119\n",
       "6040    276\n",
       "Length: 6039, dtype: int64"
      ]
     },
     "execution_count": 7,
     "metadata": {},
     "output_type": "execute_result"
    }
   ],
   "source": [
    "session_length = data.groupby('UserId').size()\n",
    "session_length"
   ]
  },
  {
   "cell_type": "markdown",
   "id": "c3a590df",
   "metadata": {},
   "source": [
    "- session_length는 유저 각각의 영화에 대한 평점 개수를 의미"
   ]
  },
  {
   "cell_type": "code",
   "execution_count": 8,
   "id": "571bc5fe",
   "metadata": {},
   "outputs": [
    {
     "data": {
      "text/plain": [
       "count    6039.000000\n",
       "mean      138.512668\n",
       "std       156.241599\n",
       "min         1.000000\n",
       "25%        38.000000\n",
       "50%        81.000000\n",
       "75%       177.000000\n",
       "max      1968.000000\n",
       "dtype: float64"
      ]
     },
     "execution_count": 8,
     "metadata": {},
     "output_type": "execute_result"
    }
   ],
   "source": [
    "session_length.describe()"
   ]
  },
  {
   "cell_type": "markdown",
   "id": "99c80119",
   "metadata": {},
   "source": [
    "- 데이터 요약을 위해 `describe()` 메서드 사용\n",
    "- 요약본을 보고 확인할 수 있는 것은 평점기록의 최소는 1개 최대는 1968개, 평균은 약 138개"
   ]
  },
  {
   "cell_type": "code",
   "execution_count": 9,
   "id": "202dbe66",
   "metadata": {},
   "outputs": [
    {
     "data": {
      "text/plain": [
       "1118.8860000000013"
      ]
     },
     "execution_count": 9,
     "metadata": {},
     "output_type": "execute_result"
    }
   ],
   "source": [
    "session_length.quantile(0.999)"
   ]
  },
  {
   "cell_type": "markdown",
   "id": "639ae66d",
   "metadata": {},
   "source": [
    "- 99.9% 세션의 길이가 약 1118 이하인데, 최대 길이와의 격차가 심함"
   ]
  },
  {
   "cell_type": "code",
   "execution_count": 10,
   "id": "f009ac13",
   "metadata": {},
   "outputs": [
    {
     "data": {
      "text/html": [
       "<div>\n",
       "<style scoped>\n",
       "    .dataframe tbody tr th:only-of-type {\n",
       "        vertical-align: middle;\n",
       "    }\n",
       "\n",
       "    .dataframe tbody tr th {\n",
       "        vertical-align: top;\n",
       "    }\n",
       "\n",
       "    .dataframe thead th {\n",
       "        text-align: right;\n",
       "    }\n",
       "</style>\n",
       "<table border=\"1\" class=\"dataframe\">\n",
       "  <thead>\n",
       "    <tr style=\"text-align: right;\">\n",
       "      <th></th>\n",
       "      <th>UserId</th>\n",
       "      <th>ItemId</th>\n",
       "      <th>Rating</th>\n",
       "      <th>Time</th>\n",
       "    </tr>\n",
       "  </thead>\n",
       "  <tbody>\n",
       "    <tr>\n",
       "      <th>696969</th>\n",
       "      <td>4169</td>\n",
       "      <td>1268</td>\n",
       "      <td>5</td>\n",
       "      <td>2000-08-03 20:09:52</td>\n",
       "    </tr>\n",
       "    <tr>\n",
       "      <th>697168</th>\n",
       "      <td>4169</td>\n",
       "      <td>2617</td>\n",
       "      <td>4</td>\n",
       "      <td>2000-08-03 20:09:52</td>\n",
       "    </tr>\n",
       "    <tr>\n",
       "      <th>697185</th>\n",
       "      <td>4169</td>\n",
       "      <td>2628</td>\n",
       "      <td>4</td>\n",
       "      <td>2000-08-03 20:09:52</td>\n",
       "    </tr>\n",
       "    <tr>\n",
       "      <th>697219</th>\n",
       "      <td>4169</td>\n",
       "      <td>2653</td>\n",
       "      <td>4</td>\n",
       "      <td>2000-08-03 20:09:52</td>\n",
       "    </tr>\n",
       "    <tr>\n",
       "      <th>697275</th>\n",
       "      <td>4169</td>\n",
       "      <td>423</td>\n",
       "      <td>3</td>\n",
       "      <td>2000-08-03 20:09:52</td>\n",
       "    </tr>\n",
       "    <tr>\n",
       "      <th>...</th>\n",
       "      <td>...</td>\n",
       "      <td>...</td>\n",
       "      <td>...</td>\n",
       "      <td>...</td>\n",
       "    </tr>\n",
       "    <tr>\n",
       "      <th>697055</th>\n",
       "      <td>4169</td>\n",
       "      <td>3207</td>\n",
       "      <td>3</td>\n",
       "      <td>2002-06-15 20:23:26</td>\n",
       "    </tr>\n",
       "    <tr>\n",
       "      <th>695958</th>\n",
       "      <td>4169</td>\n",
       "      <td>3413</td>\n",
       "      <td>3</td>\n",
       "      <td>2002-06-15 20:33:11</td>\n",
       "    </tr>\n",
       "    <tr>\n",
       "      <th>695702</th>\n",
       "      <td>4169</td>\n",
       "      <td>1413</td>\n",
       "      <td>3</td>\n",
       "      <td>2002-06-15 21:03:51</td>\n",
       "    </tr>\n",
       "    <tr>\n",
       "      <th>697358</th>\n",
       "      <td>4169</td>\n",
       "      <td>494</td>\n",
       "      <td>4</td>\n",
       "      <td>2002-06-15 21:16:00</td>\n",
       "    </tr>\n",
       "    <tr>\n",
       "      <th>696446</th>\n",
       "      <td>4169</td>\n",
       "      <td>1548</td>\n",
       "      <td>3</td>\n",
       "      <td>2002-06-15 21:25:37</td>\n",
       "    </tr>\n",
       "  </tbody>\n",
       "</table>\n",
       "<p>1968 rows × 4 columns</p>\n",
       "</div>"
      ],
      "text/plain": [
       "        UserId  ItemId  Rating                Time\n",
       "696969    4169    1268       5 2000-08-03 20:09:52\n",
       "697168    4169    2617       4 2000-08-03 20:09:52\n",
       "697185    4169    2628       4 2000-08-03 20:09:52\n",
       "697219    4169    2653       4 2000-08-03 20:09:52\n",
       "697275    4169     423       3 2000-08-03 20:09:52\n",
       "...        ...     ...     ...                 ...\n",
       "697055    4169    3207       3 2002-06-15 20:23:26\n",
       "695958    4169    3413       3 2002-06-15 20:33:11\n",
       "695702    4169    1413       3 2002-06-15 21:03:51\n",
       "697358    4169     494       4 2002-06-15 21:16:00\n",
       "696446    4169    1548       3 2002-06-15 21:25:37\n",
       "\n",
       "[1968 rows x 4 columns]"
      ]
     },
     "execution_count": 10,
     "metadata": {},
     "output_type": "execute_result"
    }
   ],
   "source": [
    "long_session = session_length[session_length==1968].index[0]\n",
    "data[data['UserId']==long_session]"
   ]
  },
  {
   "cell_type": "markdown",
   "id": "14c1361e",
   "metadata": {},
   "source": [
    "- 최대길이(최다 평점)의 유저 데이터를 살펴보았으나, 초기에 1초의 격차도 없이 평점을 매긴 기록이 있음. \n",
    "- 추후 최근 데이터만을 다룰 것이기에 제거하지 않고 포함"
   ]
  },
  {
   "cell_type": "markdown",
   "id": "54d0602c",
   "metadata": {},
   "source": [
    "---\n",
    "\n",
    "##### (5) Session Time"
   ]
  },
  {
   "cell_type": "code",
   "execution_count": 11,
   "id": "726fa547",
   "metadata": {},
   "outputs": [
    {
     "name": "stdout",
     "output_type": "stream",
     "text": [
      "2000-04-25 23:05:32\n",
      "2003-02-28 17:49:50\n"
     ]
    }
   ],
   "source": [
    "oldest, latest = data['Time'].min(), data['Time'].max()\n",
    "print(oldest) \n",
    "print(latest)"
   ]
  },
  {
   "cell_type": "markdown",
   "id": "93596059",
   "metadata": {},
   "source": [
    "- 데이터가 발생한 시점이 2000년대 극초반이고 약 3년치의 데이터 포함"
   ]
  },
  {
   "cell_type": "code",
   "execution_count": 12,
   "id": "b5a19966",
   "metadata": {},
   "outputs": [
    {
     "data": {
      "text/html": [
       "<div>\n",
       "<style scoped>\n",
       "    .dataframe tbody tr th:only-of-type {\n",
       "        vertical-align: middle;\n",
       "    }\n",
       "\n",
       "    .dataframe tbody tr th {\n",
       "        vertical-align: top;\n",
       "    }\n",
       "\n",
       "    .dataframe thead th {\n",
       "        text-align: right;\n",
       "    }\n",
       "</style>\n",
       "<table border=\"1\" class=\"dataframe\">\n",
       "  <thead>\n",
       "    <tr style=\"text-align: right;\">\n",
       "      <th></th>\n",
       "      <th>UserId</th>\n",
       "      <th>ItemId</th>\n",
       "      <th>Rating</th>\n",
       "      <th>Time</th>\n",
       "    </tr>\n",
       "  </thead>\n",
       "  <tbody>\n",
       "    <tr>\n",
       "      <th>2327</th>\n",
       "      <td>19</td>\n",
       "      <td>318</td>\n",
       "      <td>4</td>\n",
       "      <td>2001-07-08 01:43:18</td>\n",
       "    </tr>\n",
       "    <tr>\n",
       "      <th>2492</th>\n",
       "      <td>19</td>\n",
       "      <td>1234</td>\n",
       "      <td>5</td>\n",
       "      <td>2001-07-08 01:43:56</td>\n",
       "    </tr>\n",
       "    <tr>\n",
       "      <th>2503</th>\n",
       "      <td>20</td>\n",
       "      <td>1694</td>\n",
       "      <td>3</td>\n",
       "      <td>2001-12-29 23:37:51</td>\n",
       "    </tr>\n",
       "    <tr>\n",
       "      <th>2512</th>\n",
       "      <td>20</td>\n",
       "      <td>1468</td>\n",
       "      <td>3</td>\n",
       "      <td>2001-12-29 23:37:51</td>\n",
       "    </tr>\n",
       "    <tr>\n",
       "      <th>2517</th>\n",
       "      <td>20</td>\n",
       "      <td>2858</td>\n",
       "      <td>4</td>\n",
       "      <td>2001-12-29 23:37:51</td>\n",
       "    </tr>\n",
       "    <tr>\n",
       "      <th>...</th>\n",
       "      <td>...</td>\n",
       "      <td>...</td>\n",
       "      <td>...</td>\n",
       "      <td>...</td>\n",
       "    </tr>\n",
       "    <tr>\n",
       "      <th>1000019</th>\n",
       "      <td>6040</td>\n",
       "      <td>2917</td>\n",
       "      <td>4</td>\n",
       "      <td>2001-08-10 14:40:29</td>\n",
       "    </tr>\n",
       "    <tr>\n",
       "      <th>999988</th>\n",
       "      <td>6040</td>\n",
       "      <td>1921</td>\n",
       "      <td>4</td>\n",
       "      <td>2001-08-10 14:41:04</td>\n",
       "    </tr>\n",
       "    <tr>\n",
       "      <th>1000172</th>\n",
       "      <td>6040</td>\n",
       "      <td>1784</td>\n",
       "      <td>3</td>\n",
       "      <td>2001-08-10 14:41:04</td>\n",
       "    </tr>\n",
       "    <tr>\n",
       "      <th>1000167</th>\n",
       "      <td>6040</td>\n",
       "      <td>161</td>\n",
       "      <td>3</td>\n",
       "      <td>2001-08-10 14:41:26</td>\n",
       "    </tr>\n",
       "    <tr>\n",
       "      <th>1000042</th>\n",
       "      <td>6040</td>\n",
       "      <td>1221</td>\n",
       "      <td>4</td>\n",
       "      <td>2001-08-20 13:44:15</td>\n",
       "    </tr>\n",
       "  </tbody>\n",
       "</table>\n",
       "<p>56922 rows × 4 columns</p>\n",
       "</div>"
      ],
      "text/plain": [
       "         UserId  ItemId  Rating                Time\n",
       "2327         19     318       4 2001-07-08 01:43:18\n",
       "2492         19    1234       5 2001-07-08 01:43:56\n",
       "2503         20    1694       3 2001-12-29 23:37:51\n",
       "2512         20    1468       3 2001-12-29 23:37:51\n",
       "2517         20    2858       4 2001-12-29 23:37:51\n",
       "...         ...     ...     ...                 ...\n",
       "1000019    6040    2917       4 2001-08-10 14:40:29\n",
       "999988     6040    1921       4 2001-08-10 14:41:04\n",
       "1000172    6040    1784       3 2001-08-10 14:41:04\n",
       "1000167    6040     161       3 2001-08-10 14:41:26\n",
       "1000042    6040    1221       4 2001-08-20 13:44:15\n",
       "\n",
       "[56922 rows x 4 columns]"
      ]
     },
     "execution_count": 12,
     "metadata": {},
     "output_type": "execute_result"
    }
   ],
   "source": [
    "year_ago = latest - dt.timedelta(730)      \n",
    "data = data[data['Time'] > year_ago]   \n",
    "data"
   ]
  },
  {
   "cell_type": "markdown",
   "id": "eb3d9965",
   "metadata": {},
   "source": [
    "- 최대한 최근 데이터를 반영하기 위해 최근 데이터의 1년치만 확인"
   ]
  },
  {
   "cell_type": "markdown",
   "id": "a67d6acc",
   "metadata": {},
   "source": [
    "---\n",
    "\n",
    "##### (6) Train / Valid / Test split"
   ]
  },
  {
   "cell_type": "code",
   "execution_count": 13,
   "id": "b1f4f10b",
   "metadata": {},
   "outputs": [],
   "source": [
    "def split_by_date(data: pd.DataFrame, n_days: int):\n",
    "    final_time = data['Time'].max()\n",
    "    session_last_time = data.groupby('UserId')['Time'].max()\n",
    "    session_in_train = session_last_time[session_last_time < final_time - dt.timedelta(n_days)].index\n",
    "    session_in_test = session_last_time[session_last_time >= final_time - dt.timedelta(n_days)].index\n",
    "\n",
    "    before_date = data[data['UserId'].isin(session_in_train)]\n",
    "    after_date = data[data['UserId'].isin(session_in_test)]\n",
    "    after_date = after_date[after_date['ItemId'].isin(before_date['ItemId'])]\n",
    "    return before_date, after_date"
   ]
  },
  {
   "cell_type": "code",
   "execution_count": 14,
   "id": "ff946365",
   "metadata": {},
   "outputs": [],
   "source": [
    "tr, test = split_by_date(data, n_days=30)\n",
    "tr, val = split_by_date(tr, n_days=30)"
   ]
  },
  {
   "cell_type": "markdown",
   "id": "216e0afd",
   "metadata": {},
   "source": [
    "- 가장 마지막 30일 기간 동안을 Test로, 30일 전부터 30일 전 가지를 valid set으로 나눔"
   ]
  },
  {
   "cell_type": "code",
   "execution_count": 15,
   "id": "3605dd8f",
   "metadata": {},
   "outputs": [],
   "source": [
    "def stats_info(data: pd.DataFrame, status: str):\n",
    "    print(f'* {status} Set Stats Info\\n'\n",
    "          f'\\t Events: {len(data)}\\n'\n",
    "          f'\\t Sessions: {data[\"UserId\"].nunique()}\\n'\n",
    "          f'\\t Items: {data[\"ItemId\"].nunique()}\\n'\n",
    "          f'\\t First Time : {data[\"Time\"].min()}\\n'\n",
    "          f'\\t Last Time : {data[\"Time\"].max()}\\n')"
   ]
  },
  {
   "cell_type": "code",
   "execution_count": 16,
   "id": "73487e28",
   "metadata": {},
   "outputs": [
    {
     "name": "stdout",
     "output_type": "stream",
     "text": [
      "* train Set Stats Info\n",
      "\t Events: 37482\n",
      "\t Sessions: 790\n",
      "\t Items: 2950\n",
      "\t First Time : 2001-02-28 19:49:34\n",
      "\t Last Time : 2002-12-30 02:26:14\n",
      "\n",
      "* valid Set Stats Info\n",
      "\t Events: 6858\n",
      "\t Sessions: 81\n",
      "\t Items: 2062\n",
      "\t First Time : 2001-02-28 19:06:53\n",
      "\t Last Time : 2003-01-29 03:00:40\n",
      "\n",
      "* test Set Stats Info\n",
      "\t Events: 12274\n",
      "\t Sessions: 98\n",
      "\t Items: 2457\n",
      "\t First Time : 2001-03-01 03:10:09\n",
      "\t Last Time : 2003-02-28 17:49:50\n",
      "\n"
     ]
    }
   ],
   "source": [
    "stats_info(tr, 'train')\n",
    "stats_info(val, 'valid')\n",
    "stats_info(test, 'test')"
   ]
  },
  {
   "cell_type": "code",
   "execution_count": 17,
   "id": "8dd8ac54",
   "metadata": {},
   "outputs": [],
   "source": [
    "# train set에 없는 아이템이 val, test기간에 생길 수 있으므로 train data를 기준으로 인덱싱합니다.\n",
    "id2idx = {item_id : index for index, item_id in enumerate(tr['ItemId'].unique())}\n",
    "\n",
    "def indexing(df, id2idx):\n",
    "    df['item_idx'] = df['ItemId'].map(lambda x: id2idx.get(x, -1))  # id2idx에 없는 아이템은 모르는 값(-1) 처리 해줍니다.\n",
    "    return df\n",
    "\n",
    "tr = indexing(tr, id2idx)\n",
    "val = indexing(val, id2idx)\n",
    "test = indexing(test, id2idx)"
   ]
  },
  {
   "cell_type": "code",
   "execution_count": 18,
   "id": "57efcc49",
   "metadata": {},
   "outputs": [],
   "source": [
    "save_path = data_path / 'processed'\n",
    "save_path.mkdir(parents=True, exist_ok=True)\n",
    "\n",
    "tr.to_pickle(save_path / 'train.pkl')\n",
    "val.to_pickle(save_path / 'valid.pkl')\n",
    "test.to_pickle(save_path / 'test.pkl')"
   ]
  },
  {
   "cell_type": "markdown",
   "id": "4e93ceb1",
   "metadata": {},
   "source": [
    "---\n",
    "\n",
    "### 2.2 미니 배치의 구성\n",
    "\n",
    "실습 코드 내역을 참고하여 데이터셋과 미니 배치를 구성해 봅시다. Session-Parallel Mini-Batch의 개념에 따라, 학습 속도의 저하가 최소화될 수 있도록 구성합니다.\n",
    "단, 위 Step 1에서 Session 단위를 어떻게 정의했느냐에 따라서 Session-Parallel Mini-Batch이 굳이 필요하지 않을 수도 있습니다."
   ]
  },
  {
   "cell_type": "code",
   "execution_count": 19,
   "id": "a24cd4c1",
   "metadata": {},
   "outputs": [],
   "source": [
    "class SessionDataset:\n",
    "    \"\"\"Credit to yhs-968/pyGRU4REC.\"\"\"\n",
    "\n",
    "    def __init__(self, data):\n",
    "        self.df = data\n",
    "        self.click_offsets = self.get_click_offsets()\n",
    "        self.session_idx = np.arange(self.df['UserId'].nunique())  # indexing to SessionId\n",
    "\n",
    "    def get_click_offsets(self):\n",
    "        \"\"\"\n",
    "        Return the indexes of the first click of each session IDs,\n",
    "        \"\"\"\n",
    "        offsets = np.zeros(self.df['UserId'].nunique() + 1, dtype=np.int32)\n",
    "        offsets[1:] = self.df.groupby('UserId').size().cumsum()\n",
    "        return offsets"
   ]
  },
  {
   "cell_type": "markdown",
   "id": "7fbe3ae3",
   "metadata": {},
   "source": [
    "- 데이터가 주어지면 세션이 시작되는 인덱스를 담 값과 세션을 새로 인덱싱한 값을 갖는 클래스 생성"
   ]
  },
  {
   "cell_type": "code",
   "execution_count": 20,
   "id": "d0482b1d",
   "metadata": {},
   "outputs": [
    {
     "data": {
      "text/html": [
       "<div>\n",
       "<style scoped>\n",
       "    .dataframe tbody tr th:only-of-type {\n",
       "        vertical-align: middle;\n",
       "    }\n",
       "\n",
       "    .dataframe tbody tr th {\n",
       "        vertical-align: top;\n",
       "    }\n",
       "\n",
       "    .dataframe thead th {\n",
       "        text-align: right;\n",
       "    }\n",
       "</style>\n",
       "<table border=\"1\" class=\"dataframe\">\n",
       "  <thead>\n",
       "    <tr style=\"text-align: right;\">\n",
       "      <th></th>\n",
       "      <th>UserId</th>\n",
       "      <th>ItemId</th>\n",
       "      <th>Rating</th>\n",
       "      <th>Time</th>\n",
       "      <th>item_idx</th>\n",
       "    </tr>\n",
       "  </thead>\n",
       "  <tbody>\n",
       "    <tr>\n",
       "      <th>2327</th>\n",
       "      <td>19</td>\n",
       "      <td>318</td>\n",
       "      <td>4</td>\n",
       "      <td>2001-07-08 01:43:18</td>\n",
       "      <td>0</td>\n",
       "    </tr>\n",
       "    <tr>\n",
       "      <th>2492</th>\n",
       "      <td>19</td>\n",
       "      <td>1234</td>\n",
       "      <td>5</td>\n",
       "      <td>2001-07-08 01:43:56</td>\n",
       "      <td>1</td>\n",
       "    </tr>\n",
       "    <tr>\n",
       "      <th>2503</th>\n",
       "      <td>20</td>\n",
       "      <td>1694</td>\n",
       "      <td>3</td>\n",
       "      <td>2001-12-29 23:37:51</td>\n",
       "      <td>2</td>\n",
       "    </tr>\n",
       "    <tr>\n",
       "      <th>2512</th>\n",
       "      <td>20</td>\n",
       "      <td>1468</td>\n",
       "      <td>3</td>\n",
       "      <td>2001-12-29 23:37:51</td>\n",
       "      <td>3</td>\n",
       "    </tr>\n",
       "    <tr>\n",
       "      <th>2517</th>\n",
       "      <td>20</td>\n",
       "      <td>2858</td>\n",
       "      <td>4</td>\n",
       "      <td>2001-12-29 23:37:51</td>\n",
       "      <td>4</td>\n",
       "    </tr>\n",
       "    <tr>\n",
       "      <th>2504</th>\n",
       "      <td>20</td>\n",
       "      <td>2641</td>\n",
       "      <td>4</td>\n",
       "      <td>2001-12-29 23:38:35</td>\n",
       "      <td>5</td>\n",
       "    </tr>\n",
       "    <tr>\n",
       "      <th>2510</th>\n",
       "      <td>20</td>\n",
       "      <td>1375</td>\n",
       "      <td>3</td>\n",
       "      <td>2001-12-29 23:38:35</td>\n",
       "      <td>6</td>\n",
       "    </tr>\n",
       "    <tr>\n",
       "      <th>2520</th>\n",
       "      <td>20</td>\n",
       "      <td>3753</td>\n",
       "      <td>5</td>\n",
       "      <td>2001-12-29 23:38:36</td>\n",
       "      <td>7</td>\n",
       "    </tr>\n",
       "    <tr>\n",
       "      <th>2507</th>\n",
       "      <td>20</td>\n",
       "      <td>3527</td>\n",
       "      <td>4</td>\n",
       "      <td>2001-12-29 23:39:41</td>\n",
       "      <td>8</td>\n",
       "    </tr>\n",
       "    <tr>\n",
       "      <th>2511</th>\n",
       "      <td>20</td>\n",
       "      <td>1527</td>\n",
       "      <td>5</td>\n",
       "      <td>2001-12-29 23:39:41</td>\n",
       "      <td>9</td>\n",
       "    </tr>\n",
       "  </tbody>\n",
       "</table>\n",
       "</div>"
      ],
      "text/plain": [
       "      UserId  ItemId  Rating                Time  item_idx\n",
       "2327      19     318       4 2001-07-08 01:43:18         0\n",
       "2492      19    1234       5 2001-07-08 01:43:56         1\n",
       "2503      20    1694       3 2001-12-29 23:37:51         2\n",
       "2512      20    1468       3 2001-12-29 23:37:51         3\n",
       "2517      20    2858       4 2001-12-29 23:37:51         4\n",
       "2504      20    2641       4 2001-12-29 23:38:35         5\n",
       "2510      20    1375       3 2001-12-29 23:38:35         6\n",
       "2520      20    3753       5 2001-12-29 23:38:36         7\n",
       "2507      20    3527       4 2001-12-29 23:39:41         8\n",
       "2511      20    1527       5 2001-12-29 23:39:41         9"
      ]
     },
     "execution_count": 20,
     "metadata": {},
     "output_type": "execute_result"
    }
   ],
   "source": [
    "tr_dataset = SessionDataset(tr)\n",
    "tr_dataset.df.head(10)"
   ]
  },
  {
   "cell_type": "markdown",
   "id": "baf31aaf",
   "metadata": {},
   "source": [
    "- train데이터로 `SessionDataset` 객체를 생성후 인스턴스 변수 확인"
   ]
  },
  {
   "cell_type": "code",
   "execution_count": 21,
   "id": "0e309be3",
   "metadata": {},
   "outputs": [
    {
     "data": {
      "text/plain": [
       "array([    0,     2,    12,    22,    41,    46,   119,   179,   259,\n",
       "         286,   288,   322,   341,   342,   348,   354,   551,   696,\n",
       "         698,   728,   738,   755,   759,   770,   834,   847,   851,\n",
       "         861,  1007,  1047,  1182,  1190,  1418,  1421,  1448,  1482,\n",
       "        1488,  1507,  1844,  1858,  1929,  2001,  2052,  2080,  2162,\n",
       "        2165,  2179,  2300,  2396,  2404,  2427,  2433,  2489,  2490,\n",
       "        2514,  2515,  2520,  2529,  2582,  2596,  2616,  2639,  2662,\n",
       "        2710,  2721,  2956,  2968,  2972,  3008,  3157,  3171,  3178,\n",
       "        3369,  3382,  3554,  3698,  3702,  3703,  3714,  3745,  3754,\n",
       "        3757,  3761,  3796,  3970,  3982,  3994,  4001,  4084,  4110,\n",
       "        4163,  4202,  4214,  4270,  4271,  4287,  4317,  4520,  4544,\n",
       "        4559,  4565,  4615,  4624,  4638,  4642,  4645,  4651,  4652,\n",
       "        4667,  4729,  4785,  4786,  4823,  4844,  4921,  4953,  4961,\n",
       "        5079,  5204,  5243,  5345,  5466,  5557,  5575,  5581,  5629,\n",
       "        5696,  5813,  5855,  5860,  5865,  5870,  5873,  5886,  5898,\n",
       "        5906,  5923,  5971,  5973,  6090,  6162,  6163,  6174,  6175,\n",
       "        6346,  6370,  6389,  6623,  6690,  6732,  6760,  6763,  6807,\n",
       "        6809,  6839,  7090,  7101,  7105,  7179,  7204,  7208,  7210,\n",
       "        7239,  7246,  7249,  7275,  7298,  7379,  7389,  7390,  7638,\n",
       "        7652,  7662,  7671,  7744,  7753,  7948,  7951,  8058,  8123,\n",
       "        8281,  8290,  8292,  8298,  8375,  8638,  8646,  8666,  8762,\n",
       "        8788,  8789,  9241,  9355,  9730,  9761,  9766,  9777,  9779,\n",
       "        9787,  9798,  9805,  9823,  9848, 10067, 10316, 10366, 10374,\n",
       "       10380, 10392, 10402, 10432, 10482, 10515, 10517, 10527, 10528,\n",
       "       10533, 10565, 10591, 10622, 10701, 10710, 10775, 11002, 11082,\n",
       "       11111, 11196, 11239, 11260, 11513, 11728, 11801, 11907, 12037,\n",
       "       12092, 12154, 12177, 12181, 12459, 12502, 12511, 12743, 12745,\n",
       "       12771, 12888, 13021, 13109, 13221, 13259, 13279, 13287, 13313,\n",
       "       13549, 13570, 13593, 13594, 13775, 13776, 13783, 13793, 13871,\n",
       "       13902, 13905, 14246, 14276, 14404, 14413, 14419, 14598, 14621,\n",
       "       14624, 14630, 14643, 14850, 14856, 14931, 14943, 14947, 14951,\n",
       "       14960, 14989, 15142, 15155, 15179, 15202, 15589, 15694, 15734,\n",
       "       15821, 15827, 15841, 15914, 16136, 16246, 16303, 16467, 16566,\n",
       "       16570, 16575, 16579, 16687, 16688, 16753, 16758, 16768, 16772,\n",
       "       16775, 16845, 16880, 16908, 16999, 17032, 17036, 17048, 17096,\n",
       "       17233, 17239, 17339, 17377, 17401, 17413, 17440, 17469, 17475,\n",
       "       17511, 17533, 17588, 17602, 17681, 17692, 17706, 17772, 17777,\n",
       "       17941, 18015, 18022, 18045, 18176, 18326, 18389, 18390, 18474,\n",
       "       18475, 18495, 18516, 18599, 18660, 18665, 18717, 18910, 18913,\n",
       "       18914, 18927, 18949, 18950, 18977, 18994, 19015, 19016, 19107,\n",
       "       19130, 19138, 19187, 19231, 19240, 19259, 19271, 19273, 19352,\n",
       "       19382, 19384, 19388, 19438, 19468, 19546, 19551, 19555, 19581,\n",
       "       19728, 19767, 19822, 19823, 19838, 19895, 19896, 20097, 20139,\n",
       "       20143, 20155, 20222, 20223, 20228, 20230, 20232, 20271, 20328,\n",
       "       20418, 20431, 20465, 20543, 20548, 20597, 20610, 20626, 20629,\n",
       "       20675, 20689, 20726, 20756, 20757, 20844, 20854, 20863, 20866,\n",
       "       20882, 20910, 21021, 21065, 21075, 21085, 21108, 21262, 21286,\n",
       "       21305, 21306, 21362, 21384, 21470, 21496, 21589, 21590, 21597,\n",
       "       21615, 21804, 21951, 21958, 21960, 22153, 22225, 22242, 22243,\n",
       "       22248, 22251, 22314, 22343, 22551, 22663, 22682, 22687, 22912,\n",
       "       23056, 23177, 23216, 23293, 23324, 23386, 23417, 23490, 23539,\n",
       "       23560, 23594, 23605, 23668, 23676, 23781, 23815, 23820, 23955,\n",
       "       23974, 23994, 24162, 24163, 24185, 24188, 24194, 24301, 24307,\n",
       "       24323, 24325, 24362, 24385, 24654, 24693, 24744, 24748, 24751,\n",
       "       24752, 24769, 24774, 24793, 24828, 24835, 24839, 24858, 24868,\n",
       "       24927, 24936, 24971, 25018, 25047, 25048, 25072, 25099, 25219,\n",
       "       25234, 25273, 25331, 25407, 25416, 25419, 25445, 25465, 25513,\n",
       "       25520, 25582, 25641, 25655, 25673, 25674, 25692, 25750, 25816,\n",
       "       26011, 26030, 26033, 26053, 26066, 26067, 26113, 26115, 26132,\n",
       "       26156, 26163, 26183, 26188, 26428, 26596, 26597, 26746, 26769,\n",
       "       26771, 26803, 26808, 26817, 26837, 26911, 26976, 27004, 27012,\n",
       "       27015, 27047, 27060, 27064, 27105, 27427, 27461, 27469, 27473,\n",
       "       27490, 27577, 27587, 27650, 27665, 27666, 27673, 27674, 27698,\n",
       "       27770, 27797, 27799, 27924, 27954, 27995, 28071, 28113, 28170,\n",
       "       28182, 28198, 28290, 28306, 28307, 28310, 28331, 28403, 28649,\n",
       "       28682, 28700, 28714, 28716, 28756, 28774, 28817, 28819, 28858,\n",
       "       28864, 29019, 29029, 29076, 29085, 29106, 29150, 29240, 29450,\n",
       "       29489, 29518, 29635, 29665, 29722, 29733, 29752, 29811, 29819,\n",
       "       29823, 29863, 29870, 29899, 29900, 30028, 30041, 30050, 30199,\n",
       "       30262, 30622, 30626, 30691, 30695, 30723, 30825, 30929, 31004,\n",
       "       31013, 31017, 31020, 31059, 31076, 31117, 31231, 31245, 31257,\n",
       "       31277, 31290, 31304, 31348, 31438, 31442, 31457, 31492, 31497,\n",
       "       31526, 31533, 31721, 31777, 31779, 31788, 31797, 31805, 31810,\n",
       "       31941, 31946, 31965, 31979, 31986, 31987, 32119, 32120, 32146,\n",
       "       32153, 32242, 32330, 32352, 32354, 32368, 32432, 32433, 32441,\n",
       "       32483, 32487, 32491, 32730, 32778, 32779, 32883, 32928, 32930,\n",
       "       33107, 33112, 33158, 33250, 33255, 33295, 33307, 33429, 33668,\n",
       "       33702, 33712, 33723, 33728, 33734, 33812, 33847, 33874, 33876,\n",
       "       33879, 33927, 33943, 33946, 33961, 33968, 34000, 34005, 34038,\n",
       "       34050, 34057, 34084, 34109, 34117, 34128, 34155, 34226, 34240,\n",
       "       34278, 34298, 34323, 34328, 34508, 34531, 34539, 34546, 34623,\n",
       "       34640, 34644, 34673, 34707, 34709, 34730, 34792, 34870, 35026,\n",
       "       35052, 35084, 35239, 35273, 35448, 35523, 35536, 35539, 35561,\n",
       "       35562, 35650, 35657, 35665, 35667, 35735, 35741, 35795, 35852,\n",
       "       35860, 35905, 35923, 35944, 36103, 36145, 36154, 36165, 36449,\n",
       "       36603, 36607, 36626, 36697, 36707, 36727, 36765, 36771, 36779,\n",
       "       36783, 36823, 36862, 36863, 36918, 36926, 36975, 36992, 37053,\n",
       "       37076, 37198, 37324, 37350, 37419, 37458, 37459, 37482],\n",
       "      dtype=int32)"
      ]
     },
     "execution_count": 21,
     "metadata": {},
     "output_type": "execute_result"
    }
   ],
   "source": [
    "tr_dataset.click_offsets"
   ]
  },
  {
   "cell_type": "markdown",
   "id": "a06a97d8",
   "metadata": {},
   "source": [
    "- `click_offsets` 변수는 각 세션이 시작된 인덱스를 포함"
   ]
  },
  {
   "cell_type": "code",
   "execution_count": 22,
   "id": "f8a3decd",
   "metadata": {},
   "outputs": [
    {
     "data": {
      "text/plain": [
       "array([  0,   1,   2,   3,   4,   5,   6,   7,   8,   9,  10,  11,  12,\n",
       "        13,  14,  15,  16,  17,  18,  19,  20,  21,  22,  23,  24,  25,\n",
       "        26,  27,  28,  29,  30,  31,  32,  33,  34,  35,  36,  37,  38,\n",
       "        39,  40,  41,  42,  43,  44,  45,  46,  47,  48,  49,  50,  51,\n",
       "        52,  53,  54,  55,  56,  57,  58,  59,  60,  61,  62,  63,  64,\n",
       "        65,  66,  67,  68,  69,  70,  71,  72,  73,  74,  75,  76,  77,\n",
       "        78,  79,  80,  81,  82,  83,  84,  85,  86,  87,  88,  89,  90,\n",
       "        91,  92,  93,  94,  95,  96,  97,  98,  99, 100, 101, 102, 103,\n",
       "       104, 105, 106, 107, 108, 109, 110, 111, 112, 113, 114, 115, 116,\n",
       "       117, 118, 119, 120, 121, 122, 123, 124, 125, 126, 127, 128, 129,\n",
       "       130, 131, 132, 133, 134, 135, 136, 137, 138, 139, 140, 141, 142,\n",
       "       143, 144, 145, 146, 147, 148, 149, 150, 151, 152, 153, 154, 155,\n",
       "       156, 157, 158, 159, 160, 161, 162, 163, 164, 165, 166, 167, 168,\n",
       "       169, 170, 171, 172, 173, 174, 175, 176, 177, 178, 179, 180, 181,\n",
       "       182, 183, 184, 185, 186, 187, 188, 189, 190, 191, 192, 193, 194,\n",
       "       195, 196, 197, 198, 199, 200, 201, 202, 203, 204, 205, 206, 207,\n",
       "       208, 209, 210, 211, 212, 213, 214, 215, 216, 217, 218, 219, 220,\n",
       "       221, 222, 223, 224, 225, 226, 227, 228, 229, 230, 231, 232, 233,\n",
       "       234, 235, 236, 237, 238, 239, 240, 241, 242, 243, 244, 245, 246,\n",
       "       247, 248, 249, 250, 251, 252, 253, 254, 255, 256, 257, 258, 259,\n",
       "       260, 261, 262, 263, 264, 265, 266, 267, 268, 269, 270, 271, 272,\n",
       "       273, 274, 275, 276, 277, 278, 279, 280, 281, 282, 283, 284, 285,\n",
       "       286, 287, 288, 289, 290, 291, 292, 293, 294, 295, 296, 297, 298,\n",
       "       299, 300, 301, 302, 303, 304, 305, 306, 307, 308, 309, 310, 311,\n",
       "       312, 313, 314, 315, 316, 317, 318, 319, 320, 321, 322, 323, 324,\n",
       "       325, 326, 327, 328, 329, 330, 331, 332, 333, 334, 335, 336, 337,\n",
       "       338, 339, 340, 341, 342, 343, 344, 345, 346, 347, 348, 349, 350,\n",
       "       351, 352, 353, 354, 355, 356, 357, 358, 359, 360, 361, 362, 363,\n",
       "       364, 365, 366, 367, 368, 369, 370, 371, 372, 373, 374, 375, 376,\n",
       "       377, 378, 379, 380, 381, 382, 383, 384, 385, 386, 387, 388, 389,\n",
       "       390, 391, 392, 393, 394, 395, 396, 397, 398, 399, 400, 401, 402,\n",
       "       403, 404, 405, 406, 407, 408, 409, 410, 411, 412, 413, 414, 415,\n",
       "       416, 417, 418, 419, 420, 421, 422, 423, 424, 425, 426, 427, 428,\n",
       "       429, 430, 431, 432, 433, 434, 435, 436, 437, 438, 439, 440, 441,\n",
       "       442, 443, 444, 445, 446, 447, 448, 449, 450, 451, 452, 453, 454,\n",
       "       455, 456, 457, 458, 459, 460, 461, 462, 463, 464, 465, 466, 467,\n",
       "       468, 469, 470, 471, 472, 473, 474, 475, 476, 477, 478, 479, 480,\n",
       "       481, 482, 483, 484, 485, 486, 487, 488, 489, 490, 491, 492, 493,\n",
       "       494, 495, 496, 497, 498, 499, 500, 501, 502, 503, 504, 505, 506,\n",
       "       507, 508, 509, 510, 511, 512, 513, 514, 515, 516, 517, 518, 519,\n",
       "       520, 521, 522, 523, 524, 525, 526, 527, 528, 529, 530, 531, 532,\n",
       "       533, 534, 535, 536, 537, 538, 539, 540, 541, 542, 543, 544, 545,\n",
       "       546, 547, 548, 549, 550, 551, 552, 553, 554, 555, 556, 557, 558,\n",
       "       559, 560, 561, 562, 563, 564, 565, 566, 567, 568, 569, 570, 571,\n",
       "       572, 573, 574, 575, 576, 577, 578, 579, 580, 581, 582, 583, 584,\n",
       "       585, 586, 587, 588, 589, 590, 591, 592, 593, 594, 595, 596, 597,\n",
       "       598, 599, 600, 601, 602, 603, 604, 605, 606, 607, 608, 609, 610,\n",
       "       611, 612, 613, 614, 615, 616, 617, 618, 619, 620, 621, 622, 623,\n",
       "       624, 625, 626, 627, 628, 629, 630, 631, 632, 633, 634, 635, 636,\n",
       "       637, 638, 639, 640, 641, 642, 643, 644, 645, 646, 647, 648, 649,\n",
       "       650, 651, 652, 653, 654, 655, 656, 657, 658, 659, 660, 661, 662,\n",
       "       663, 664, 665, 666, 667, 668, 669, 670, 671, 672, 673, 674, 675,\n",
       "       676, 677, 678, 679, 680, 681, 682, 683, 684, 685, 686, 687, 688,\n",
       "       689, 690, 691, 692, 693, 694, 695, 696, 697, 698, 699, 700, 701,\n",
       "       702, 703, 704, 705, 706, 707, 708, 709, 710, 711, 712, 713, 714,\n",
       "       715, 716, 717, 718, 719, 720, 721, 722, 723, 724, 725, 726, 727,\n",
       "       728, 729, 730, 731, 732, 733, 734, 735, 736, 737, 738, 739, 740,\n",
       "       741, 742, 743, 744, 745, 746, 747, 748, 749, 750, 751, 752, 753,\n",
       "       754, 755, 756, 757, 758, 759, 760, 761, 762, 763, 764, 765, 766,\n",
       "       767, 768, 769, 770, 771, 772, 773, 774, 775, 776, 777, 778, 779,\n",
       "       780, 781, 782, 783, 784, 785, 786, 787, 788, 789])"
      ]
     },
     "execution_count": 22,
     "metadata": {},
     "output_type": "execute_result"
    }
   ],
   "source": [
    "tr_dataset.session_idx"
   ]
  },
  {
   "cell_type": "markdown",
   "id": "11d4db16",
   "metadata": {},
   "source": [
    "- `session_idx` 변수는 각 세션을 인덱싱한 `np.array`"
   ]
  },
  {
   "cell_type": "code",
   "execution_count": 23,
   "id": "fbd68a24",
   "metadata": {},
   "outputs": [],
   "source": [
    "class SessionDataLoader:\n",
    "    \"\"\"Credit to yhs-968/pyGRU4REC.\"\"\"\n",
    "\n",
    "    def __init__(self, dataset: SessionDataset, batch_size=50):\n",
    "        self.dataset = dataset\n",
    "        self.batch_size = batch_size\n",
    "\n",
    "    def __iter__(self):\n",
    "        \"\"\" Returns the iterator for producing session-parallel training mini-batches.\n",
    "        Yields:\n",
    "            input (B,):  Item indices that will be encoded as one-hot vectors later.\n",
    "            target (B,): a Variable that stores the target item indices\n",
    "            masks: Numpy array indicating the positions of the sessions to be terminated\n",
    "        \"\"\"\n",
    "\n",
    "        start, end, mask, last_session, finished = self.initialize()  # initialize 메소드에서 확인해주세요.\n",
    "        \"\"\"\n",
    "        start : Index Where Session Start\n",
    "        end : Index Where Session End\n",
    "        mask : indicator for the sessions to be terminated\n",
    "        \"\"\"\n",
    "\n",
    "        while not finished:\n",
    "            min_len = (end - start).min() - 1  # Shortest Length Among Sessions\n",
    "            for i in range(min_len):\n",
    "                # Build inputs & targets\n",
    "                inp = self.dataset.df['item_idx'].values[start + i]\n",
    "                target = self.dataset.df['item_idx'].values[start + i + 1]\n",
    "                yield inp, target, mask\n",
    "\n",
    "            start, end, mask, last_session, finished = self.update_status(start, end, min_len, last_session, finished)\n",
    "\n",
    "    def initialize(self):\n",
    "        first_iters = np.arange(self.batch_size)    # 첫 배치에 사용할 세션 Index를 가져옵니다.\n",
    "        last_session = self.batch_size - 1    # 마지막으로 다루고 있는 세션 Index를 저장해둡니다.\n",
    "        start = self.dataset.click_offsets[self.dataset.session_idx[first_iters]]       # data 상에서 session이 시작된 위치를 가져옵니다.\n",
    "        end = self.dataset.click_offsets[self.dataset.session_idx[first_iters] + 1]  # session이 끝난 위치 바로 다음 위치를 가져옵니다.\n",
    "        mask = np.array([])   # session의 모든 아이템을 다 돌은 경우 mask에 추가해줄 것입니다.\n",
    "        finished = False         # data를 전부 돌았는지 기록하기 위한 변수입니다.\n",
    "        return start, end, mask, last_session, finished\n",
    "\n",
    "    def update_status(self, start: np.ndarray, end: np.ndarray, min_len: int, last_session: int, finished: bool):  \n",
    "        # 다음 배치 데이터를 생성하기 위해 상태를 update합니다.\n",
    "        \n",
    "        start += min_len   # __iter__에서 min_len 만큼 for문을 돌았으므로 start를 min_len 만큼 더해줍니다.\n",
    "        mask = np.arange(self.batch_size)[(end - start) == 1]  \n",
    "        # end는 다음 세션이 시작되는 위치인데 start와 한 칸 차이난다는 것은 session이 끝났다는 뜻입니다. mask에 기록해줍니다.\n",
    "\n",
    "        for i, idx in enumerate(mask, start=1):  # mask에 추가된 세션 개수만큼 새로운 세션을 돌것입니다.\n",
    "            new_session = last_session + i  \n",
    "            if new_session > self.dataset.session_idx[-1]:  # 만약 새로운 세션이 마지막 세션 index보다 크다면 모든 학습데이터를 돈 것입니다.\n",
    "                finished = True\n",
    "                break\n",
    "            # update the next starting/ending point\n",
    "            start[idx] = self.dataset.click_offsets[self.dataset.session_idx[new_session]]     # 종료된 세션 대신 새로운 세션의 시작점을 기록합니다.\n",
    "            end[idx] = self.dataset.click_offsets[self.dataset.session_idx[new_session] + 1]\n",
    "\n",
    "        last_session += len(mask)  # 마지막 세션의 위치를 기록해둡니다.\n",
    "        return start, end, mask, last_session, finished"
   ]
  },
  {
   "cell_type": "code",
   "execution_count": 24,
   "id": "a934cbf5",
   "metadata": {},
   "outputs": [
    {
     "data": {
      "text/html": [
       "<div>\n",
       "<style scoped>\n",
       "    .dataframe tbody tr th:only-of-type {\n",
       "        vertical-align: middle;\n",
       "    }\n",
       "\n",
       "    .dataframe tbody tr th {\n",
       "        vertical-align: top;\n",
       "    }\n",
       "\n",
       "    .dataframe thead th {\n",
       "        text-align: right;\n",
       "    }\n",
       "</style>\n",
       "<table border=\"1\" class=\"dataframe\">\n",
       "  <thead>\n",
       "    <tr style=\"text-align: right;\">\n",
       "      <th></th>\n",
       "      <th>UserId</th>\n",
       "      <th>ItemId</th>\n",
       "      <th>Rating</th>\n",
       "      <th>Time</th>\n",
       "      <th>item_idx</th>\n",
       "    </tr>\n",
       "  </thead>\n",
       "  <tbody>\n",
       "    <tr>\n",
       "      <th>2327</th>\n",
       "      <td>19</td>\n",
       "      <td>318</td>\n",
       "      <td>4</td>\n",
       "      <td>2001-07-08 01:43:18</td>\n",
       "      <td>0</td>\n",
       "    </tr>\n",
       "    <tr>\n",
       "      <th>2492</th>\n",
       "      <td>19</td>\n",
       "      <td>1234</td>\n",
       "      <td>5</td>\n",
       "      <td>2001-07-08 01:43:56</td>\n",
       "      <td>1</td>\n",
       "    </tr>\n",
       "    <tr>\n",
       "      <th>2503</th>\n",
       "      <td>20</td>\n",
       "      <td>1694</td>\n",
       "      <td>3</td>\n",
       "      <td>2001-12-29 23:37:51</td>\n",
       "      <td>2</td>\n",
       "    </tr>\n",
       "    <tr>\n",
       "      <th>2512</th>\n",
       "      <td>20</td>\n",
       "      <td>1468</td>\n",
       "      <td>3</td>\n",
       "      <td>2001-12-29 23:37:51</td>\n",
       "      <td>3</td>\n",
       "    </tr>\n",
       "    <tr>\n",
       "      <th>2517</th>\n",
       "      <td>20</td>\n",
       "      <td>2858</td>\n",
       "      <td>4</td>\n",
       "      <td>2001-12-29 23:37:51</td>\n",
       "      <td>4</td>\n",
       "    </tr>\n",
       "    <tr>\n",
       "      <th>2504</th>\n",
       "      <td>20</td>\n",
       "      <td>2641</td>\n",
       "      <td>4</td>\n",
       "      <td>2001-12-29 23:38:35</td>\n",
       "      <td>5</td>\n",
       "    </tr>\n",
       "    <tr>\n",
       "      <th>2510</th>\n",
       "      <td>20</td>\n",
       "      <td>1375</td>\n",
       "      <td>3</td>\n",
       "      <td>2001-12-29 23:38:35</td>\n",
       "      <td>6</td>\n",
       "    </tr>\n",
       "    <tr>\n",
       "      <th>2520</th>\n",
       "      <td>20</td>\n",
       "      <td>3753</td>\n",
       "      <td>5</td>\n",
       "      <td>2001-12-29 23:38:36</td>\n",
       "      <td>7</td>\n",
       "    </tr>\n",
       "    <tr>\n",
       "      <th>2507</th>\n",
       "      <td>20</td>\n",
       "      <td>3527</td>\n",
       "      <td>4</td>\n",
       "      <td>2001-12-29 23:39:41</td>\n",
       "      <td>8</td>\n",
       "    </tr>\n",
       "    <tr>\n",
       "      <th>2511</th>\n",
       "      <td>20</td>\n",
       "      <td>1527</td>\n",
       "      <td>5</td>\n",
       "      <td>2001-12-29 23:39:41</td>\n",
       "      <td>9</td>\n",
       "    </tr>\n",
       "    <tr>\n",
       "      <th>2523</th>\n",
       "      <td>20</td>\n",
       "      <td>1240</td>\n",
       "      <td>4</td>\n",
       "      <td>2001-12-29 23:39:41</td>\n",
       "      <td>10</td>\n",
       "    </tr>\n",
       "    <tr>\n",
       "      <th>2509</th>\n",
       "      <td>20</td>\n",
       "      <td>1371</td>\n",
       "      <td>4</td>\n",
       "      <td>2001-12-29 23:40:27</td>\n",
       "      <td>11</td>\n",
       "    </tr>\n",
       "    <tr>\n",
       "      <th>2671</th>\n",
       "      <td>22</td>\n",
       "      <td>1884</td>\n",
       "      <td>4</td>\n",
       "      <td>2001-05-29 15:10:55</td>\n",
       "      <td>12</td>\n",
       "    </tr>\n",
       "    <tr>\n",
       "      <th>2776</th>\n",
       "      <td>22</td>\n",
       "      <td>2376</td>\n",
       "      <td>3</td>\n",
       "      <td>2001-05-29 15:12:20</td>\n",
       "      <td>13</td>\n",
       "    </tr>\n",
       "    <tr>\n",
       "      <th>2827</th>\n",
       "      <td>22</td>\n",
       "      <td>1097</td>\n",
       "      <td>3</td>\n",
       "      <td>2001-05-29 15:14:49</td>\n",
       "      <td>14</td>\n",
       "    </tr>\n",
       "  </tbody>\n",
       "</table>\n",
       "</div>"
      ],
      "text/plain": [
       "      UserId  ItemId  Rating                Time  item_idx\n",
       "2327      19     318       4 2001-07-08 01:43:18         0\n",
       "2492      19    1234       5 2001-07-08 01:43:56         1\n",
       "2503      20    1694       3 2001-12-29 23:37:51         2\n",
       "2512      20    1468       3 2001-12-29 23:37:51         3\n",
       "2517      20    2858       4 2001-12-29 23:37:51         4\n",
       "2504      20    2641       4 2001-12-29 23:38:35         5\n",
       "2510      20    1375       3 2001-12-29 23:38:35         6\n",
       "2520      20    3753       5 2001-12-29 23:38:36         7\n",
       "2507      20    3527       4 2001-12-29 23:39:41         8\n",
       "2511      20    1527       5 2001-12-29 23:39:41         9\n",
       "2523      20    1240       4 2001-12-29 23:39:41        10\n",
       "2509      20    1371       4 2001-12-29 23:40:27        11\n",
       "2671      22    1884       4 2001-05-29 15:10:55        12\n",
       "2776      22    2376       3 2001-05-29 15:12:20        13\n",
       "2827      22    1097       3 2001-05-29 15:14:49        14"
      ]
     },
     "execution_count": 24,
     "metadata": {},
     "output_type": "execute_result"
    }
   ],
   "source": [
    "tr_data_loader = SessionDataLoader(tr_dataset, batch_size=4)\n",
    "tr_dataset.df.head(15)"
   ]
  },
  {
   "cell_type": "code",
   "execution_count": 25,
   "id": "0e88821c",
   "metadata": {},
   "outputs": [],
   "source": [
    "iter_ex = iter(tr_data_loader)"
   ]
  },
  {
   "cell_type": "code",
   "execution_count": 26,
   "id": "ecac7401",
   "metadata": {},
   "outputs": [
    {
     "name": "stdout",
     "output_type": "stream",
     "text": [
      "Model Input Item Idx are : [ 0  2 12 21]\n",
      "Label Item Idx are :       [ 1  3 13 22]\n",
      "Previous Masked Input Idx are []\n"
     ]
    }
   ],
   "source": [
    "inputs, labels, mask =  next(iter_ex)\n",
    "print(f'Model Input Item Idx are : {inputs}')\n",
    "print(f'Label Item Idx are : {\"\":5} {labels}')\n",
    "print(f'Previous Masked Input Idx are {mask}')"
   ]
  },
  {
   "cell_type": "markdown",
   "id": "ec2fc2a7",
   "metadata": {},
   "source": [
    "---\n",
    "\n",
    "### 2.3 모델 구성\n",
    "\n",
    "##### (1) Evaluation Metric"
   ]
  },
  {
   "cell_type": "code",
   "execution_count": 27,
   "id": "168f6c20",
   "metadata": {},
   "outputs": [],
   "source": [
    "def mrr_k(pred, truth: int, k: int):\n",
    "    indexing = np.where(pred[:k] == truth)[0]\n",
    "    if len(indexing) > 0:\n",
    "        return 1 / (indexing[0] + 1)\n",
    "    else:\n",
    "        return 0\n",
    "\n",
    "\n",
    "def recall_k(pred, truth: int, k: int) -> int:\n",
    "    answer = truth in pred[:k]\n",
    "    return int(answer)"
   ]
  },
  {
   "cell_type": "markdown",
   "id": "bf6f4bc2",
   "metadata": {},
   "source": [
    "---\n",
    "\n",
    "##### (2) Model Architecture"
   ]
  },
  {
   "cell_type": "code",
   "execution_count": 28,
   "id": "74e0fd91",
   "metadata": {},
   "outputs": [],
   "source": [
    "import numpy as np\n",
    "import tensorflow as tf\n",
    "from tensorflow.keras.layers import Input, Dense, Dropout, GRU\n",
    "from tensorflow.keras.losses import categorical_crossentropy\n",
    "from tensorflow.keras.models import Model\n",
    "from tensorflow.keras.optimizers import Adam\n",
    "from tensorflow.keras.utils import to_categorical\n",
    "from tqdm import tqdm"
   ]
  },
  {
   "cell_type": "code",
   "execution_count": 29,
   "id": "d1badafe",
   "metadata": {},
   "outputs": [],
   "source": [
    "def create_model(args):\n",
    "    inputs = Input(batch_shape=(args.batch_size, 1, args.num_items))\n",
    "    gru, _ = GRU(args.hsz, stateful=True, return_state=True, name='GRU')(inputs)\n",
    "    dropout = Dropout(args.drop_rate)(gru)\n",
    "    predictions = Dense(args.num_items, activation='softmax')(dropout)\n",
    "    model = Model(inputs=inputs, outputs=[predictions])\n",
    "    model.compile(loss=categorical_crossentropy, optimizer=Adam(args.lr), metrics=['accuracy'])\n",
    "    model.summary()\n",
    "    return model"
   ]
  },
  {
   "cell_type": "code",
   "execution_count": 30,
   "id": "700741a4",
   "metadata": {},
   "outputs": [],
   "source": [
    "class Args:\n",
    "    def __init__(self, tr, val, test, batch_size, hsz, drop_rate, lr, epochs, k):\n",
    "        self.tr = tr\n",
    "        self.val = val\n",
    "        self.test = test\n",
    "        self.num_items = tr['ItemId'].nunique()\n",
    "        self.num_sessions = tr['UserId'].nunique()\n",
    "        self.batch_size = batch_size\n",
    "        self.hsz = hsz\n",
    "        self.drop_rate = drop_rate\n",
    "        self.lr = lr\n",
    "        self.epochs = epochs\n",
    "        self.k = k\n",
    "\n",
    "args = Args(tr, val, test, batch_size=8, hsz=50, drop_rate=0.1, lr=0.001, epochs=10, k=20)"
   ]
  },
  {
   "cell_type": "code",
   "execution_count": 31,
   "id": "ca5daeb3",
   "metadata": {},
   "outputs": [
    {
     "name": "stdout",
     "output_type": "stream",
     "text": [
      "Model: \"model\"\n",
      "_________________________________________________________________\n",
      "Layer (type)                 Output Shape              Param #   \n",
      "=================================================================\n",
      "input_1 (InputLayer)         [(8, 1, 2950)]            0         \n",
      "_________________________________________________________________\n",
      "GRU (GRU)                    [(8, 50), (8, 50)]        450300    \n",
      "_________________________________________________________________\n",
      "dropout (Dropout)            (8, 50)                   0         \n",
      "_________________________________________________________________\n",
      "dense (Dense)                (8, 2950)                 150450    \n",
      "=================================================================\n",
      "Total params: 600,750\n",
      "Trainable params: 600,750\n",
      "Non-trainable params: 0\n",
      "_________________________________________________________________\n"
     ]
    }
   ],
   "source": [
    "model = create_model(args)"
   ]
  },
  {
   "cell_type": "markdown",
   "id": "f9d5da16",
   "metadata": {},
   "source": [
    "---\n",
    "\n",
    "### 2.4 모델 학습"
   ]
  },
  {
   "cell_type": "code",
   "execution_count": 32,
   "id": "3e27eced",
   "metadata": {},
   "outputs": [],
   "source": [
    "# train 셋으로 학습하면서 valid 셋으로 검증합니다.\n",
    "def train_model(model, args):\n",
    "    train_dataset = SessionDataset(args.tr)\n",
    "    train_loader = SessionDataLoader(train_dataset, batch_size=args.batch_size)\n",
    "\n",
    "    for epoch in range(1, args.epochs + 1):\n",
    "        total_step = len(args.tr) - args.tr['UserId'].nunique()\n",
    "        tr_loader = tqdm(train_loader, total=total_step // args.batch_size, desc='Train', mininterval=1)\n",
    "        for feat, target, mask in tr_loader:\n",
    "            reset_hidden_states(model, mask)  # 종료된 session은 hidden_state를 초기화합니다. 아래 메서드에서 확인해주세요.\n",
    "\n",
    "            input_ohe = to_categorical(feat, num_classes=args.num_items)\n",
    "            input_ohe = np.expand_dims(input_ohe, axis=1)\n",
    "            target_ohe = to_categorical(target, num_classes=args.num_items)\n",
    "\n",
    "            result = model.train_on_batch(input_ohe, target_ohe)\n",
    "            tr_loader.set_postfix(train_loss=result[0], accuracy = result[1])\n",
    "\n",
    "        val_recall, val_mrr = get_metrics(args.val, model, args, args.k)  # valid set에 대해 검증합니다.\n",
    "\n",
    "        print(f\"\\t - Recall@{args.k} epoch {epoch}: {val_recall:3f}\")\n",
    "        print(f\"\\t - MRR@{args.k}    epoch {epoch}: {val_mrr:3f}\\n\")\n",
    "\n",
    "\n",
    "def reset_hidden_states(model, mask):\n",
    "    gru_layer = model.get_layer(name='GRU')  # model에서 gru layer를 가져옵니다.\n",
    "    hidden_states = gru_layer.states[0].numpy()  # gru_layer의 parameter를 가져옵니다.\n",
    "    for elt in mask:  # mask된 인덱스 즉, 종료된 세션의 인덱스를 돌면서\n",
    "        hidden_states[elt, :] = 0  # parameter를 초기화 합니다.\n",
    "    gru_layer.reset_states(states=hidden_states)\n",
    "\n",
    "\n",
    "def get_metrics(data, model, args, k: int):  # valid셋과 test셋을 평가하는 코드입니다. \n",
    "                                             # train과 거의 같지만 mrr, recall을 구하는 라인이 있습니다.\n",
    "    dataset = SessionDataset(data)\n",
    "    loader = SessionDataLoader(dataset, batch_size=args.batch_size)\n",
    "    recall_list, mrr_list = [], []\n",
    "\n",
    "    total_step = len(data) - data['UserId'].nunique()\n",
    "    for inputs, label, mask in tqdm(loader, total=total_step // args.batch_size, desc='Evaluation', mininterval=1):\n",
    "        reset_hidden_states(model, mask)\n",
    "        input_ohe = to_categorical(inputs, num_classes=args.num_items)\n",
    "        input_ohe = np.expand_dims(input_ohe, axis=1)\n",
    "\n",
    "        pred = model.predict(input_ohe, batch_size=args.batch_size)\n",
    "        pred_arg = tf.argsort(pred, direction='DESCENDING')  # softmax 값이 큰 순서대로 sorting 합니다.\n",
    "\n",
    "        length = len(inputs)\n",
    "        recall_list.extend([recall_k(pred_arg[i], label[i], k) for i in range(length)])\n",
    "        mrr_list.extend([mrr_k(pred_arg[i], label[i], k) for i in range(length)])\n",
    "\n",
    "    recall, mrr = np.mean(recall_list), np.mean(mrr_list)\n",
    "    return recall, mrr"
   ]
  },
  {
   "cell_type": "code",
   "execution_count": 33,
   "id": "3da1b4fa",
   "metadata": {},
   "outputs": [
    {
     "name": "stderr",
     "output_type": "stream",
     "text": [
      "Train:  99%|█████████▉| 4535/4586 [00:41<00:00, 109.44it/s, accuracy=0, train_loss=7.96]    \n",
      "Evaluation:  91%|█████████ | 768/847 [00:48<00:04, 15.85it/s]\n"
     ]
    },
    {
     "name": "stdout",
     "output_type": "stream",
     "text": [
      "\t - Recall@20 epoch 1: 0.057780\n",
      "\t - MRR@20    epoch 1: 0.014595\n",
      "\n"
     ]
    },
    {
     "name": "stderr",
     "output_type": "stream",
     "text": [
      "Train:  99%|█████████▉| 4535/4586 [00:38<00:00, 118.08it/s, accuracy=0, train_loss=7.86]    \n",
      "Evaluation:  91%|█████████ | 768/847 [00:48<00:04, 15.88it/s]\n"
     ]
    },
    {
     "name": "stdout",
     "output_type": "stream",
     "text": [
      "\t - Recall@20 epoch 2: 0.073079\n",
      "\t - MRR@20    epoch 2: 0.016979\n",
      "\n"
     ]
    },
    {
     "name": "stderr",
     "output_type": "stream",
     "text": [
      "Train:  99%|█████████▉| 4535/4586 [00:38<00:00, 117.15it/s, accuracy=0, train_loss=7.62]    \n",
      "Evaluation:  91%|█████████ | 768/847 [00:48<00:04, 15.99it/s]\n"
     ]
    },
    {
     "name": "stdout",
     "output_type": "stream",
     "text": [
      "\t - Recall@20 epoch 3: 0.081380\n",
      "\t - MRR@20    epoch 3: 0.020707\n",
      "\n"
     ]
    },
    {
     "name": "stderr",
     "output_type": "stream",
     "text": [
      "Train:  99%|█████████▉| 4535/4586 [00:38<00:00, 118.47it/s, accuracy=0, train_loss=7.1]     \n",
      "Evaluation:  91%|█████████ | 768/847 [00:47<00:04, 16.07it/s]\n"
     ]
    },
    {
     "name": "stdout",
     "output_type": "stream",
     "text": [
      "\t - Recall@20 epoch 4: 0.090658\n",
      "\t - MRR@20    epoch 4: 0.023480\n",
      "\n"
     ]
    },
    {
     "name": "stderr",
     "output_type": "stream",
     "text": [
      "Train:  99%|█████████▉| 4535/4586 [00:38<00:00, 117.67it/s, accuracy=0, train_loss=6.72]    \n",
      "Evaluation:  91%|█████████ | 768/847 [00:47<00:04, 16.13it/s]\n"
     ]
    },
    {
     "name": "stdout",
     "output_type": "stream",
     "text": [
      "\t - Recall@20 epoch 5: 0.099284\n",
      "\t - MRR@20    epoch 5: 0.027550\n",
      "\n"
     ]
    },
    {
     "name": "stderr",
     "output_type": "stream",
     "text": [
      "Train:  99%|█████████▉| 4535/4586 [00:38<00:00, 118.43it/s, accuracy=0, train_loss=6.24]    \n",
      "Evaluation:  91%|█████████ | 768/847 [00:47<00:04, 16.17it/s]\n"
     ]
    },
    {
     "name": "stdout",
     "output_type": "stream",
     "text": [
      "\t - Recall@20 epoch 6: 0.108073\n",
      "\t - MRR@20    epoch 6: 0.030559\n",
      "\n"
     ]
    },
    {
     "name": "stderr",
     "output_type": "stream",
     "text": [
      "Train:  99%|█████████▉| 4535/4586 [00:38<00:00, 118.04it/s, accuracy=0, train_loss=6.35]    \n",
      "Evaluation:  91%|█████████ | 768/847 [00:47<00:04, 16.15it/s]\n"
     ]
    },
    {
     "name": "stdout",
     "output_type": "stream",
     "text": [
      "\t - Recall@20 epoch 7: 0.110677\n",
      "\t - MRR@20    epoch 7: 0.032520\n",
      "\n"
     ]
    },
    {
     "name": "stderr",
     "output_type": "stream",
     "text": [
      "Train:  99%|█████████▉| 4535/4586 [00:38<00:00, 116.94it/s, accuracy=0, train_loss=5.96]    \n",
      "Evaluation:  91%|█████████ | 768/847 [00:47<00:04, 16.25it/s]\n"
     ]
    },
    {
     "name": "stdout",
     "output_type": "stream",
     "text": [
      "\t - Recall@20 epoch 8: 0.108724\n",
      "\t - MRR@20    epoch 8: 0.033206\n",
      "\n"
     ]
    },
    {
     "name": "stderr",
     "output_type": "stream",
     "text": [
      "Train:  99%|█████████▉| 4535/4586 [00:38<00:00, 118.04it/s, accuracy=0.125, train_loss=5.87]\n",
      "Evaluation:  91%|█████████ | 768/847 [00:47<00:04, 16.24it/s]\n"
     ]
    },
    {
     "name": "stdout",
     "output_type": "stream",
     "text": [
      "\t - Recall@20 epoch 9: 0.108724\n",
      "\t - MRR@20    epoch 9: 0.033469\n",
      "\n"
     ]
    },
    {
     "name": "stderr",
     "output_type": "stream",
     "text": [
      "Train:  99%|█████████▉| 4535/4586 [00:38<00:00, 117.88it/s, accuracy=0.125, train_loss=5.62]\n",
      "Evaluation:  91%|█████████ | 768/847 [00:47<00:04, 16.22it/s]"
     ]
    },
    {
     "name": "stdout",
     "output_type": "stream",
     "text": [
      "\t - Recall@20 epoch 10: 0.102865\n",
      "\t - MRR@20    epoch 10: 0.032629\n",
      "\n"
     ]
    },
    {
     "name": "stderr",
     "output_type": "stream",
     "text": [
      "\n"
     ]
    }
   ],
   "source": [
    "train_model(model, args)"
   ]
  },
  {
   "cell_type": "code",
   "execution_count": 34,
   "id": "98f52491",
   "metadata": {},
   "outputs": [
    {
     "name": "stderr",
     "output_type": "stream",
     "text": [
      "Evaluation:  96%|█████████▌| 1459/1522 [01:31<00:03, 16.02it/s]"
     ]
    },
    {
     "name": "stdout",
     "output_type": "stream",
     "text": [
      "\t - Recall@20: 0.075223\n",
      "\t - MRR@20: 0.021859\n",
      "\n"
     ]
    },
    {
     "name": "stderr",
     "output_type": "stream",
     "text": [
      "\n"
     ]
    }
   ],
   "source": [
    "def test_model(model, args, test):\n",
    "    test_recall, test_mrr = get_metrics(test, model, args, 20)\n",
    "    print(f\"\\t - Recall@{args.k}: {test_recall:3f}\")\n",
    "    print(f\"\\t - MRR@{args.k}: {test_mrr:3f}\\n\")\n",
    "\n",
    "test_model(model, args, test)"
   ]
  },
  {
   "cell_type": "markdown",
   "id": "20b9ed28",
   "metadata": {},
   "source": [
    "---\n",
    "\n",
    "## 3. 결론\n",
    "\n",
    "### 3.1 결론\n",
    "\n",
    "첫 시도때 배치 사이즈 2048부터 256까지, 오류가 발생하며 훈련이 진행되지 않는 문제점이 있었다.\n",
    "\n",
    "메모리문제인 것으로 생각이 되나 배치사이즈 128부터는 모델 훈련이 가능했다.\n",
    "\n",
    "또 다른 문제가 있었다면, Train 학습이 100%까지 되지 않고 게이지가 끝까지 차지 않는 상황이었다.\n",
    "\n",
    "그래서 배치 사이즈를 128부터 8까지 낮추며 훈련을 진행했다.\n",
    "\n",
    "![](https://images.velog.io/images/khkk4953/post/8fbc5db4-933a-424b-b142-6ecf1eb687b9/16-1.png)\n",
    "\n",
    "![](https://images.velog.io/images/khkk4953/post/ee28c508-5829-48d5-b5a2-9a5be7536d31/16-2.png)\n",
    "\n",
    "![](https://images.velog.io/images/khkk4953/post/b7ced391-b47b-4e98-8d1d-a8f650ced52c/16-3.png)\n",
    "\n",
    "![](https://images.velog.io/images/khkk4953/post/81718a80-b12c-48f4-8986-13f2da57036f/16-4.png)\n",
    "\n",
    "![](https://images.velog.io/images/khkk4953/post/fe04b365-524f-44a7-832a-6f7a0bb383e1/16-5.png)\n",
    "\n",
    "점차적으로 배치 사이즈를 낮추면 낮출 수록 게이지가 더 차올랐다. 하이퍼파라미터를 변경하며 유의미한 지표 값에 맞추는 것이 목적이었으나, 그냥 훈련게이지를 채우는 것이 목적이 되어버렸던 것 같다.(?)\n",
    "\n",
    "위 결과들로 보았을 때, `Recall@k` 지표와 `MRR@k`가 128부터 32까지는 배치 사이즈를 낮추면 감소하는 경향이 있었으나, 32에서 16으로 낮췄을 때 지표들의 값들이 향상했다. 또한 배치 사이즈가 8으로 낮췄을 때 에포크를 10으로 변경했더니, 그 전보단 조금 유의미한 지표 값들이 결정된 것 같았다. \n",
    "\n",
    "---\n",
    "\n",
    "### 3.2 참조\n",
    "\n",
    "- Time 변환 코드: https://github.com/Jeonda/aiffel/blob/master/%5BE17%5DMovielens_SBR.ipynb\n",
    "\n",
    "- 평가지표: https://zzaebok.github.io/recommender_system/metrics/rec_metrics/\n",
    "\n",
    "---\n",
    "\n",
    "### 3.3 회고\n",
    "\n",
    "- 추천시스템은 정말 흥미로운 주제인 것 같다. 노드를 진행하는 것에 있어 지루함은 없었다. 다만 평가지표에 대한 판단이 어렵고 힘들게 느껴졌다. 대표적으로 정확도 같은 지표는 추천시스템에 적용하기 어렵다고 한다. 추천 시스템에서 아이템을 얼마나 상위권에 잘 올라갔는지, 사용자에게 있어 추천된 아이템 간의 상대적인 선호도가 잘 반영이 되었는지에 만족하는 metric을 찾아야하기 때문이다. 본 노드에서는 `Recall@k` 지표와 `MRR@k`가 사용되었는데, `Recall@k`는 전체 relevant한 아이템 중 추천된 아이템이 속한 비율을 말하고,`MRR@k`는 첫 번째로 등장하는 relevant한 아이템이 우리의 추천상 몇 번째에 위치하는지를 나타내는 지표를 뜻한다. 그리고 @ 뒤에 붙은 k가 추천된 개수를 의미한다. 실제 훈련의 결과 지표들은 유의미한 결과를 가져오지 못했는데, 이런 지표들을 자주 사용하지 못하다보니 명백히 그 기준을 정하기가 애매한 것 같다. 평소 훈련 과정에만 신경을 썼지 훈련 평가에 대해서도 실력이 미비하다는 생각이 들었다. 그렇기에 다양한 지표들을 사용할 줄 알고, 그 기준을 결정할 줄 아는 연습이 필요할 것 같다."
   ]
  },
  {
   "cell_type": "code",
   "execution_count": null,
   "id": "417bc2f5",
   "metadata": {},
   "outputs": [],
   "source": []
  }
 ],
 "metadata": {
  "kernelspec": {
   "display_name": "Python 3 (ipykernel)",
   "language": "python",
   "name": "python3"
  },
  "language_info": {
   "codemirror_mode": {
    "name": "ipython",
    "version": 3
   },
   "file_extension": ".py",
   "mimetype": "text/x-python",
   "name": "python",
   "nbconvert_exporter": "python",
   "pygments_lexer": "ipython3",
   "version": "3.9.7"
  }
 },
 "nbformat": 4,
 "nbformat_minor": 5
}
