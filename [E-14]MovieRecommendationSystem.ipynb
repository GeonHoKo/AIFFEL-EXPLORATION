{
 "cells": [
  {
   "cell_type": "markdown",
   "id": "5bf97587",
   "metadata": {},
   "source": [
    "# [E-14]Movie Recommendation System ( 영화 추천 시스템 )\n",
    "_____\n",
    "\n",
    "## 목차\n",
    "### 1. 개요\n",
    "    1.1 들어가기에 앞서\n",
    "    1.2 루브릭 평가기준\n",
    " \n",
    "### 2. 프로젝트 : Movielens 영화 추천 실습\n",
    "    2.1 데이터 준비 및 전처리\n",
    "    2.2 데이터 분석\n",
    "    2.3 선호하는 영화 ratings에 추가\n",
    "    2.4 CSR matrix\n",
    "    2.5 모델 훈련\n",
    "    2.6 훈련 모델 예측 선호도 파악\n",
    "    2.7 좋아하는 영화와 비슷한 영화 추천\n",
    "    2.8 가장 좋아할 만한 영화 추천\n",
    "### 3. 결론\n",
    "    3.1 회고\n",
    "    \n",
    "-----\n",
    "\n",
    "## 1. 개요\n",
    "\n",
    "### 1.1 들어가기에 앞서\n",
    "\n",
    "#### 학습 목표\n",
    "\n",
    "- 추천 시스템의 개념과 목적을 이해한다.\n",
    "- Implicit 라이브러리를 활용하여 Matrix Factorization(이하 MF) 기반의 추천 모델을 만들어 본다.\n",
    "- 음악 감상 기록을 활용하여 비슷한 아티스트를 찾고 아티스트를 추천해 본다.\n",
    "- 추천 시스템에서 자주 사용되는 데이터 구조인 CSR Matrix을 익힌다\n",
    "- 유저의 행위 데이터 중 Explicit data와 Implicit data의 차이점을 익힌다.\n",
    "- 새로운 데이터셋으로 직접 추천 모델을 만들어 본다.\n",
    "\n",
    "---\n",
    "\n",
    "### 1.2 루브릭 평가기준\n",
    "\n",
    "평가문항|상세기준\n",
    "-|-\n",
    "1. CSR matrix가 정상적으로 만들어졌다.|사용자와 아이템 개수를 바탕으로 정확한 사이즈로 만들었다.\n",
    "2. MF 모델이 정상적으로 훈련되어 그럴듯한 추천이 이루어졌다.|사용자와 아이템 벡터 내적수치가 의미있게 형성되었다.\n",
    "3. 비슷한 영화 찾기와 유저에게 추천하기의 과정이 정상적으로 진행되었다.|MF모델이 예측한 유저 선호도 및 아이템간 유사도, 기여도가 의미있게 측정되었다."
   ]
  },
  {
   "cell_type": "markdown",
   "id": "160b4f7d",
   "metadata": {},
   "source": [
    "---\n",
    "\n",
    "## 2. 프로젝트 : Movielens 영화 추천 실습\n",
    "\n",
    "### 2.1 데이터 준비 및 전처리"
   ]
  },
  {
   "cell_type": "code",
   "execution_count": 1,
   "id": "27bd7ab1",
   "metadata": {},
   "outputs": [
    {
     "data": {
      "text/html": [
       "<div>\n",
       "<style scoped>\n",
       "    .dataframe tbody tr th:only-of-type {\n",
       "        vertical-align: middle;\n",
       "    }\n",
       "\n",
       "    .dataframe tbody tr th {\n",
       "        vertical-align: top;\n",
       "    }\n",
       "\n",
       "    .dataframe thead th {\n",
       "        text-align: right;\n",
       "    }\n",
       "</style>\n",
       "<table border=\"1\" class=\"dataframe\">\n",
       "  <thead>\n",
       "    <tr style=\"text-align: right;\">\n",
       "      <th></th>\n",
       "      <th>user_id</th>\n",
       "      <th>movie_id</th>\n",
       "      <th>ratings</th>\n",
       "      <th>timestamp</th>\n",
       "    </tr>\n",
       "  </thead>\n",
       "  <tbody>\n",
       "    <tr>\n",
       "      <th>0</th>\n",
       "      <td>1</td>\n",
       "      <td>1193</td>\n",
       "      <td>5</td>\n",
       "      <td>978300760</td>\n",
       "    </tr>\n",
       "    <tr>\n",
       "      <th>1</th>\n",
       "      <td>1</td>\n",
       "      <td>661</td>\n",
       "      <td>3</td>\n",
       "      <td>978302109</td>\n",
       "    </tr>\n",
       "    <tr>\n",
       "      <th>2</th>\n",
       "      <td>1</td>\n",
       "      <td>914</td>\n",
       "      <td>3</td>\n",
       "      <td>978301968</td>\n",
       "    </tr>\n",
       "    <tr>\n",
       "      <th>3</th>\n",
       "      <td>1</td>\n",
       "      <td>3408</td>\n",
       "      <td>4</td>\n",
       "      <td>978300275</td>\n",
       "    </tr>\n",
       "    <tr>\n",
       "      <th>4</th>\n",
       "      <td>1</td>\n",
       "      <td>2355</td>\n",
       "      <td>5</td>\n",
       "      <td>978824291</td>\n",
       "    </tr>\n",
       "  </tbody>\n",
       "</table>\n",
       "</div>"
      ],
      "text/plain": [
       "   user_id  movie_id  ratings  timestamp\n",
       "0        1      1193        5  978300760\n",
       "1        1       661        3  978302109\n",
       "2        1       914        3  978301968\n",
       "3        1      3408        4  978300275\n",
       "4        1      2355        5  978824291"
      ]
     },
     "execution_count": 1,
     "metadata": {},
     "output_type": "execute_result"
    }
   ],
   "source": [
    "import os\n",
    "import pandas as pd\n",
    "\n",
    "rating_file_path=os.getenv('HOME') + '/aiffel/recommendata_iu/data/ml-1m/ratings.dat'\n",
    "ratings_cols = ['user_id', 'movie_id', 'ratings', 'timestamp']\n",
    "ratings = pd.read_csv(rating_file_path, sep='::', names=ratings_cols, engine='python', encoding = \"ISO-8859-1\")\n",
    "orginal_data_size = len(ratings)\n",
    "ratings.head()"
   ]
  },
  {
   "cell_type": "code",
   "execution_count": 2,
   "id": "f4a464c0",
   "metadata": {},
   "outputs": [
    {
     "name": "stdout",
     "output_type": "stream",
     "text": [
      "orginal_data_size: 1000209, filtered_data_size: 836478\n",
      "Ratio of Remaining Data is 83.63%\n"
     ]
    }
   ],
   "source": [
    "# 3점 이상만 남깁니다.\n",
    "ratings = ratings[ratings['ratings']>=3]\n",
    "filtered_data_size = len(ratings)\n",
    "\n",
    "print(f'orginal_data_size: {orginal_data_size}, filtered_data_size: {filtered_data_size}')\n",
    "print(f'Ratio of Remaining Data is {filtered_data_size / orginal_data_size:.2%}')"
   ]
  },
  {
   "cell_type": "code",
   "execution_count": 3,
   "id": "6c048972",
   "metadata": {},
   "outputs": [],
   "source": [
    "# ratings 컬럼의 이름을 counts로 바꿉니다.\n",
    "ratings.rename(columns={'ratings':'count'}, inplace=True)"
   ]
  },
  {
   "cell_type": "code",
   "execution_count": 4,
   "id": "edd1fa05",
   "metadata": {},
   "outputs": [
    {
     "data": {
      "text/plain": [
       "0          5\n",
       "1          3\n",
       "2          3\n",
       "3          4\n",
       "4          5\n",
       "          ..\n",
       "1000203    3\n",
       "1000205    5\n",
       "1000206    5\n",
       "1000207    4\n",
       "1000208    4\n",
       "Name: count, Length: 836478, dtype: int64"
      ]
     },
     "execution_count": 4,
     "metadata": {},
     "output_type": "execute_result"
    }
   ],
   "source": [
    "ratings['count']"
   ]
  },
  {
   "cell_type": "code",
   "execution_count": 5,
   "id": "68a77d70",
   "metadata": {},
   "outputs": [
    {
     "data": {
      "text/html": [
       "<div>\n",
       "<style scoped>\n",
       "    .dataframe tbody tr th:only-of-type {\n",
       "        vertical-align: middle;\n",
       "    }\n",
       "\n",
       "    .dataframe tbody tr th {\n",
       "        vertical-align: top;\n",
       "    }\n",
       "\n",
       "    .dataframe thead th {\n",
       "        text-align: right;\n",
       "    }\n",
       "</style>\n",
       "<table border=\"1\" class=\"dataframe\">\n",
       "  <thead>\n",
       "    <tr style=\"text-align: right;\">\n",
       "      <th></th>\n",
       "      <th>movie_id</th>\n",
       "      <th>title</th>\n",
       "      <th>genre</th>\n",
       "    </tr>\n",
       "  </thead>\n",
       "  <tbody>\n",
       "    <tr>\n",
       "      <th>0</th>\n",
       "      <td>1</td>\n",
       "      <td>Toy Story (1995)</td>\n",
       "      <td>Animation|Children's|Comedy</td>\n",
       "    </tr>\n",
       "    <tr>\n",
       "      <th>1</th>\n",
       "      <td>2</td>\n",
       "      <td>Jumanji (1995)</td>\n",
       "      <td>Adventure|Children's|Fantasy</td>\n",
       "    </tr>\n",
       "    <tr>\n",
       "      <th>2</th>\n",
       "      <td>3</td>\n",
       "      <td>Grumpier Old Men (1995)</td>\n",
       "      <td>Comedy|Romance</td>\n",
       "    </tr>\n",
       "    <tr>\n",
       "      <th>3</th>\n",
       "      <td>4</td>\n",
       "      <td>Waiting to Exhale (1995)</td>\n",
       "      <td>Comedy|Drama</td>\n",
       "    </tr>\n",
       "    <tr>\n",
       "      <th>4</th>\n",
       "      <td>5</td>\n",
       "      <td>Father of the Bride Part II (1995)</td>\n",
       "      <td>Comedy</td>\n",
       "    </tr>\n",
       "  </tbody>\n",
       "</table>\n",
       "</div>"
      ],
      "text/plain": [
       "   movie_id                               title                         genre\n",
       "0         1                    Toy Story (1995)   Animation|Children's|Comedy\n",
       "1         2                      Jumanji (1995)  Adventure|Children's|Fantasy\n",
       "2         3             Grumpier Old Men (1995)                Comedy|Romance\n",
       "3         4            Waiting to Exhale (1995)                  Comedy|Drama\n",
       "4         5  Father of the Bride Part II (1995)                        Comedy"
      ]
     },
     "execution_count": 5,
     "metadata": {},
     "output_type": "execute_result"
    }
   ],
   "source": [
    "# 영화 제목을 보기 위해 메타 데이터를 읽어옵니다.\n",
    "movie_file_path=os.getenv('HOME') + '/aiffel/recommendata_iu/data/ml-1m/movies.dat'\n",
    "cols = ['movie_id', 'title', 'genre'] \n",
    "movies = pd.read_csv(movie_file_path, sep='::', names=cols, engine='python', encoding='ISO-8859-1')\n",
    "movies.head()"
   ]
  },
  {
   "cell_type": "code",
   "execution_count": 6,
   "id": "c1b47a35",
   "metadata": {},
   "outputs": [
    {
     "data": {
      "text/html": [
       "<div>\n",
       "<style scoped>\n",
       "    .dataframe tbody tr th:only-of-type {\n",
       "        vertical-align: middle;\n",
       "    }\n",
       "\n",
       "    .dataframe tbody tr th {\n",
       "        vertical-align: top;\n",
       "    }\n",
       "\n",
       "    .dataframe thead th {\n",
       "        text-align: right;\n",
       "    }\n",
       "</style>\n",
       "<table border=\"1\" class=\"dataframe\">\n",
       "  <thead>\n",
       "    <tr style=\"text-align: right;\">\n",
       "      <th></th>\n",
       "      <th>user_id</th>\n",
       "      <th>movie_id</th>\n",
       "      <th>count</th>\n",
       "      <th>timestamp</th>\n",
       "      <th>title</th>\n",
       "      <th>genre</th>\n",
       "    </tr>\n",
       "  </thead>\n",
       "  <tbody>\n",
       "    <tr>\n",
       "      <th>0</th>\n",
       "      <td>1</td>\n",
       "      <td>1193</td>\n",
       "      <td>5</td>\n",
       "      <td>978300760</td>\n",
       "      <td>One Flew Over the Cuckoo's Nest (1975)</td>\n",
       "      <td>Drama</td>\n",
       "    </tr>\n",
       "    <tr>\n",
       "      <th>1</th>\n",
       "      <td>1</td>\n",
       "      <td>661</td>\n",
       "      <td>3</td>\n",
       "      <td>978302109</td>\n",
       "      <td>James and the Giant Peach (1996)</td>\n",
       "      <td>Animation|Children's|Musical</td>\n",
       "    </tr>\n",
       "    <tr>\n",
       "      <th>2</th>\n",
       "      <td>1</td>\n",
       "      <td>914</td>\n",
       "      <td>3</td>\n",
       "      <td>978301968</td>\n",
       "      <td>My Fair Lady (1964)</td>\n",
       "      <td>Musical|Romance</td>\n",
       "    </tr>\n",
       "    <tr>\n",
       "      <th>3</th>\n",
       "      <td>1</td>\n",
       "      <td>3408</td>\n",
       "      <td>4</td>\n",
       "      <td>978300275</td>\n",
       "      <td>Erin Brockovich (2000)</td>\n",
       "      <td>Drama</td>\n",
       "    </tr>\n",
       "    <tr>\n",
       "      <th>4</th>\n",
       "      <td>1</td>\n",
       "      <td>2355</td>\n",
       "      <td>5</td>\n",
       "      <td>978824291</td>\n",
       "      <td>Bug's Life, A (1998)</td>\n",
       "      <td>Animation|Children's|Comedy</td>\n",
       "    </tr>\n",
       "  </tbody>\n",
       "</table>\n",
       "</div>"
      ],
      "text/plain": [
       "   user_id  movie_id  count  timestamp  \\\n",
       "0        1      1193      5  978300760   \n",
       "1        1       661      3  978302109   \n",
       "2        1       914      3  978301968   \n",
       "3        1      3408      4  978300275   \n",
       "4        1      2355      5  978824291   \n",
       "\n",
       "                                    title                         genre  \n",
       "0  One Flew Over the Cuckoo's Nest (1975)                         Drama  \n",
       "1        James and the Giant Peach (1996)  Animation|Children's|Musical  \n",
       "2                     My Fair Lady (1964)               Musical|Romance  \n",
       "3                  Erin Brockovich (2000)                         Drama  \n",
       "4                    Bug's Life, A (1998)   Animation|Children's|Comedy  "
      ]
     },
     "execution_count": 6,
     "metadata": {},
     "output_type": "execute_result"
    }
   ],
   "source": [
    "ratings = ratings.join(movies.set_index('movie_id'), on='movie_id')\n",
    "ratings.head()"
   ]
  },
  {
   "cell_type": "markdown",
   "id": "8c10e1db",
   "metadata": {},
   "source": [
    "---\n",
    "\n",
    "### 2.2 데이터 분석\n",
    "- ratings에 있는 유니크한 영화 개수\n",
    "- ratings에 있는 유니크한 사용자 수\n",
    "- 가장 인기 있는 영화 30개(인기순)"
   ]
  },
  {
   "cell_type": "code",
   "execution_count": 7,
   "id": "b09fcc6e",
   "metadata": {},
   "outputs": [
    {
     "name": "stdout",
     "output_type": "stream",
     "text": [
      "ratings에 있는 유니크한 영화 개수: 3628\n"
     ]
    }
   ],
   "source": [
    "print('ratings에 있는 유니크한 영화 개수:' , ratings['movie_id'].nunique())"
   ]
  },
  {
   "cell_type": "code",
   "execution_count": 8,
   "id": "6d966940",
   "metadata": {},
   "outputs": [
    {
     "name": "stdout",
     "output_type": "stream",
     "text": [
      "ratings에 있는 유니크한 사용자 수: 6039\n"
     ]
    }
   ],
   "source": [
    "print('ratings에 있는 유니크한 사용자 수:' , ratings['user_id'].nunique())"
   ]
  },
  {
   "cell_type": "code",
   "execution_count": 9,
   "id": "da734a94",
   "metadata": {},
   "outputs": [
    {
     "name": "stdout",
     "output_type": "stream",
     "text": [
      "가장 인기 있는 영화 30개, title\n",
      "American Beauty (1999)                                   3211\n",
      "Star Wars: Episode IV - A New Hope (1977)                2910\n",
      "Star Wars: Episode V - The Empire Strikes Back (1980)    2885\n",
      "Star Wars: Episode VI - Return of the Jedi (1983)        2716\n",
      "Saving Private Ryan (1998)                               2561\n",
      "Terminator 2: Judgment Day (1991)                        2509\n",
      "Silence of the Lambs, The (1991)                         2498\n",
      "Raiders of the Lost Ark (1981)                           2473\n",
      "Back to the Future (1985)                                2460\n",
      "Matrix, The (1999)                                       2434\n",
      "Jurassic Park (1993)                                     2413\n",
      "Sixth Sense, The (1999)                                  2385\n",
      "Fargo (1996)                                             2371\n",
      "Braveheart (1995)                                        2314\n",
      "Men in Black (1997)                                      2297\n",
      "Schindler's List (1993)                                  2257\n",
      "Princess Bride, The (1987)                               2252\n",
      "Shakespeare in Love (1998)                               2213\n",
      "L.A. Confidential (1997)                                 2210\n",
      "Shawshank Redemption, The (1994)                         2194\n",
      "Godfather, The (1972)                                    2167\n",
      "Groundhog Day (1993)                                     2121\n",
      "E.T. the Extra-Terrestrial (1982)                        2102\n",
      "Being John Malkovich (1999)                              2066\n",
      "Ghostbusters (1984)                                      2051\n",
      "Pulp Fiction (1994)                                      2030\n",
      "Forrest Gump (1994)                                      2022\n",
      "Terminator, The (1984)                                   2019\n",
      "Toy Story (1995)                                         2000\n",
      "Fugitive, The (1993)                                     1941\n",
      "Name: movie_id, dtype: int64\n"
     ]
    }
   ],
   "source": [
    "movie_count = ratings.groupby('title')['movie_id'].count()\n",
    "print('가장 인기 있는 영화 30개,' , movie_count.sort_values(ascending=False).head(30))"
   ]
  },
  {
   "cell_type": "markdown",
   "id": "35cb56bb",
   "metadata": {},
   "source": [
    "---\n",
    "\n",
    "### 2.3 선호하는 영화 ratings에 추가"
   ]
  },
  {
   "cell_type": "code",
   "execution_count": 10,
   "id": "0d4f4d1f",
   "metadata": {},
   "outputs": [
    {
     "data": {
      "text/html": [
       "<div>\n",
       "<style scoped>\n",
       "    .dataframe tbody tr th:only-of-type {\n",
       "        vertical-align: middle;\n",
       "    }\n",
       "\n",
       "    .dataframe tbody tr th {\n",
       "        vertical-align: top;\n",
       "    }\n",
       "\n",
       "    .dataframe thead th {\n",
       "        text-align: right;\n",
       "    }\n",
       "</style>\n",
       "<table border=\"1\" class=\"dataframe\">\n",
       "  <thead>\n",
       "    <tr style=\"text-align: right;\">\n",
       "      <th></th>\n",
       "      <th>user_id</th>\n",
       "      <th>movie_id</th>\n",
       "      <th>count</th>\n",
       "      <th>timestamp</th>\n",
       "      <th>title</th>\n",
       "      <th>genre</th>\n",
       "    </tr>\n",
       "  </thead>\n",
       "  <tbody>\n",
       "    <tr>\n",
       "      <th>1000203</th>\n",
       "      <td>6040</td>\n",
       "      <td>1090.0</td>\n",
       "      <td>3</td>\n",
       "      <td>956715518.0</td>\n",
       "      <td>Platoon (1986)</td>\n",
       "      <td>Drama|War</td>\n",
       "    </tr>\n",
       "    <tr>\n",
       "      <th>1000205</th>\n",
       "      <td>6040</td>\n",
       "      <td>1094.0</td>\n",
       "      <td>5</td>\n",
       "      <td>956704887.0</td>\n",
       "      <td>Crying Game, The (1992)</td>\n",
       "      <td>Drama|Romance|War</td>\n",
       "    </tr>\n",
       "    <tr>\n",
       "      <th>1000206</th>\n",
       "      <td>6040</td>\n",
       "      <td>562.0</td>\n",
       "      <td>5</td>\n",
       "      <td>956704746.0</td>\n",
       "      <td>Welcome to the Dollhouse (1995)</td>\n",
       "      <td>Comedy|Drama</td>\n",
       "    </tr>\n",
       "    <tr>\n",
       "      <th>1000207</th>\n",
       "      <td>6040</td>\n",
       "      <td>1096.0</td>\n",
       "      <td>4</td>\n",
       "      <td>956715648.0</td>\n",
       "      <td>Sophie's Choice (1982)</td>\n",
       "      <td>Drama</td>\n",
       "    </tr>\n",
       "    <tr>\n",
       "      <th>1000208</th>\n",
       "      <td>6040</td>\n",
       "      <td>1097.0</td>\n",
       "      <td>4</td>\n",
       "      <td>956715569.0</td>\n",
       "      <td>E.T. the Extra-Terrestrial (1982)</td>\n",
       "      <td>Children's|Drama|Fantasy|Sci-Fi</td>\n",
       "    </tr>\n",
       "    <tr>\n",
       "      <th>0</th>\n",
       "      <td>ko</td>\n",
       "      <td>NaN</td>\n",
       "      <td>5</td>\n",
       "      <td>NaN</td>\n",
       "      <td>Back to the Future (1985)</td>\n",
       "      <td>NaN</td>\n",
       "    </tr>\n",
       "    <tr>\n",
       "      <th>1</th>\n",
       "      <td>ko</td>\n",
       "      <td>NaN</td>\n",
       "      <td>5</td>\n",
       "      <td>NaN</td>\n",
       "      <td>Star Wars: Episode IV - A New Hope (1977)</td>\n",
       "      <td>NaN</td>\n",
       "    </tr>\n",
       "    <tr>\n",
       "      <th>2</th>\n",
       "      <td>ko</td>\n",
       "      <td>NaN</td>\n",
       "      <td>5</td>\n",
       "      <td>NaN</td>\n",
       "      <td>Matrix, The (1999)</td>\n",
       "      <td>NaN</td>\n",
       "    </tr>\n",
       "    <tr>\n",
       "      <th>3</th>\n",
       "      <td>ko</td>\n",
       "      <td>NaN</td>\n",
       "      <td>5</td>\n",
       "      <td>NaN</td>\n",
       "      <td>Toy Story (1995)</td>\n",
       "      <td>NaN</td>\n",
       "    </tr>\n",
       "    <tr>\n",
       "      <th>4</th>\n",
       "      <td>ko</td>\n",
       "      <td>NaN</td>\n",
       "      <td>5</td>\n",
       "      <td>NaN</td>\n",
       "      <td>Men in Black (1997)</td>\n",
       "      <td>NaN</td>\n",
       "    </tr>\n",
       "  </tbody>\n",
       "</table>\n",
       "</div>"
      ],
      "text/plain": [
       "        user_id  movie_id  count    timestamp  \\\n",
       "1000203    6040    1090.0      3  956715518.0   \n",
       "1000205    6040    1094.0      5  956704887.0   \n",
       "1000206    6040     562.0      5  956704746.0   \n",
       "1000207    6040    1096.0      4  956715648.0   \n",
       "1000208    6040    1097.0      4  956715569.0   \n",
       "0            ko       NaN      5          NaN   \n",
       "1            ko       NaN      5          NaN   \n",
       "2            ko       NaN      5          NaN   \n",
       "3            ko       NaN      5          NaN   \n",
       "4            ko       NaN      5          NaN   \n",
       "\n",
       "                                             title  \\\n",
       "1000203                             Platoon (1986)   \n",
       "1000205                    Crying Game, The (1992)   \n",
       "1000206            Welcome to the Dollhouse (1995)   \n",
       "1000207                     Sophie's Choice (1982)   \n",
       "1000208          E.T. the Extra-Terrestrial (1982)   \n",
       "0                        Back to the Future (1985)   \n",
       "1        Star Wars: Episode IV - A New Hope (1977)   \n",
       "2                               Matrix, The (1999)   \n",
       "3                                 Toy Story (1995)   \n",
       "4                              Men in Black (1997)   \n",
       "\n",
       "                                   genre  \n",
       "1000203                        Drama|War  \n",
       "1000205                Drama|Romance|War  \n",
       "1000206                     Comedy|Drama  \n",
       "1000207                            Drama  \n",
       "1000208  Children's|Drama|Fantasy|Sci-Fi  \n",
       "0                                    NaN  \n",
       "1                                    NaN  \n",
       "2                                    NaN  \n",
       "3                                    NaN  \n",
       "4                                    NaN  "
      ]
     },
     "execution_count": 10,
     "metadata": {},
     "output_type": "execute_result"
    }
   ],
   "source": [
    "# 내가 선호하는 영화 5가지 추가\n",
    "my_favorite = ['Back to the Future (1985)','Star Wars: Episode IV - A New Hope (1977)','Matrix, The (1999)','Toy Story (1995)','Men in Black (1997)']\n",
    "\n",
    "my_movie = pd.DataFrame({'user_id': ['ko']*5, 'title': my_favorite, 'count': [5]*5})\n",
    "\n",
    "if not ratings.isin({'user_id':['ko']})['user_id'].any():  \n",
    "    ratings = ratings.append(my_movie)                         \n",
    "\n",
    "ratings.tail(10)      "
   ]
  },
  {
   "cell_type": "markdown",
   "id": "13c4f1b1",
   "metadata": {},
   "source": [
    "---\n",
    "\n",
    "### 2.4 CSR matrix"
   ]
  },
  {
   "cell_type": "code",
   "execution_count": 11,
   "id": "f0a306e1",
   "metadata": {},
   "outputs": [],
   "source": [
    "# 고유한 유저, 영화를 찾아내는 코드\n",
    "user_unique = ratings['user_id'].unique()\n",
    "movie_unique = ratings['title'].unique()\n",
    "\n",
    "# 유저, 영화 indexing 하는 코드 idx는 index의 약자입니다.\n",
    "user_to_idx = {v:k for k,v in enumerate(user_unique)}\n",
    "movie_to_idx = {v:k for k,v in enumerate(movie_unique)}"
   ]
  },
  {
   "cell_type": "code",
   "execution_count": 12,
   "id": "c9568d4f",
   "metadata": {},
   "outputs": [
    {
     "name": "stdout",
     "output_type": "stream",
     "text": [
      "user_id column indexing OK!!\n",
      "movie column indexing OK!!\n"
     ]
    },
    {
     "data": {
      "text/html": [
       "<div>\n",
       "<style scoped>\n",
       "    .dataframe tbody tr th:only-of-type {\n",
       "        vertical-align: middle;\n",
       "    }\n",
       "\n",
       "    .dataframe tbody tr th {\n",
       "        vertical-align: top;\n",
       "    }\n",
       "\n",
       "    .dataframe thead th {\n",
       "        text-align: right;\n",
       "    }\n",
       "</style>\n",
       "<table border=\"1\" class=\"dataframe\">\n",
       "  <thead>\n",
       "    <tr style=\"text-align: right;\">\n",
       "      <th></th>\n",
       "      <th>user_id</th>\n",
       "      <th>movie_id</th>\n",
       "      <th>count</th>\n",
       "      <th>timestamp</th>\n",
       "      <th>title</th>\n",
       "      <th>genre</th>\n",
       "    </tr>\n",
       "  </thead>\n",
       "  <tbody>\n",
       "    <tr>\n",
       "      <th>0</th>\n",
       "      <td>0</td>\n",
       "      <td>1193.0</td>\n",
       "      <td>5</td>\n",
       "      <td>978300760.0</td>\n",
       "      <td>0</td>\n",
       "      <td>Drama</td>\n",
       "    </tr>\n",
       "    <tr>\n",
       "      <th>1</th>\n",
       "      <td>0</td>\n",
       "      <td>661.0</td>\n",
       "      <td>3</td>\n",
       "      <td>978302109.0</td>\n",
       "      <td>1</td>\n",
       "      <td>Animation|Children's|Musical</td>\n",
       "    </tr>\n",
       "    <tr>\n",
       "      <th>2</th>\n",
       "      <td>0</td>\n",
       "      <td>914.0</td>\n",
       "      <td>3</td>\n",
       "      <td>978301968.0</td>\n",
       "      <td>2</td>\n",
       "      <td>Musical|Romance</td>\n",
       "    </tr>\n",
       "    <tr>\n",
       "      <th>3</th>\n",
       "      <td>0</td>\n",
       "      <td>3408.0</td>\n",
       "      <td>4</td>\n",
       "      <td>978300275.0</td>\n",
       "      <td>3</td>\n",
       "      <td>Drama</td>\n",
       "    </tr>\n",
       "    <tr>\n",
       "      <th>4</th>\n",
       "      <td>0</td>\n",
       "      <td>2355.0</td>\n",
       "      <td>5</td>\n",
       "      <td>978824291.0</td>\n",
       "      <td>4</td>\n",
       "      <td>Animation|Children's|Comedy</td>\n",
       "    </tr>\n",
       "    <tr>\n",
       "      <th>...</th>\n",
       "      <td>...</td>\n",
       "      <td>...</td>\n",
       "      <td>...</td>\n",
       "      <td>...</td>\n",
       "      <td>...</td>\n",
       "      <td>...</td>\n",
       "    </tr>\n",
       "    <tr>\n",
       "      <th>0</th>\n",
       "      <td>6039</td>\n",
       "      <td>NaN</td>\n",
       "      <td>5</td>\n",
       "      <td>NaN</td>\n",
       "      <td>22</td>\n",
       "      <td>NaN</td>\n",
       "    </tr>\n",
       "    <tr>\n",
       "      <th>1</th>\n",
       "      <td>6039</td>\n",
       "      <td>NaN</td>\n",
       "      <td>5</td>\n",
       "      <td>NaN</td>\n",
       "      <td>44</td>\n",
       "      <td>NaN</td>\n",
       "    </tr>\n",
       "    <tr>\n",
       "      <th>2</th>\n",
       "      <td>6039</td>\n",
       "      <td>NaN</td>\n",
       "      <td>5</td>\n",
       "      <td>NaN</td>\n",
       "      <td>124</td>\n",
       "      <td>NaN</td>\n",
       "    </tr>\n",
       "    <tr>\n",
       "      <th>3</th>\n",
       "      <td>6039</td>\n",
       "      <td>NaN</td>\n",
       "      <td>5</td>\n",
       "      <td>NaN</td>\n",
       "      <td>40</td>\n",
       "      <td>NaN</td>\n",
       "    </tr>\n",
       "    <tr>\n",
       "      <th>4</th>\n",
       "      <td>6039</td>\n",
       "      <td>NaN</td>\n",
       "      <td>5</td>\n",
       "      <td>NaN</td>\n",
       "      <td>175</td>\n",
       "      <td>NaN</td>\n",
       "    </tr>\n",
       "  </tbody>\n",
       "</table>\n",
       "<p>836483 rows × 6 columns</p>\n",
       "</div>"
      ],
      "text/plain": [
       "    user_id  movie_id  count    timestamp  title                         genre\n",
       "0         0    1193.0      5  978300760.0      0                         Drama\n",
       "1         0     661.0      3  978302109.0      1  Animation|Children's|Musical\n",
       "2         0     914.0      3  978301968.0      2               Musical|Romance\n",
       "3         0    3408.0      4  978300275.0      3                         Drama\n",
       "4         0    2355.0      5  978824291.0      4   Animation|Children's|Comedy\n",
       "..      ...       ...    ...          ...    ...                           ...\n",
       "0      6039       NaN      5          NaN     22                           NaN\n",
       "1      6039       NaN      5          NaN     44                           NaN\n",
       "2      6039       NaN      5          NaN    124                           NaN\n",
       "3      6039       NaN      5          NaN     40                           NaN\n",
       "4      6039       NaN      5          NaN    175                           NaN\n",
       "\n",
       "[836483 rows x 6 columns]"
      ]
     },
     "execution_count": 12,
     "metadata": {},
     "output_type": "execute_result"
    }
   ],
   "source": [
    "# indexing을 통해 데이터 컬럼 내 값을 바꾸는 코드\n",
    "# dictionary 자료형의 get 함수는 https://wikidocs.net/16 을 참고하세요.\n",
    "\n",
    "# user_to_idx.get을 통해 user_id 컬럼의 모든 값을 인덱싱한 Series를 구해 봅시다. \n",
    "# 혹시 정상적으로 인덱싱되지 않은 row가 있다면 인덱스가 NaN이 될 테니 dropna()로 제거합니다. \n",
    "temp_user_data = ratings['user_id'].map(user_to_idx.get).dropna()\n",
    "if len(temp_user_data) == len(ratings): # 모든 row가 정상적으로 인덱싱되었다면\n",
    "    print('user_id column indexing OK!!')\n",
    "    ratings['user_id'] = temp_user_data # ratings['user_id']을 인덱싱된 Series로 교체해 줍니다. \n",
    "else:\n",
    "    print('user_id column indexing Fail!!')\n",
    "\n",
    "# movie_to_idx을 통해 movie 컬럼도 동일한 방식으로 인덱싱해 줍니다. \n",
    "temp_movie_data = ratings['title'].map(movie_to_idx.get).dropna()\n",
    "if len(temp_movie_data) == len(ratings):\n",
    "    print('movie column indexing OK!!')\n",
    "    ratings['title'] = temp_movie_data\n",
    "else:\n",
    "    print('movie column indexing Fail!!')\n",
    "\n",
    "ratings"
   ]
  },
  {
   "cell_type": "code",
   "execution_count": 13,
   "id": "df1e019d",
   "metadata": {},
   "outputs": [
    {
     "data": {
      "text/plain": [
       "<6040x3628 sparse matrix of type '<class 'numpy.int64'>'\n",
       "\twith 836483 stored elements in Compressed Sparse Row format>"
      ]
     },
     "execution_count": 13,
     "metadata": {},
     "output_type": "execute_result"
    }
   ],
   "source": [
    "from scipy.sparse import csr_matrix\n",
    "\n",
    "num_user = ratings['user_id'].nunique()\n",
    "num_movie = ratings['title'].nunique()\n",
    "\n",
    "csr_data = csr_matrix((ratings['count'], (ratings.user_id, ratings.title)), shape= (num_user, num_movie))\n",
    "csr_data"
   ]
  },
  {
   "cell_type": "markdown",
   "id": "0ca20f66",
   "metadata": {},
   "source": [
    "---\n",
    "\n",
    "### 2.5 모델 훈련"
   ]
  },
  {
   "cell_type": "code",
   "execution_count": 14,
   "id": "04c1682e",
   "metadata": {},
   "outputs": [],
   "source": [
    "from implicit.als import AlternatingLeastSquares\n",
    "import os\n",
    "import numpy as np\n",
    "\n",
    "# implicit 라이브러리에서 권장하고 있는 부분입니다. 학습 내용과는 무관합니다.\n",
    "os.environ['OPENBLAS_NUM_THREADS']='1'\n",
    "os.environ['KMP_DUPLICATE_LIB_OK']='True'\n",
    "os.environ['MKL_NUM_THREADS']='1'"
   ]
  },
  {
   "cell_type": "code",
   "execution_count": 15,
   "id": "bd8cc37e",
   "metadata": {},
   "outputs": [],
   "source": [
    "# Implicit AlternatingLeastSquares 모델의 선언\n",
    "als_model = AlternatingLeastSquares(factors=100, regularization=0.01, use_gpu=False, iterations=15, dtype=np.float32)"
   ]
  },
  {
   "cell_type": "code",
   "execution_count": 16,
   "id": "7b6614d9",
   "metadata": {},
   "outputs": [
    {
     "data": {
      "text/plain": [
       "<3628x6040 sparse matrix of type '<class 'numpy.int64'>'\n",
       "\twith 836483 stored elements in Compressed Sparse Column format>"
      ]
     },
     "execution_count": 16,
     "metadata": {},
     "output_type": "execute_result"
    }
   ],
   "source": [
    "# als 모델은 input으로 (item X user 꼴의 matrix를 받기 때문에 Transpose해줍니다.)\n",
    "csr_data_transpose = csr_data.T\n",
    "csr_data_transpose"
   ]
  },
  {
   "cell_type": "code",
   "execution_count": 17,
   "id": "6e691734",
   "metadata": {},
   "outputs": [
    {
     "data": {
      "application/vnd.jupyter.widget-view+json": {
       "model_id": "6fc32569d62941588d0208e2ca709f3a",
       "version_major": 2,
       "version_minor": 0
      },
      "text/plain": [
       "  0%|          | 0/15 [00:00<?, ?it/s]"
      ]
     },
     "metadata": {},
     "output_type": "display_data"
    }
   ],
   "source": [
    "# 모델 훈련\n",
    "als_model.fit(csr_data_transpose)"
   ]
  },
  {
   "cell_type": "markdown",
   "id": "ab208072",
   "metadata": {},
   "source": [
    "---\n",
    "\n",
    "### 2.6 훈련 모델 예측 선호도 파악"
   ]
  },
  {
   "cell_type": "code",
   "execution_count": 18,
   "id": "d1ad955a",
   "metadata": {},
   "outputs": [],
   "source": [
    "ko, MeninBlack = user_to_idx['ko'], movie_to_idx['Men in Black (1997)']\n",
    "ko_vector, MeninBlack_vector = als_model.user_factors[ko], als_model.item_factors[MeninBlack]"
   ]
  },
  {
   "cell_type": "code",
   "execution_count": 19,
   "id": "bccf86d6",
   "metadata": {},
   "outputs": [
    {
     "data": {
      "text/plain": [
       "array([ 0.45921877, -0.30240497, -0.59310687,  0.21959107, -0.6245374 ,\n",
       "       -0.3372988 , -0.20566013,  0.41829735,  0.05237757,  0.09820794,\n",
       "       -0.69875693,  0.40466577, -0.367896  ,  0.23035811,  0.0984997 ,\n",
       "       -0.88648236, -0.29833612,  1.1043415 , -0.66508126, -0.58340555,\n",
       "       -0.5484292 ,  0.14986451,  0.15036099, -0.22534369, -0.7592236 ,\n",
       "       -0.6150386 , -0.37434933,  1.4717165 , -0.7448279 ,  0.30980304,\n",
       "        1.0818845 , -0.46234187, -0.6855248 ,  0.1624192 , -0.8706486 ,\n",
       "       -0.41839656, -0.6227432 , -0.16861048,  0.6227385 , -0.20289762,\n",
       "       -0.3819988 ,  0.18903935, -0.4712854 , -0.5205131 ,  0.20798653,\n",
       "        0.40405145, -0.2779579 , -0.38001984,  0.05329349,  0.6839678 ,\n",
       "        0.1265085 , -0.24700598, -0.21884325,  0.6078734 ,  0.57897633,\n",
       "       -0.2456272 ,  0.83956516,  0.28668764,  0.09068739, -0.15607758,\n",
       "       -0.6582305 , -0.18805815, -0.2251843 , -0.19878334,  0.45781893,\n",
       "        0.65187025, -0.17733791, -0.36454085,  0.5149252 ,  0.71565676,\n",
       "        0.64446735,  0.33706313, -0.7988108 , -0.02038531,  0.09791143,\n",
       "        0.5281461 ,  0.67098796,  0.11218604, -0.02972435,  0.9436198 ,\n",
       "        0.21721534,  0.24294637,  0.44603407,  0.11757705, -0.16660228,\n",
       "       -0.11553685,  0.6212781 , -0.20695876, -0.43119177,  0.40922147,\n",
       "        1.7033722 ,  0.18172403, -0.20864815,  0.5998409 ,  0.10492199,\n",
       "       -0.5166188 , -0.8571322 , -0.65714353,  1.009492  ,  0.49039996],\n",
       "      dtype=float32)"
      ]
     },
     "execution_count": 19,
     "metadata": {},
     "output_type": "execute_result"
    }
   ],
   "source": [
    "ko_vector"
   ]
  },
  {
   "cell_type": "code",
   "execution_count": 20,
   "id": "fbcabaeb",
   "metadata": {},
   "outputs": [
    {
     "data": {
      "text/plain": [
       "array([-0.0196028 , -0.00202192, -0.00154387, -0.01349692,  0.00449033,\n",
       "       -0.0070859 , -0.0090687 ,  0.00158368, -0.01088107,  0.00649552,\n",
       "       -0.00252263,  0.02439101, -0.01211689,  0.03195802,  0.02887593,\n",
       "       -0.02249205,  0.01716151,  0.02424812, -0.01305749, -0.03152207,\n",
       "        0.01694363,  0.01888449,  0.02096028,  0.00500338, -0.00557387,\n",
       "       -0.01189309,  0.02350542,  0.0370496 ,  0.01127739,  0.01957458,\n",
       "        0.0576139 , -0.02800113, -0.01304858,  0.02841585, -0.01436681,\n",
       "       -0.00950512, -0.02465231, -0.00165242,  0.00927619,  0.002062  ,\n",
       "        0.00632879,  0.02027165,  0.02764341, -0.00843192, -0.00767748,\n",
       "        0.00976668,  0.02802345, -0.01057083,  0.03644473, -0.00404717,\n",
       "        0.01519912, -0.0117071 , -0.0180267 ,  0.03202694,  0.03662358,\n",
       "       -0.01230396,  0.0214807 , -0.00309398, -0.01319056,  0.00931618,\n",
       "       -0.01572387,  0.00948958, -0.01345964,  0.00392986,  0.01618493,\n",
       "        0.04841513,  0.00444891, -0.00576006,  0.00158395,  0.02212287,\n",
       "        0.01152292,  0.00990736,  0.01584145,  0.00784883,  0.00565208,\n",
       "        0.01459966,  0.03519623,  0.00814832,  0.01481017,  0.01561704,\n",
       "        0.01284436, -0.01064961, -0.00289935,  0.02426599,  0.01894881,\n",
       "       -0.00777002, -0.02964136,  0.01856897, -0.01283609, -0.00576022,\n",
       "        0.04330955, -0.00852616,  0.02183051,  0.00667593, -0.00845745,\n",
       "        0.00635436, -0.02110231, -0.00184779,  0.02227766,  0.03499361],\n",
       "      dtype=float32)"
      ]
     },
     "execution_count": 20,
     "metadata": {},
     "output_type": "execute_result"
    }
   ],
   "source": [
    "MeninBlack_vector"
   ]
  },
  {
   "cell_type": "code",
   "execution_count": 21,
   "id": "1d5f857f",
   "metadata": {},
   "outputs": [
    {
     "data": {
      "text/plain": [
       "0.5406644"
      ]
     },
     "execution_count": 21,
     "metadata": {},
     "output_type": "execute_result"
    }
   ],
   "source": [
    "# ko와 Star_Was를 내적하는 코드\n",
    "np.dot(ko_vector, MeninBlack_vector)"
   ]
  },
  {
   "cell_type": "code",
   "execution_count": 22,
   "id": "cec4efef",
   "metadata": {},
   "outputs": [
    {
     "data": {
      "text/plain": [
       "0.04050297"
      ]
     },
     "execution_count": 22,
     "metadata": {},
     "output_type": "execute_result"
    }
   ],
   "source": [
    "Fargo = movie_to_idx['Fargo (1996)']\n",
    "Fargo_vector = als_model.item_factors[Fargo]\n",
    "np.dot(ko_vector, Fargo_vector)"
   ]
  },
  {
   "cell_type": "markdown",
   "id": "533d4e84",
   "metadata": {},
   "source": [
    "---\n",
    "\n",
    "### 2.7 좋아하는 영화와 비슷한 영화 추천"
   ]
  },
  {
   "cell_type": "code",
   "execution_count": 23,
   "id": "be2305dc",
   "metadata": {},
   "outputs": [
    {
     "data": {
      "text/plain": [
       "[(175, 1.0000002),\n",
       " (107, 0.84290457),\n",
       " (92, 0.6361099),\n",
       " (62, 0.5968012),\n",
       " (124, 0.48516345),\n",
       " (145, 0.47120306),\n",
       " (150, 0.4638064),\n",
       " (82, 0.44437888),\n",
       " (375, 0.4334118),\n",
       " (542, 0.42934904),\n",
       " (3466, 0.4279059),\n",
       " (670, 0.40846616),\n",
       " (320, 0.39245856),\n",
       " (138, 0.39071313),\n",
       " (87, 0.36646843)]"
      ]
     },
     "execution_count": 23,
     "metadata": {},
     "output_type": "execute_result"
    }
   ],
   "source": [
    "favorite_movie = 'Men in Black (1997)'\n",
    "movie_id = movie_to_idx[favorite_movie]\n",
    "similar_movie = als_model.similar_items(movie_id, N=15)\n",
    "similar_movie"
   ]
  },
  {
   "cell_type": "code",
   "execution_count": 24,
   "id": "9ff358c5",
   "metadata": {},
   "outputs": [
    {
     "data": {
      "text/plain": [
       "['Men in Black (1997)',\n",
       " 'Jurassic Park (1993)',\n",
       " 'Terminator 2: Judgment Day (1991)',\n",
       " 'Total Recall (1990)',\n",
       " 'Matrix, The (1999)',\n",
       " 'Fifth Element, The (1997)',\n",
       " 'Independence Day (ID4) (1996)',\n",
       " 'Lost World: Jurassic Park, The (1997)',\n",
       " 'Face/Off (1997)',\n",
       " 'Rocky Horror Picture Show, The (1975)',\n",
       " 'Schlafes Bruder (Brother of Sleep) (1995)',\n",
       " 'Galaxy Quest (1999)',\n",
       " 'Bob Roberts (1992)',\n",
       " 'True Lies (1994)',\n",
       " 'Braveheart (1995)']"
      ]
     },
     "execution_count": 24,
     "metadata": {},
     "output_type": "execute_result"
    }
   ],
   "source": [
    "idx_to_movie = {v:k for k,v in movie_to_idx.items()}\n",
    "[idx_to_movie[i[0]] for i in similar_movie]"
   ]
  },
  {
   "cell_type": "code",
   "execution_count": 25,
   "id": "57fb2ada",
   "metadata": {},
   "outputs": [],
   "source": [
    "def get_similar_movie(movie_title: str):\n",
    "    movie_id = movie_to_idx[movie_title]\n",
    "    similar_movie = als_model.similar_items(movie_id, N=15)\n",
    "    similar_movie = [idx_to_movie[i[0]] for i in similar_movie]\n",
    "    return similar_movie"
   ]
  },
  {
   "cell_type": "code",
   "execution_count": 27,
   "id": "c90e0b2b",
   "metadata": {},
   "outputs": [
    {
     "data": {
      "text/plain": [
       "['Star Wars: Episode IV - A New Hope (1977)',\n",
       " 'Star Wars: Episode V - The Empire Strikes Back (1980)',\n",
       " 'Raiders of the Lost Ark (1981)',\n",
       " 'Star Wars: Episode VI - Return of the Jedi (1983)',\n",
       " 'Terminator, The (1984)',\n",
       " 'Alien (1979)',\n",
       " 'Matrix, The (1999)',\n",
       " 'Star Wars: Episode I - The Phantom Menace (1999)',\n",
       " 'Indiana Jones and the Last Crusade (1989)',\n",
       " 'Back to the Future (1985)',\n",
       " 'E.T. the Extra-Terrestrial (1982)',\n",
       " 'Terminator 2: Judgment Day (1991)',\n",
       " 'Aliens (1986)',\n",
       " 'Blade Runner (1982)',\n",
       " 'Jaws (1975)']"
      ]
     },
     "execution_count": 27,
     "metadata": {},
     "output_type": "execute_result"
    }
   ],
   "source": [
    "get_similar_movie('Star Wars: Episode IV - A New Hope (1977)')"
   ]
  },
  {
   "cell_type": "markdown",
   "id": "4be3d5f7",
   "metadata": {},
   "source": [
    "---\n",
    "\n",
    "### 2.8 가장 좋아할 만한 영화 추천"
   ]
  },
  {
   "cell_type": "code",
   "execution_count": 28,
   "id": "7df3db20",
   "metadata": {},
   "outputs": [
    {
     "data": {
      "text/plain": [
       "[(92, 0.5666804),\n",
       " (117, 0.54229254),\n",
       " (64, 0.53713334),\n",
       " (107, 0.5250795),\n",
       " (120, 0.40227902),\n",
       " (60, 0.3796824),\n",
       " (50, 0.33797595),\n",
       " (200, 0.33239767),\n",
       " (26, 0.32249716),\n",
       " (62, 0.31308138),\n",
       " (5, 0.312742),\n",
       " (160, 0.29527792),\n",
       " (87, 0.2915262),\n",
       " (110, 0.29151115),\n",
       " (48, 0.2710328)]"
      ]
     },
     "execution_count": 28,
     "metadata": {},
     "output_type": "execute_result"
    }
   ],
   "source": [
    "user = user_to_idx['ko']\n",
    "# recommend에서는 user*item CSR Matrix를 받습니다.\n",
    "movie_recommended = als_model.recommend(user, csr_data, N=15, filter_already_liked_items=True)\n",
    "movie_recommended"
   ]
  },
  {
   "cell_type": "code",
   "execution_count": 29,
   "id": "178fb740",
   "metadata": {},
   "outputs": [
    {
     "data": {
      "text/plain": [
       "['Terminator 2: Judgment Day (1991)',\n",
       " 'Star Wars: Episode V - The Empire Strikes Back (1980)',\n",
       " 'Star Wars: Episode VI - Return of the Jedi (1983)',\n",
       " 'Jurassic Park (1993)',\n",
       " 'Raiders of the Lost Ark (1981)',\n",
       " 'Star Wars: Episode I - The Phantom Menace (1999)',\n",
       " 'Toy Story 2 (1999)',\n",
       " 'Terminator, The (1984)',\n",
       " 'E.T. the Extra-Terrestrial (1982)',\n",
       " 'Total Recall (1990)',\n",
       " 'Princess Bride, The (1987)',\n",
       " 'Forrest Gump (1994)',\n",
       " 'Braveheart (1995)',\n",
       " 'Groundhog Day (1993)',\n",
       " 'Saving Private Ryan (1998)']"
      ]
     },
     "execution_count": 29,
     "metadata": {},
     "output_type": "execute_result"
    }
   ],
   "source": [
    "[idx_to_movie[i[0]] for i in movie_recommended]"
   ]
  },
  {
   "cell_type": "code",
   "execution_count": 30,
   "id": "3066213d",
   "metadata": {},
   "outputs": [],
   "source": [
    "StarWars = movie_to_idx['Star Wars: Episode V - The Empire Strikes Back (1980)']\n",
    "explain = als_model.explain(user, csr_data, itemid=StarWars)"
   ]
  },
  {
   "cell_type": "code",
   "execution_count": 31,
   "id": "78bb3b8b",
   "metadata": {},
   "outputs": [
    {
     "data": {
      "text/plain": [
       "[('Star Wars: Episode IV - A New Hope (1977)', 0.3627000051949986),\n",
       " ('Back to the Future (1985)', 0.09040243436825258),\n",
       " ('Matrix, The (1999)', 0.05749216278212149),\n",
       " ('Men in Black (1997)', 0.015028301775183054),\n",
       " ('Toy Story (1995)', 0.0065962631161603415)]"
      ]
     },
     "execution_count": 31,
     "metadata": {},
     "output_type": "execute_result"
    }
   ],
   "source": [
    "[(idx_to_movie[i[0]], i[1]) for i in explain[1]]"
   ]
  },
  {
   "cell_type": "markdown",
   "id": "f5ee570b",
   "metadata": {},
   "source": [
    "---\n",
    "\n",
    "## 3. 결론\n",
    "### 3.1 회고"
   ]
  },
  {
   "cell_type": "markdown",
   "id": "b3e85dc1",
   "metadata": {},
   "source": [
    "- 이번 노드는 개인적으로 재미가 붙었던 것 같다. 추천 시스템에 대해 자세히 다루어 볼 수 있어 흥미로웠기 때문이다. 다만 중간에.. 오류나 벡터 내적수치가 음수로 나와서 고생좀 했던 것 같다. 제목(title)에 데이터와 같은 제목으로 달아주지 않았기에 예상치 못했던 상황들도 생겼었는데, 년도를 포함한 풀네임으로 title을 작성했기 때문이었다. 또 아쉬웠던 점은 데이터셋에 최신 영화는 반영되지 않은 것 같았다. 내가 평소 선호하던 영화들을 기입하지 못했고, 대부분 20세기의 영화이기에 정보가 부족하여 제대로된 추천을 받았는지 알 수가 없어서 아쉬움이 크게 남는다."
   ]
  },
  {
   "cell_type": "code",
   "execution_count": null,
   "id": "2faaa5b0",
   "metadata": {},
   "outputs": [],
   "source": []
  }
 ],
 "metadata": {
  "kernelspec": {
   "display_name": "Python 3 (ipykernel)",
   "language": "python",
   "name": "python3"
  },
  "language_info": {
   "codemirror_mode": {
    "name": "ipython",
    "version": 3
   },
   "file_extension": ".py",
   "mimetype": "text/x-python",
   "name": "python",
   "nbconvert_exporter": "python",
   "pygments_lexer": "ipython3",
   "version": "3.9.7"
  }
 },
 "nbformat": 4,
 "nbformat_minor": 5
}
